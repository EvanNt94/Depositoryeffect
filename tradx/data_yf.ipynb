{
 "cells": [
  {
   "cell_type": "markdown",
   "metadata": {},
   "source": [
    "# Holen aller Symbole der stockexchanges (map)"
   ]
  },
  {
   "cell_type": "code",
   "execution_count": null,
   "metadata": {},
   "outputs": [],
   "source": [
    "import os, json\n",
    "data_folder  = \"/Users/a2/code/fin/trade/data/financial\"\n",
    "sx_symbol_map = {}\n",
    "tickers = os.listdir(data_folder)\n",
    "for ticker in tickers:\n",
    "    with open(os.path.join(data_folder, ticker, \"symbols.json\"), \"r\") as f:\n",
    "        sx_symbol_map[ticker]  = json.load(f)\n"
   ]
  },
  {
   "cell_type": "code",
   "execution_count": 21,
   "metadata": {},
   "outputs": [],
   "source": [
    "# holen der specinal isin\n",
    "import json\n",
    "with open(\"/Users/a2/code/fin/trade/select.json\", \"r\") as f:\n",
    "    isins = json.load(f)\n",
    "\n",
    "with open(\"/Users/a2/code/fin/trade/data/financial/F/d_ISIN_symbol.json\", \"r\") as f:\n",
    "    isy = json.load(f)\n",
    "\n",
    "stocks = [isy[i] + \".F\" for i in isins]"
   ]
  },
  {
   "cell_type": "markdown",
   "metadata": {},
   "source": [
    "# Minutendaten"
   ]
  },
  {
   "cell_type": "code",
   "execution_count": 22,
   "metadata": {},
   "outputs": [],
   "source": [
    "import yfinance as yf\n",
    "from requests import Session\n",
    "from requests_cache import CacheMixin, SQLiteCache\n",
    "from requests_ratelimiter import LimiterMixin, MemoryQueueBucket\n",
    "from pyrate_limiter import Duration, RequestRate, Limiter\n",
    "class CachedLimiterSession(CacheMixin, LimiterMixin, Session):\n",
    "    pass\n",
    "\n",
    "session = CachedLimiterSession(\n",
    "    limiter=Limiter(RequestRate(2, Duration.SECOND*5)),  # max 2 requests per 5 seconds\n",
    "    bucket_class=MemoryQueueBucket,\n",
    "    backend=SQLiteCache(\"yfinance.cache\"),\n",
    ")\n",
    "\n",
    "\n"
   ]
  },
  {
   "cell_type": "code",
   "execution_count": 23,
   "metadata": {},
   "outputs": [
    {
     "name": "stdout",
     "output_type": "stream",
     "text": [
      "Fetching data for ADS.F...\n",
      "Fetching data for AIR.F...\n",
      "Fetching data for ALV.F...\n",
      "Fetching data for BAS.F...\n",
      "Fetching data for BMW.F...\n",
      "Fetching data for BAYN.F...\n",
      "Fetching data for BEI.F...\n",
      "Fetching data for BNR.F...\n",
      "Fetching data for CBK.F...\n",
      "Fetching data for CON.F...\n",
      "Fetching data for 1COV.F...\n",
      "Fetching data for DTG.F...\n",
      "Fetching data for DBK.F...\n",
      "Fetching data for DB1.F...\n",
      "Fetching data for DHL.F...\n",
      "Fetching data for P911.F...\n",
      "Fetching data for DTE.F...\n",
      "Fetching data for EOAN.F...\n",
      "Fetching data for FRE.F...\n",
      "Fetching data for HNR1.F...\n",
      "Fetching data for HEI.F...\n",
      "Fetching data for HEN3.F...\n",
      "Fetching data for IFX.F...\n",
      "Fetching data for MBG.F...\n",
      "Daten wurden erfolgreich gespeichert.\n"
     ]
    }
   ],
   "source": [
    "import yfinance as yf\n",
    "import pandas as pd, os\n",
    "\n",
    "import requests_cache\n",
    "\n",
    "session = requests_cache.CachedSession('yfinance.cache')\n",
    "session.headers['User-agent'] = 'my-program/1.0'\n",
    "# ticker = yf.Ticker('msft', session=session)\n",
    "# # The scraped response will be stored in the cache\n",
    "# ticker.actions\n",
    "data_path = \"/Users/a2/code/fin/trade/data/financial/F/data/minute\"\n",
    "\n",
    "# Liste einiger LSE Symbole (du kannst diese Liste erweitern)\n",
    "symbols = stocks\n",
    "\n",
    "# Erstelle ein Dictionary, um die Daten zu speichern\n",
    "stock_data = {}\n",
    "\n",
    "# Ziehe die Minutendaten für jedes Symbol\n",
    "for symbol in symbols:\n",
    "    print(f\"Fetching data for {symbol}...\")\n",
    "    ticker = yf.Ticker(symbol, session=session)\n",
    "    # Hole die letzten 7 Tage Minutendaten (maximal mögliche Historie bei minutengenauer Abfrage)\n",
    "    # Valid intervals: [1m, 2m, 5m, 15m, 30m, 60m, 90m, 1h, 1d, 5d, 1wk, 1mo, 3mo]\n",
    "    hist = ticker.history(period='max', interval='1m')\n",
    "    stock_data[symbol] = hist\n",
    "\n",
    "\n",
    "for symbol, data in stock_data.items():\n",
    "    # TODO: missing values padd \n",
    "    data.to_csv(os.path.join(data_path, symbol+\".csv\"))\n",
    "\n",
    "print(\"Daten wurden erfolgreich gespeichert.\")\n"
   ]
  },
  {
   "cell_type": "code",
   "execution_count": null,
   "metadata": {},
   "outputs": [],
   "source": [
    "# hier eine etwas automatisierte stock price getter\n",
    "import os\n",
    "rp = \"/Users/a2/code/fin/trade/data/financial\"\n",
    "sxsx = os.listdir(rp)\n",
    "sxsx = [\"F\"] # temporary only for F\n",
    "for sx in sxsx:\n",
    "    working_dir = os.path.join(rp, sx)\n"
   ]
  },
  {
   "cell_type": "code",
   "execution_count": null,
   "metadata": {},
   "outputs": [],
   "source": [
    "# Speichere die Daten in eine Excel-Datei\n",
    "with pd.ExcelWriter('lse_minute_data.xlsx') as writer:\n",
    "    for symbol, data in stock_data.items():\n",
    "        data.to_excel(writer, sheet_name=symbol)\n"
   ]
  }
 ],
 "metadata": {
  "kernelspec": {
   "display_name": "trade",
   "language": "python",
   "name": "python3"
  },
  "language_info": {
   "codemirror_mode": {
    "name": "ipython",
    "version": 3
   },
   "file_extension": ".py",
   "mimetype": "text/x-python",
   "name": "python",
   "nbconvert_exporter": "python",
   "pygments_lexer": "ipython3",
   "version": "3.12.4"
  }
 },
 "nbformat": 4,
 "nbformat_minor": 2
}

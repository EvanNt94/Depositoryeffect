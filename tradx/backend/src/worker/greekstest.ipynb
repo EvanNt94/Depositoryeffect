{
 "cells": [
  {
   "cell_type": "code",
   "execution_count": null,
   "metadata": {},
   "outputs": [
    {
     "ename": "ModuleNotFoundError",
     "evalue": "No module named 'tradx.backend.src.fast._option_cffi'",
     "output_type": "error",
     "traceback": [
      "\u001b[0;31m---------------------------------------------------------------------------\u001b[0m",
      "\u001b[0;31mModuleNotFoundError\u001b[0m                       Traceback (most recent call last)",
      "Cell \u001b[0;32mIn[2], line 2\u001b[0m\n\u001b[1;32m      1\u001b[0m \u001b[38;5;28;01mimport\u001b[39;00m \u001b[38;5;21;01mnumpy\u001b[39;00m \u001b[38;5;28;01mas\u001b[39;00m \u001b[38;5;21;01mnp\u001b[39;00m\n\u001b[0;32m----> 2\u001b[0m \u001b[38;5;28;01mfrom\u001b[39;00m \u001b[38;5;21;01mtradx\u001b[39;00m\u001b[38;5;21;01m.\u001b[39;00m\u001b[38;5;21;01mbackend\u001b[39;00m\u001b[38;5;21;01m.\u001b[39;00m\u001b[38;5;21;01msrc\u001b[39;00m\u001b[38;5;21;01m.\u001b[39;00m\u001b[38;5;21;01mfast\u001b[39;00m\u001b[38;5;21;01m.\u001b[39;00m\u001b[38;5;21;01m_option_cffi\u001b[39;00m \u001b[38;5;28;01mimport\u001b[39;00m lib, ffi\n\u001b[1;32m      4\u001b[0m n \u001b[38;5;241m=\u001b[39m \u001b[38;5;241m10\u001b[39m  \u001b[38;5;66;03m# oder Millionen später\u001b[39;00m\n\u001b[1;32m      5\u001b[0m S, K, T, r, sigma \u001b[38;5;241m=\u001b[39m \u001b[38;5;241m203.27\u001b[39m, \u001b[38;5;241m205.00\u001b[39m, \u001b[38;5;241m6\u001b[39m\u001b[38;5;241m/\u001b[39m\u001b[38;5;241m252\u001b[39m, \u001b[38;5;241m0.0433\u001b[39m, \u001b[38;5;241m0.32\u001b[39m\n",
      "\u001b[0;31mModuleNotFoundError\u001b[0m: No module named 'tradx.backend.src.fast._option_cffi'"
     ]
    }
   ],
   "source": [
    "import numpy as np\n",
    "from tradx.backend.src.fast import build_option\n",
    "\n",
    "n = 10  # oder Millionen später\n",
    "S, K, T, r, sigma = 203.27, 205.00, 6/252, 0.0433, 0.32\n",
    "flag = b'c'\n",
    "\n",
    "# Allocate output arrays\n",
    "price  = np.zeros(n)\n",
    "delta  = np.zeros(n)\n",
    "gamma  = np.zeros(n)\n",
    "vega   = np.zeros(n)\n",
    "theta  = np.zeros(n)\n",
    "rho    = np.zeros(n)\n",
    "\n",
    "for i in range(n):\n",
    "    lib.option_all_greeks(\n",
    "        flag[0], S, K, T, r, sigma,\n",
    "        ffi.cast(\"double *\", price.ctypes.data + 8 * i),\n",
    "        ffi.cast(\"double *\", delta.ctypes.data + 8 * i),\n",
    "        ffi.cast(\"double *\", gamma.ctypes.data + 8 * i),\n",
    "        ffi.cast(\"double *\", vega.ctypes.data + 8 * i),\n",
    "        ffi.cast(\"double *\", theta.ctypes.data + 8 * i),\n",
    "        ffi.cast(\"double *\", rho.ctypes.data + 8 * i)\n",
    "    )\n",
    "\n",
    "print(price, delta)"
   ]
  },
  {
   "cell_type": "code",
   "execution_count": null,
   "metadata": {},
   "outputs": [],
   "source": []
  }
 ],
 "metadata": {
  "kernelspec": {
   "display_name": "trade",
   "language": "python",
   "name": "python3"
  },
  "language_info": {
   "codemirror_mode": {
    "name": "ipython",
    "version": 3
   },
   "file_extension": ".py",
   "mimetype": "text/x-python",
   "name": "python",
   "nbconvert_exporter": "python",
   "pygments_lexer": "ipython3",
   "version": "3.12.2"
  }
 },
 "nbformat": 4,
 "nbformat_minor": 2
}

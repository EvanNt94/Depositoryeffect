{
 "cells": [
  {
   "cell_type": "code",
   "execution_count": 3,
   "metadata": {},
   "outputs": [],
   "source": [
    "import requests\n",
    "from dotenv import load_dotenv\n",
    "load_dotenv()\n",
    "import os\n",
    "\n",
    "def get_risk_free_rate(currency: str = \"USD\") -> float:\n",
    "    if currency == \"USD\":\n",
    "        try:\n",
    "            r = requests.get(\"https://api.stlouisfed.org/fred/series/observations\",\n",
    "                             params={\n",
    "                                 \"series_id\": \"GS1\",\n",
    "                                 \"api_key\": os.getenv(\"FRED_API_KEY\"),\n",
    "                                 \"file_type\": \"json\",\n",
    "                                 \"sort_order\": \"desc\",\n",
    "                                 \"limit\": 1\n",
    "                             }).json()\n",
    "            print(r)\n",
    "            return float(r[\"observations\"][0][\"value\"]) / 100\n",
    "        except Exception as e:\n",
    "            print(e)\n",
    "            return 0.05  \n",
    "    elif currency == \"EUR\":\n",
    "        try:\n",
    "            ecb = requests.get(\"https://api.ecb.europa.eu/stats/eurofxref/eurofxref-daily.xml\")\n",
    "            return 0.035  \n",
    "        except Exception:\n",
    "            return 0.035\n",
    "    return 0.01\n"
   ]
  },
  {
   "cell_type": "code",
   "execution_count": 5,
   "metadata": {},
   "outputs": [
    {
     "data": {
      "text/plain": [
       "0.035"
      ]
     },
     "execution_count": 5,
     "metadata": {},
     "output_type": "execute_result"
    }
   ],
   "source": [
    "get_risk_free_rate(\"EUR\")"
   ]
  },
  {
   "cell_type": "code",
   "execution_count": 1,
   "metadata": {},
   "outputs": [],
   "source": [
    "import os\n",
    "os.getenv(\"FRED_API_KEY\")"
   ]
  },
  {
   "cell_type": "code",
   "execution_count": 2,
   "metadata": {},
   "outputs": [
    {
     "name": "stdout",
     "output_type": "stream",
     "text": [
      "807eb2091e9e57f91ef29f02c50db9fa\n"
     ]
    }
   ],
   "source": [
    "\n",
    "\n",
    "import os\n",
    "print(os.getenv(\"FRED_API_KEY\"))"
   ]
  },
  {
   "cell_type": "code",
   "execution_count": null,
   "metadata": {},
   "outputs": [],
   "source": []
  }
 ],
 "metadata": {
  "kernelspec": {
   "display_name": "trade",
   "language": "python",
   "name": "python3"
  },
  "language_info": {
   "codemirror_mode": {
    "name": "ipython",
    "version": 3
   },
   "file_extension": ".py",
   "mimetype": "text/x-python",
   "name": "python",
   "nbconvert_exporter": "python",
   "pygments_lexer": "ipython3",
   "version": "3.12.2"
  }
 },
 "nbformat": 4,
 "nbformat_minor": 2
}

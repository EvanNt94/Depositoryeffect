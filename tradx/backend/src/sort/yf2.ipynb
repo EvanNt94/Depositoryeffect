{
 "cells": [
  {
   "cell_type": "code",
   "execution_count": 1,
   "metadata": {},
   "outputs": [],
   "source": [
    "import numpy\n",
    "import yfinance as yf\n",
    "\n",
    "\n",
    "TICKER = \"AAPL\"\n",
    "ticker = yf.Ticker(TICKER)"
   ]
  },
  {
   "cell_type": "code",
   "execution_count": 3,
   "metadata": {},
   "outputs": [
    {
     "data": {
      "text/plain": [
       "{'address1': 'One Apple Park Way',\n",
       " 'city': 'Cupertino',\n",
       " 'state': 'CA',\n",
       " 'zip': '95014',\n",
       " 'country': 'United States',\n",
       " 'phone': '(408) 996-1010',\n",
       " 'website': 'https://www.apple.com',\n",
       " 'industry': 'Consumer Electronics',\n",
       " 'industryKey': 'consumer-electronics',\n",
       " 'industryDisp': 'Consumer Electronics',\n",
       " 'sector': 'Technology',\n",
       " 'sectorKey': 'technology',\n",
       " 'sectorDisp': 'Technology',\n",
       " 'longBusinessSummary': 'Apple Inc. designs, manufactures, and markets smartphones, personal computers, tablets, wearables, and accessories worldwide. The company offers iPhone, a line of smartphones; Mac, a line of personal computers; iPad, a line of multi-purpose tablets; and wearables, home, and accessories comprising AirPods, Apple TV, Apple Watch, Beats products, and HomePod. It also provides AppleCare support and cloud services; and operates various platforms, including the App Store that allow customers to discover and download applications and digital content, such as books, music, video, games, and podcasts, as well as advertising services include third-party licensing arrangements and its own advertising platforms. In addition, the company offers various subscription-based services, such as Apple Arcade, a game subscription service; Apple Fitness+, a personalized fitness service; Apple Music, which offers users a curated listening experience with on-demand radio stations; Apple News+, a subscription news and magazine service; Apple TV+, which offers exclusive original content; Apple Card, a co-branded credit card; and Apple Pay, a cashless payment service, as well as licenses its intellectual property. The company serves consumers, and small and mid-sized businesses; and the education, enterprise, and government markets. It distributes third-party applications for its products through the App Store. The company also sells its products through its retail and online stores, and direct sales force; and third-party cellular network carriers, wholesalers, retailers, and resellers. Apple Inc. was founded in 1976 and is headquartered in Cupertino, California.',\n",
       " 'fullTimeEmployees': 164000,\n",
       " 'companyOfficers': [{'maxAge': 1,\n",
       "   'name': 'Mr. Timothy D. Cook',\n",
       "   'age': 63,\n",
       "   'title': 'CEO & Director',\n",
       "   'yearBorn': 1961,\n",
       "   'fiscalYear': 2024,\n",
       "   'totalPay': 16520856,\n",
       "   'exercisedValue': 0,\n",
       "   'unexercisedValue': 0},\n",
       "  {'maxAge': 1,\n",
       "   'name': 'Mr. Jeffrey E. Williams',\n",
       "   'age': 60,\n",
       "   'title': 'Chief Operating Officer',\n",
       "   'yearBorn': 1964,\n",
       "   'fiscalYear': 2024,\n",
       "   'totalPay': 5020737,\n",
       "   'exercisedValue': 0,\n",
       "   'unexercisedValue': 0},\n",
       "  {'maxAge': 1,\n",
       "   'name': 'Ms. Katherine L. Adams',\n",
       "   'age': 60,\n",
       "   'title': 'Senior VP, General Counsel & Secretary',\n",
       "   'yearBorn': 1964,\n",
       "   'fiscalYear': 2024,\n",
       "   'totalPay': 5022182,\n",
       "   'exercisedValue': 0,\n",
       "   'unexercisedValue': 0},\n",
       "  {'maxAge': 1,\n",
       "   'name': \"Ms. Deirdre  O'Brien\",\n",
       "   'age': 57,\n",
       "   'title': 'Chief People Officer & Senior VP of Retail',\n",
       "   'yearBorn': 1967,\n",
       "   'fiscalYear': 2024,\n",
       "   'totalPay': 5022182,\n",
       "   'exercisedValue': 0,\n",
       "   'unexercisedValue': 0},\n",
       "  {'maxAge': 1,\n",
       "   'name': 'Mr. Kevan  Parekh',\n",
       "   'age': 52,\n",
       "   'title': 'Senior VP & CFO',\n",
       "   'yearBorn': 1972,\n",
       "   'fiscalYear': 2024,\n",
       "   'exercisedValue': 0,\n",
       "   'unexercisedValue': 0},\n",
       "  {'maxAge': 1,\n",
       "   'name': 'Mr. Chris  Kondo',\n",
       "   'title': 'Senior Director of Corporate Accounting',\n",
       "   'fiscalYear': 2024,\n",
       "   'exercisedValue': 0,\n",
       "   'unexercisedValue': 0},\n",
       "  {'maxAge': 1,\n",
       "   'name': 'Suhasini  Chandramouli',\n",
       "   'title': 'Director of Investor Relations',\n",
       "   'fiscalYear': 2024,\n",
       "   'exercisedValue': 0,\n",
       "   'unexercisedValue': 0},\n",
       "  {'maxAge': 1,\n",
       "   'name': 'Ms. Kristin Huguet Quayle',\n",
       "   'title': 'Vice President of Worldwide Communications',\n",
       "   'fiscalYear': 2024,\n",
       "   'exercisedValue': 0,\n",
       "   'unexercisedValue': 0},\n",
       "  {'maxAge': 1,\n",
       "   'name': 'Mr. Greg  Joswiak',\n",
       "   'title': 'Senior Vice President of Worldwide Marketing',\n",
       "   'fiscalYear': 2024,\n",
       "   'exercisedValue': 0,\n",
       "   'unexercisedValue': 0},\n",
       "  {'maxAge': 1,\n",
       "   'name': 'Mr. Adrian  Perica',\n",
       "   'age': 50,\n",
       "   'title': 'Vice President of Corporate Development',\n",
       "   'yearBorn': 1974,\n",
       "   'fiscalYear': 2024,\n",
       "   'exercisedValue': 0,\n",
       "   'unexercisedValue': 0}],\n",
       " 'auditRisk': 7,\n",
       " 'boardRisk': 1,\n",
       " 'compensationRisk': 3,\n",
       " 'shareHolderRightsRisk': 1,\n",
       " 'overallRisk': 1,\n",
       " 'governanceEpochDate': 1746057600,\n",
       " 'compensationAsOfEpochDate': 1735603200,\n",
       " 'irWebsite': 'http://investor.apple.com/',\n",
       " 'executiveTeam': [],\n",
       " 'maxAge': 86400,\n",
       " 'priceHint': 2,\n",
       " 'previousClose': 201.36,\n",
       " 'open': 193.665,\n",
       " 'dayLow': 193.46,\n",
       " 'dayHigh': 197.7,\n",
       " 'regularMarketPreviousClose': 201.36,\n",
       " 'regularMarketOpen': 193.665,\n",
       " 'regularMarketDayLow': 193.46,\n",
       " 'regularMarketDayHigh': 197.7,\n",
       " 'dividendRate': 1.04,\n",
       " 'dividendYield': 0.53,\n",
       " 'exDividendDate': 1747008000,\n",
       " 'payoutRatio': 0.1558,\n",
       " 'fiveYearAvgDividendYield': 0.57,\n",
       " 'beta': 1.275,\n",
       " 'trailingPE': 30.415888,\n",
       " 'forwardPE': 23.498194,\n",
       " 'volume': 78432918,\n",
       " 'regularMarketVolume': 78432918,\n",
       " 'averageVolume': 62155408,\n",
       " 'averageVolume10days': 53768440,\n",
       " 'averageDailyVolume10Day': 53768440,\n",
       " 'bid': 195.11,\n",
       " 'ask': 195.74,\n",
       " 'bidSize': 4,\n",
       " 'askSize': 4,\n",
       " 'marketCap': 2916513742848,\n",
       " 'fiftyTwoWeekLow': 169.21,\n",
       " 'fiftyTwoWeekHigh': 260.1,\n",
       " 'priceToSalesTrailing12Months': 7.284619,\n",
       " 'fiftyDayAverage': 206.48,\n",
       " 'twoHundredDayAverage': 225.9317,\n",
       " 'trailingAnnualDividendRate': 1.0,\n",
       " 'trailingAnnualDividendYield': 0.0049662297,\n",
       " 'currency': 'USD',\n",
       " 'tradeable': False,\n",
       " 'enterpriseValue': 2966206808064,\n",
       " 'profitMargins': 0.24301,\n",
       " 'floatShares': 14911480604,\n",
       " 'sharesOutstanding': 14935799808,\n",
       " 'sharesShort': 108598767,\n",
       " 'sharesShortPriorMonth': 112333139,\n",
       " 'sharesShortPreviousMonthDate': 1743379200,\n",
       " 'dateShortInterest': 1745971200,\n",
       " 'sharesPercentSharesOut': 0.0073,\n",
       " 'heldPercentInsiders': 0.02085,\n",
       " 'heldPercentInstitutions': 0.62836,\n",
       " 'shortRatio': 1.43,\n",
       " 'shortPercentOfFloat': 0.0073,\n",
       " 'impliedSharesOutstanding': 14949300224,\n",
       " 'bookValue': 4.471,\n",
       " 'priceToBook': 43.674793,\n",
       " 'lastFiscalYearEnd': 1727481600,\n",
       " 'nextFiscalYearEnd': 1759017600,\n",
       " 'mostRecentQuarter': 1743206400,\n",
       " 'earningsQuarterlyGrowth': 0.048,\n",
       " 'netIncomeToCommon': 97294000128,\n",
       " 'trailingEps': 6.42,\n",
       " 'forwardEps': 8.31,\n",
       " 'lastSplitFactor': '4:1',\n",
       " 'lastSplitDate': 1598832000,\n",
       " 'enterpriseToRevenue': 7.409,\n",
       " 'enterpriseToEbitda': 21.36,\n",
       " '52WeekChange': 0.027790904,\n",
       " 'SandP52WeekChange': 0.09362543,\n",
       " 'lastDividendValue': 0.26,\n",
       " 'lastDividendDate': 1747008000,\n",
       " 'quoteType': 'EQUITY',\n",
       " 'currentPrice': 195.27,\n",
       " 'targetHighPrice': 300.0,\n",
       " 'targetLowPrice': 170.62,\n",
       " 'targetMeanPrice': 228.75928,\n",
       " 'targetMedianPrice': 230.0,\n",
       " 'recommendationMean': 2.08696,\n",
       " 'recommendationKey': 'buy',\n",
       " 'numberOfAnalystOpinions': 41,\n",
       " 'totalCash': 48497999872,\n",
       " 'totalCashPerShare': 3.247,\n",
       " 'ebitda': 138865999872,\n",
       " 'totalDebt': 98186002432,\n",
       " 'quickRatio': 0.68,\n",
       " 'currentRatio': 0.821,\n",
       " 'totalRevenue': 400366010368,\n",
       " 'debtToEquity': 146.994,\n",
       " 'revenuePerShare': 26.455,\n",
       " 'returnOnAssets': 0.23809999,\n",
       " 'returnOnEquity': 1.38015,\n",
       " 'grossProfits': 186699005952,\n",
       " 'freeCashflow': 97251500032,\n",
       " 'operatingCashflow': 109555998720,\n",
       " 'earningsGrowth': 0.078,\n",
       " 'revenueGrowth': 0.051,\n",
       " 'grossMargins': 0.46632,\n",
       " 'ebitdaMargins': 0.34685,\n",
       " 'operatingMargins': 0.31028998,\n",
       " 'financialCurrency': 'USD',\n",
       " 'symbol': 'AAPL',\n",
       " 'language': 'en-US',\n",
       " 'region': 'US',\n",
       " 'typeDisp': 'Equity',\n",
       " 'quoteSourceName': 'Nasdaq Real Time Price',\n",
       " 'triggerable': True,\n",
       " 'customPriceAlertConfidence': 'HIGH',\n",
       " 'corporateActions': [],\n",
       " 'postMarketTime': 1748044799,\n",
       " 'regularMarketTime': 1748030401,\n",
       " 'hasPrePostMarketData': True,\n",
       " 'firstTradeDateMilliseconds': 345479400000,\n",
       " 'postMarketChangePercent': 0.271418,\n",
       " 'postMarketPrice': 195.8,\n",
       " 'postMarketChange': 0.529999,\n",
       " 'regularMarketChange': -6.0899963,\n",
       " 'regularMarketDayRange': '193.46 - 197.7',\n",
       " 'fullExchangeName': 'NasdaqGS',\n",
       " 'averageDailyVolume3Month': 62155408,\n",
       " 'fiftyTwoWeekLowChange': 26.059998,\n",
       " 'fiftyTwoWeekLowChangePercent': 0.15400979,\n",
       " 'fiftyTwoWeekRange': '169.21 - 260.1',\n",
       " 'fiftyTwoWeekHighChange': -64.83,\n",
       " 'fiftyTwoWeekHighChangePercent': -0.2492503,\n",
       " 'fiftyTwoWeekChangePercent': 2.7790904,\n",
       " 'dividendDate': 1747267200,\n",
       " 'earningsTimestamp': 1746131400,\n",
       " 'earningsTimestampStart': 1753873140,\n",
       " 'earningsTimestampEnd': 1754308800,\n",
       " 'earningsCallTimestampStart': 1746133200,\n",
       " 'earningsCallTimestampEnd': 1746133200,\n",
       " 'isEarningsDateEstimate': True,\n",
       " 'epsTrailingTwelveMonths': 6.42,\n",
       " 'epsForward': 8.31,\n",
       " 'epsCurrentYear': 7.19078,\n",
       " 'priceEpsCurrentYear': 27.155607,\n",
       " 'fiftyDayAverageChange': -11.209991,\n",
       " 'fiftyDayAverageChangePercent': -0.05429093,\n",
       " 'twoHundredDayAverageChange': -30.661697,\n",
       " 'twoHundredDayAverageChangePercent': -0.13571224,\n",
       " 'sourceInterval': 15,\n",
       " 'exchangeDataDelayedBy': 0,\n",
       " 'averageAnalystRating': '2.1 - Buy',\n",
       " 'cryptoTradeable': False,\n",
       " 'marketState': 'CLOSED',\n",
       " 'shortName': 'Apple Inc.',\n",
       " 'longName': 'Apple Inc.',\n",
       " 'exchange': 'NMS',\n",
       " 'messageBoardId': 'finmb_24937',\n",
       " 'exchangeTimezoneName': 'America/New_York',\n",
       " 'exchangeTimezoneShortName': 'EDT',\n",
       " 'gmtOffSetMilliseconds': -14400000,\n",
       " 'market': 'us_market',\n",
       " 'esgPopulated': False,\n",
       " 'regularMarketChangePercent': -3.0244322,\n",
       " 'regularMarketPrice': 195.27,\n",
       " 'displayName': 'Apple',\n",
       " 'trailingPegRatio': 1.9879}"
      ]
     },
     "execution_count": 3,
     "metadata": {},
     "output_type": "execute_result"
    }
   ],
   "source": [
    "ticker.info"
   ]
  },
  {
   "cell_type": "code",
   "execution_count": 5,
   "metadata": {},
   "outputs": [
    {
     "data": {
      "text/plain": [
       "'Apple Inc. designs, manufactures, and markets smartphones, personal computers, tablets, wearables, and accessories worldwide. The company offers iPhone, a line of smartphones; Mac, a line of personal computers; iPad, a line of multi-purpose tablets; and wearables, home, and accessories comprising AirPods, Apple TV, Apple Watch, Beats products, and HomePod. It also provides AppleCare support and cloud services; and operates various platforms, including the App Store that allow customers to discover and download applications and digital content, such as books, music, video, games, and podcasts, as well as advertising services include third-party licensing arrangements and its own advertising platforms. In addition, the company offers various subscription-based services, such as Apple Arcade, a game subscription service; Apple Fitness+, a personalized fitness service; Apple Music, which offers users a curated listening experience with on-demand radio stations; Apple News+, a subscription news and magazine service; Apple TV+, which offers exclusive original content; Apple Card, a co-branded credit card; and Apple Pay, a cashless payment service, as well as licenses its intellectual property. The company serves consumers, and small and mid-sized businesses; and the education, enterprise, and government markets. It distributes third-party applications for its products through the App Store. The company also sells its products through its retail and online stores, and direct sales force; and third-party cellular network carriers, wholesalers, retailers, and resellers. Apple Inc. was founded in 1976 and is headquartered in Cupertino, California.'"
      ]
     },
     "execution_count": 5,
     "metadata": {},
     "output_type": "execute_result"
    }
   ],
   "source": [
    "ticker.funds_data.description"
   ]
  },
  {
   "cell_type": "code",
   "execution_count": 2,
   "metadata": {},
   "outputs": [
    {
     "data": {
      "text/plain": [
       "DatetimeIndex(['2024-09-30', '2023-09-30', '2022-09-30', '2021-09-30',\n",
       "               '2020-09-30'],\n",
       "              dtype='datetime64[ns]', freq=None)"
      ]
     },
     "execution_count": 2,
     "metadata": {},
     "output_type": "execute_result"
    }
   ],
   "source": [
    "ticker.income_stmt.keys()"
   ]
  },
  {
   "cell_type": "code",
   "execution_count": 5,
   "metadata": {},
   "outputs": [
    {
     "data": {
      "text/plain": [
       "['Treasury Shares Number',\n",
       " 'Ordinary Shares Number',\n",
       " 'Share Issued',\n",
       " 'Net Debt',\n",
       " 'Total Debt',\n",
       " 'Tangible Book Value',\n",
       " 'Invested Capital',\n",
       " 'Working Capital',\n",
       " 'Net Tangible Assets',\n",
       " 'Capital Lease Obligations',\n",
       " 'Common Stock Equity',\n",
       " 'Total Capitalization',\n",
       " 'Total Equity Gross Minority Interest',\n",
       " 'Stockholders Equity',\n",
       " 'Gains Losses Not Affecting Retained Earnings',\n",
       " 'Other Equity Adjustments',\n",
       " 'Retained Earnings',\n",
       " 'Capital Stock',\n",
       " 'Common Stock',\n",
       " 'Total Liabilities Net Minority Interest',\n",
       " 'Total Non Current Liabilities Net Minority Interest',\n",
       " 'Other Non Current Liabilities',\n",
       " 'Tradeand Other Payables Non Current',\n",
       " 'Long Term Debt And Capital Lease Obligation',\n",
       " 'Long Term Capital Lease Obligation',\n",
       " 'Long Term Debt',\n",
       " 'Current Liabilities',\n",
       " 'Other Current Liabilities',\n",
       " 'Current Deferred Liabilities',\n",
       " 'Current Deferred Revenue',\n",
       " 'Current Debt And Capital Lease Obligation',\n",
       " 'Current Capital Lease Obligation',\n",
       " 'Current Debt',\n",
       " 'Other Current Borrowings',\n",
       " 'Commercial Paper',\n",
       " 'Payables And Accrued Expenses',\n",
       " 'Payables',\n",
       " 'Total Tax Payable',\n",
       " 'Income Tax Payable',\n",
       " 'Accounts Payable',\n",
       " 'Total Assets',\n",
       " 'Total Non Current Assets',\n",
       " 'Other Non Current Assets',\n",
       " 'Non Current Deferred Assets',\n",
       " 'Non Current Deferred Taxes Assets',\n",
       " 'Investments And Advances',\n",
       " 'Other Investments',\n",
       " 'Investmentin Financial Assets',\n",
       " 'Available For Sale Securities',\n",
       " 'Net PPE',\n",
       " 'Accumulated Depreciation',\n",
       " 'Gross PPE',\n",
       " 'Leases',\n",
       " 'Other Properties',\n",
       " 'Machinery Furniture Equipment',\n",
       " 'Land And Improvements',\n",
       " 'Properties',\n",
       " 'Current Assets',\n",
       " 'Other Current Assets',\n",
       " 'Inventory',\n",
       " 'Receivables',\n",
       " 'Other Receivables',\n",
       " 'Accounts Receivable',\n",
       " 'Cash Cash Equivalents And Short Term Investments',\n",
       " 'Other Short Term Investments',\n",
       " 'Cash And Cash Equivalents',\n",
       " 'Cash Equivalents',\n",
       " 'Cash Financial']"
      ]
     },
     "execution_count": 5,
     "metadata": {},
     "output_type": "execute_result"
    }
   ],
   "source": [
    "ticker.balance_sheet.index.to_list()\n"
   ]
  },
  {
   "cell_type": "code",
   "execution_count": 11,
   "metadata": {},
   "outputs": [],
   "source": [
    "import json\n",
    "p = \"/Users/a2/code/fin/trade/tradx/backend/traderepublic/instruments.json\"\n",
    "with open(p, \"r\") as f:\n",
    "    data = json.load(f)\n",
    "\n",
    "isins = data.keys()\n",
    "\n"
   ]
  },
  {
   "cell_type": "code",
   "execution_count": 3,
   "metadata": {},
   "outputs": [
    {
     "data": {
      "text/html": [
       "<div>\n",
       "<style scoped>\n",
       "    .dataframe tbody tr th:only-of-type {\n",
       "        vertical-align: middle;\n",
       "    }\n",
       "\n",
       "    .dataframe tbody tr th {\n",
       "        vertical-align: top;\n",
       "    }\n",
       "\n",
       "    .dataframe thead th {\n",
       "        text-align: right;\n",
       "    }\n",
       "</style>\n",
       "<table border=\"1\" class=\"dataframe\">\n",
       "  <thead>\n",
       "    <tr style=\"text-align: right;\">\n",
       "      <th></th>\n",
       "      <th>period</th>\n",
       "      <th>strongBuy</th>\n",
       "      <th>buy</th>\n",
       "      <th>hold</th>\n",
       "      <th>sell</th>\n",
       "      <th>strongSell</th>\n",
       "    </tr>\n",
       "  </thead>\n",
       "  <tbody>\n",
       "    <tr>\n",
       "      <th>0</th>\n",
       "      <td>0m</td>\n",
       "      <td>7</td>\n",
       "      <td>20</td>\n",
       "      <td>16</td>\n",
       "      <td>2</td>\n",
       "      <td>1</td>\n",
       "    </tr>\n",
       "    <tr>\n",
       "      <th>1</th>\n",
       "      <td>-1m</td>\n",
       "      <td>7</td>\n",
       "      <td>23</td>\n",
       "      <td>16</td>\n",
       "      <td>1</td>\n",
       "      <td>1</td>\n",
       "    </tr>\n",
       "    <tr>\n",
       "      <th>2</th>\n",
       "      <td>-2m</td>\n",
       "      <td>7</td>\n",
       "      <td>21</td>\n",
       "      <td>14</td>\n",
       "      <td>2</td>\n",
       "      <td>1</td>\n",
       "    </tr>\n",
       "    <tr>\n",
       "      <th>3</th>\n",
       "      <td>-3m</td>\n",
       "      <td>7</td>\n",
       "      <td>21</td>\n",
       "      <td>13</td>\n",
       "      <td>2</td>\n",
       "      <td>2</td>\n",
       "    </tr>\n",
       "  </tbody>\n",
       "</table>\n",
       "</div>"
      ],
      "text/plain": [
       "  period  strongBuy  buy  hold  sell  strongSell\n",
       "0     0m          7   20    16     2           1\n",
       "1    -1m          7   23    16     1           1\n",
       "2    -2m          7   21    14     2           1\n",
       "3    -3m          7   21    13     2           2"
      ]
     },
     "execution_count": 3,
     "metadata": {},
     "output_type": "execute_result"
    }
   ],
   "source": [
    "ticker.recommendations"
   ]
  },
  {
   "cell_type": "code",
   "execution_count": 28,
   "metadata": {},
   "outputs": [
    {
     "ename": "Timeout",
     "evalue": "Failed to perform, curl: (28) Connection timed out after 1025625 milliseconds. See https://curl.se/libcurl/c/libcurl-errors.html first for more details.",
     "output_type": "error",
     "traceback": [
      "\u001b[0;31m---------------------------------------------------------------------------\u001b[0m",
      "\u001b[0;31mCurlError\u001b[0m                                 Traceback (most recent call last)",
      "File \u001b[0;32m~/anaconda3/envs/trade/lib/python3.12/site-packages/curl_cffi/requests/session.py:597\u001b[0m, in \u001b[0;36mSession.request\u001b[0;34m(self, method, url, params, data, json, headers, cookies, files, auth, timeout, allow_redirects, max_redirects, proxies, proxy, proxy_auth, verify, referer, accept_encoding, content_callback, impersonate, ja3, akamai, extra_fp, default_headers, default_encoding, quote, http_version, interface, cert, stream, max_recv_speed, multipart)\u001b[0m\n\u001b[1;32m    596\u001b[0m     \u001b[38;5;28;01melse\u001b[39;00m:\n\u001b[0;32m--> 597\u001b[0m         \u001b[43mc\u001b[49m\u001b[38;5;241;43m.\u001b[39;49m\u001b[43mperform\u001b[49m\u001b[43m(\u001b[49m\u001b[43m)\u001b[49m\n\u001b[1;32m    598\u001b[0m \u001b[38;5;28;01mexcept\u001b[39;00m CurlError \u001b[38;5;28;01mas\u001b[39;00m e:\n",
      "File \u001b[0;32m~/anaconda3/envs/trade/lib/python3.12/site-packages/curl_cffi/curl.py:319\u001b[0m, in \u001b[0;36mCurl.perform\u001b[0;34m(self, clear_headers)\u001b[0m\n\u001b[1;32m    318\u001b[0m \u001b[38;5;28;01mtry\u001b[39;00m:\n\u001b[0;32m--> 319\u001b[0m     \u001b[38;5;28;43mself\u001b[39;49m\u001b[38;5;241;43m.\u001b[39;49m\u001b[43m_check_error\u001b[49m\u001b[43m(\u001b[49m\u001b[43mret\u001b[49m\u001b[43m,\u001b[49m\u001b[43m \u001b[49m\u001b[38;5;124;43m\"\u001b[39;49m\u001b[38;5;124;43mperform\u001b[39;49m\u001b[38;5;124;43m\"\u001b[39;49m\u001b[43m)\u001b[49m\n\u001b[1;32m    320\u001b[0m \u001b[38;5;28;01mfinally\u001b[39;00m:\n\u001b[1;32m    321\u001b[0m     \u001b[38;5;66;03m# cleaning\u001b[39;00m\n",
      "File \u001b[0;32m~/anaconda3/envs/trade/lib/python3.12/site-packages/curl_cffi/curl.py:150\u001b[0m, in \u001b[0;36mCurl._check_error\u001b[0;34m(self, errcode, *args)\u001b[0m\n\u001b[1;32m    149\u001b[0m \u001b[38;5;28;01mif\u001b[39;00m error \u001b[38;5;129;01mis\u001b[39;00m \u001b[38;5;129;01mnot\u001b[39;00m \u001b[38;5;28;01mNone\u001b[39;00m:\n\u001b[0;32m--> 150\u001b[0m     \u001b[38;5;28;01mraise\u001b[39;00m error\n",
      "\u001b[0;31mCurlError\u001b[0m: Failed to perform, curl: (28) Connection timed out after 1025625 milliseconds. See https://curl.se/libcurl/c/libcurl-errors.html first for more details.",
      "\nThe above exception was the direct cause of the following exception:\n",
      "\u001b[0;31mTimeout\u001b[0m                                   Traceback (most recent call last)",
      "Cell \u001b[0;32mIn[28], line 11\u001b[0m\n\u001b[1;32m      5\u001b[0m requests_cache\u001b[38;5;241m.\u001b[39minstall_cache(\n\u001b[1;32m      6\u001b[0m     \u001b[38;5;124m'\u001b[39m\u001b[38;5;124myahoo_cache\u001b[39m\u001b[38;5;124m'\u001b[39m,      \u001b[38;5;66;03m# Dateiname der Cache-DB\u001b[39;00m\n\u001b[1;32m      7\u001b[0m     backend\u001b[38;5;241m=\u001b[39m\u001b[38;5;124m'\u001b[39m\u001b[38;5;124msqlite\u001b[39m\u001b[38;5;124m'\u001b[39m,\n\u001b[1;32m      8\u001b[0m     expire_after\u001b[38;5;241m=\u001b[39m\u001b[38;5;28;01mNone\u001b[39;00m  \u001b[38;5;66;03m# None = nie ablaufen\u001b[39;00m\n\u001b[1;32m      9\u001b[0m )\n\u001b[1;32m     10\u001b[0m \u001b[38;5;28;01mfor\u001b[39;00m isin \u001b[38;5;129;01min\u001b[39;00m isins:\n\u001b[0;32m---> 11\u001b[0m     data \u001b[38;5;241m=\u001b[39m \u001b[43myq\u001b[49m\u001b[38;5;241;43m.\u001b[39;49m\u001b[43msearch\u001b[49m\u001b[43m(\u001b[49m\u001b[43misin\u001b[49m\u001b[43m,\u001b[49m\u001b[43m \u001b[49m\u001b[43mfirst_quote\u001b[49m\u001b[38;5;241;43m=\u001b[39;49m\u001b[38;5;28;43;01mTrue\u001b[39;49;00m\u001b[43m)\u001b[49m\n\u001b[1;32m     13\u001b[0m     comprehensive[isin] \u001b[38;5;241m=\u001b[39m data\n\u001b[1;32m     16\u001b[0m \u001b[38;5;28;01mwith\u001b[39;00m \u001b[38;5;28mopen\u001b[39m(\u001b[38;5;124m\"\u001b[39m\u001b[38;5;124m/Users/a2/code/fin/trade/tradx/data/ticker/comprehensive.json\u001b[39m\u001b[38;5;124m\"\u001b[39m, \u001b[38;5;124m\"\u001b[39m\u001b[38;5;124mw\u001b[39m\u001b[38;5;124m\"\u001b[39m) \u001b[38;5;28;01mas\u001b[39;00m f:\n",
      "File \u001b[0;32m~/anaconda3/envs/trade/lib/python3.12/site-packages/yahooquery/misc.py:59\u001b[0m, in \u001b[0;36msearch\u001b[0;34m(query, country, quotes_count, news_count, first_quote)\u001b[0m\n\u001b[1;32m     57\u001b[0m url \u001b[38;5;241m=\u001b[39m \u001b[38;5;124m\"\u001b[39m\u001b[38;5;124mhttps://query2.finance.yahoo.com/v1/finance/search\u001b[39m\u001b[38;5;124m\"\u001b[39m\n\u001b[1;32m     58\u001b[0m params \u001b[38;5;241m=\u001b[39m {\u001b[38;5;124m\"\u001b[39m\u001b[38;5;124mq\u001b[39m\u001b[38;5;124m\"\u001b[39m: query, \u001b[38;5;124m\"\u001b[39m\u001b[38;5;124mquotes_count\u001b[39m\u001b[38;5;124m\"\u001b[39m: quotes_count, \u001b[38;5;124m\"\u001b[39m\u001b[38;5;124mnews_count\u001b[39m\u001b[38;5;124m\"\u001b[39m: news_count}\n\u001b[0;32m---> 59\u001b[0m data \u001b[38;5;241m=\u001b[39m \u001b[43m_make_request\u001b[49m\u001b[43m(\u001b[49m\u001b[43murl\u001b[49m\u001b[43m,\u001b[49m\u001b[43m \u001b[49m\u001b[43mcountry\u001b[49m\u001b[38;5;241;43m=\u001b[39;49m\u001b[43mcountry\u001b[49m\u001b[43m,\u001b[49m\u001b[43m \u001b[49m\u001b[43mparams\u001b[49m\u001b[38;5;241;43m=\u001b[39;49m\u001b[43mparams\u001b[49m\u001b[43m)\u001b[49m\n\u001b[1;32m     60\u001b[0m \u001b[38;5;28;01mif\u001b[39;00m first_quote:\n\u001b[1;32m     61\u001b[0m     \u001b[38;5;28;01mreturn\u001b[39;00m data[\u001b[38;5;124m\"\u001b[39m\u001b[38;5;124mquotes\u001b[39m\u001b[38;5;124m\"\u001b[39m][\u001b[38;5;241m0\u001b[39m] \u001b[38;5;28;01mif\u001b[39;00m \u001b[38;5;28mlen\u001b[39m(data[\u001b[38;5;124m\"\u001b[39m\u001b[38;5;124mquotes\u001b[39m\u001b[38;5;124m\"\u001b[39m]) \u001b[38;5;241m>\u001b[39m \u001b[38;5;241m0\u001b[39m \u001b[38;5;28;01melse\u001b[39;00m data\n",
      "File \u001b[0;32m~/anaconda3/envs/trade/lib/python3.12/site-packages/yahooquery/misc.py:25\u001b[0m, in \u001b[0;36m_make_request\u001b[0;34m(url, response_field, country, method, params, data, **kwargs)\u001b[0m\n\u001b[1;32m     19\u001b[0m     \u001b[38;5;28;01mexcept\u001b[39;00m \u001b[38;5;167;01mKeyError\u001b[39;00m \u001b[38;5;28;01mas\u001b[39;00m err:\n\u001b[1;32m     20\u001b[0m         \u001b[38;5;28;01mraise\u001b[39;00m \u001b[38;5;167;01mKeyError\u001b[39;00m(\n\u001b[1;32m     21\u001b[0m             \u001b[38;5;124m\"\u001b[39m\u001b[38;5;132;01m{}\u001b[39;00m\u001b[38;5;124m is not a valid option.  Valid options include \u001b[39m\u001b[38;5;132;01m{}\u001b[39;00m\u001b[38;5;124m\"\u001b[39m\u001b[38;5;241m.\u001b[39mformat(\n\u001b[1;32m     22\u001b[0m                 country, \u001b[38;5;124m\"\u001b[39m\u001b[38;5;124m, \u001b[39m\u001b[38;5;124m\"\u001b[39m\u001b[38;5;241m.\u001b[39mjoin(\u001b[38;5;28msorted\u001b[39m(COUNTRIES\u001b[38;5;241m.\u001b[39mkeys()))\n\u001b[1;32m     23\u001b[0m             )\n\u001b[1;32m     24\u001b[0m         ) \u001b[38;5;28;01mfrom\u001b[39;00m \u001b[38;5;21;01merr\u001b[39;00m\n\u001b[0;32m---> 25\u001b[0m session \u001b[38;5;241m=\u001b[39m \u001b[43minitialize_session\u001b[49m\u001b[43m(\u001b[49m\u001b[38;5;241;43m*\u001b[39;49m\u001b[38;5;241;43m*\u001b[39;49m\u001b[43mkwargs\u001b[49m\u001b[43m)\u001b[49m\n\u001b[1;32m     26\u001b[0m r \u001b[38;5;241m=\u001b[39m \u001b[38;5;28mgetattr\u001b[39m(session, method)(url, params\u001b[38;5;241m=\u001b[39mparams, json\u001b[38;5;241m=\u001b[39mdata)\n\u001b[1;32m     27\u001b[0m json \u001b[38;5;241m=\u001b[39m r\u001b[38;5;241m.\u001b[39mjson()\n",
      "File \u001b[0;32m~/anaconda3/envs/trade/lib/python3.12/site-packages/yahooquery/session_management.py:104\u001b[0m, in \u001b[0;36minitialize_session\u001b[0;34m(session, **kwargs)\u001b[0m\n\u001b[1;32m    102\u001b[0m     \u001b[38;5;28;01mif\u001b[39;00m is_async:\n\u001b[1;32m    103\u001b[0m         session \u001b[38;5;241m=\u001b[39m FuturesSession(max_workers\u001b[38;5;241m=\u001b[39mmax_workers, session\u001b[38;5;241m=\u001b[39msession)\n\u001b[0;32m--> 104\u001b[0m     session \u001b[38;5;241m=\u001b[39m \u001b[43msetup_session\u001b[49m\u001b[43m(\u001b[49m\u001b[43msession\u001b[49m\u001b[43m)\u001b[49m\n\u001b[1;32m    105\u001b[0m \u001b[38;5;28;01mreturn\u001b[39;00m session\n",
      "File \u001b[0;32m~/anaconda3/envs/trade/lib/python3.12/site-packages/yahooquery/session_management.py:49\u001b[0m, in \u001b[0;36msetup_session\u001b[0;34m(session, url)\u001b[0m\n\u001b[1;32m     47\u001b[0m url \u001b[38;5;241m=\u001b[39m url \u001b[38;5;129;01mor\u001b[39;00m DEFAULT_SESSION_URL\n\u001b[1;32m     48\u001b[0m \u001b[38;5;28;01mtry\u001b[39;00m:\n\u001b[0;32m---> 49\u001b[0m     response \u001b[38;5;241m=\u001b[39m \u001b[43msession\u001b[49m\u001b[38;5;241;43m.\u001b[39;49m\u001b[43mget\u001b[49m\u001b[43m(\u001b[49m\u001b[43murl\u001b[49m\u001b[43m,\u001b[49m\u001b[43m \u001b[49m\u001b[43mallow_redirects\u001b[49m\u001b[38;5;241;43m=\u001b[39;49m\u001b[38;5;28;43;01mTrue\u001b[39;49;00m\u001b[43m)\u001b[49m\n\u001b[1;32m     50\u001b[0m \u001b[38;5;28;01mexcept\u001b[39;00m SSLError:\n\u001b[1;32m     51\u001b[0m     counter \u001b[38;5;241m=\u001b[39m \u001b[38;5;241m0\u001b[39m\n",
      "File \u001b[0;32m~/anaconda3/envs/trade/lib/python3.12/site-packages/curl_cffi/requests/session.py:614\u001b[0m, in \u001b[0;36mSession.get\u001b[0;34m(self, url, **kwargs)\u001b[0m\n\u001b[1;32m    613\u001b[0m \u001b[38;5;28;01mdef\u001b[39;00m \u001b[38;5;21mget\u001b[39m(\u001b[38;5;28mself\u001b[39m, url: \u001b[38;5;28mstr\u001b[39m, \u001b[38;5;241m*\u001b[39m\u001b[38;5;241m*\u001b[39mkwargs: Unpack[RequestParams]):\n\u001b[0;32m--> 614\u001b[0m     \u001b[38;5;28;01mreturn\u001b[39;00m \u001b[38;5;28;43mself\u001b[39;49m\u001b[38;5;241;43m.\u001b[39;49m\u001b[43mrequest\u001b[49m\u001b[43m(\u001b[49m\u001b[43mmethod\u001b[49m\u001b[38;5;241;43m=\u001b[39;49m\u001b[38;5;124;43m\"\u001b[39;49m\u001b[38;5;124;43mGET\u001b[39;49m\u001b[38;5;124;43m\"\u001b[39;49m\u001b[43m,\u001b[49m\u001b[43m \u001b[49m\u001b[43murl\u001b[49m\u001b[38;5;241;43m=\u001b[39;49m\u001b[43murl\u001b[49m\u001b[43m,\u001b[49m\u001b[43m \u001b[49m\u001b[38;5;241;43m*\u001b[39;49m\u001b[38;5;241;43m*\u001b[39;49m\u001b[43mkwargs\u001b[49m\u001b[43m)\u001b[49m\n",
      "File \u001b[0;32m~/anaconda3/envs/trade/lib/python3.12/site-packages/curl_cffi/requests/session.py:602\u001b[0m, in \u001b[0;36mSession.request\u001b[0;34m(self, method, url, params, data, json, headers, cookies, files, auth, timeout, allow_redirects, max_redirects, proxies, proxy, proxy_auth, verify, referer, accept_encoding, content_callback, impersonate, ja3, akamai, extra_fp, default_headers, default_encoding, quote, http_version, interface, cert, stream, max_recv_speed, multipart)\u001b[0m\n\u001b[1;32m    600\u001b[0m     rsp\u001b[38;5;241m.\u001b[39mrequest \u001b[38;5;241m=\u001b[39m req\n\u001b[1;32m    601\u001b[0m     error \u001b[38;5;241m=\u001b[39m code2error(e\u001b[38;5;241m.\u001b[39mcode, \u001b[38;5;28mstr\u001b[39m(e))\n\u001b[0;32m--> 602\u001b[0m     \u001b[38;5;28;01mraise\u001b[39;00m error(\u001b[38;5;28mstr\u001b[39m(e), e\u001b[38;5;241m.\u001b[39mcode, rsp) \u001b[38;5;28;01mfrom\u001b[39;00m \u001b[38;5;21;01me\u001b[39;00m\n\u001b[1;32m    603\u001b[0m \u001b[38;5;28;01melse\u001b[39;00m:\n\u001b[1;32m    604\u001b[0m     rsp \u001b[38;5;241m=\u001b[39m \u001b[38;5;28mself\u001b[39m\u001b[38;5;241m.\u001b[39m_parse_response(c, buffer, header_buffer, default_encoding)\n",
      "\u001b[0;31mTimeout\u001b[0m: Failed to perform, curl: (28) Connection timed out after 1025625 milliseconds. See https://curl.se/libcurl/c/libcurl-errors.html first for more details."
     ]
    }
   ],
   "source": [
    "import yahooquery as yq\n",
    "import requests_cache\n",
    "comprehensive = {}\n",
    "isins = list(isins)\n",
    "requests_cache.install_cache(\n",
    "    'yahoo_cache',      # Dateiname der Cache-DB\n",
    "    backend='sqlite',\n",
    "    expire_after=None  # None = nie ablaufen\n",
    ")\n",
    "for isin in isins:\n",
    "    data = yq.search(isin, first_quote=True)\n",
    "    \n",
    "    comprehensive[isin] = data\n",
    "\n",
    "\n",
    "with open(\"/Users/a2/code/fin/trade/tradx/data/ticker/comprehensive.json\", \"w\") as f:\n",
    "    json.dump(comprehensive, f)\n"
   ]
  },
  {
   "cell_type": "code",
   "execution_count": 25,
   "metadata": {},
   "outputs": [
    {
     "name": "stdout",
     "output_type": "stream",
     "text": [
      "YF deprecation warning: set proxy via new config function: yf.set_config(proxy=proxy)\n"
     ]
    }
   ],
   "source": [
    "t= yf.Ticker(\"DE0007164600\")"
   ]
  },
  {
   "cell_type": "code",
   "execution_count": 29,
   "metadata": {},
   "outputs": [
    {
     "data": {
      "text/html": [
       "<div>\n",
       "<style scoped>\n",
       "    .dataframe tbody tr th:only-of-type {\n",
       "        vertical-align: middle;\n",
       "    }\n",
       "\n",
       "    .dataframe tbody tr th {\n",
       "        vertical-align: top;\n",
       "    }\n",
       "\n",
       "    .dataframe thead th {\n",
       "        text-align: right;\n",
       "    }\n",
       "</style>\n",
       "<table border=\"1\" class=\"dataframe\">\n",
       "  <thead>\n",
       "    <tr style=\"text-align: right;\">\n",
       "      <th></th>\n",
       "      <th>avg</th>\n",
       "      <th>low</th>\n",
       "      <th>high</th>\n",
       "      <th>yearAgoEps</th>\n",
       "      <th>numberOfAnalysts</th>\n",
       "      <th>growth</th>\n",
       "    </tr>\n",
       "    <tr>\n",
       "      <th>period</th>\n",
       "      <th></th>\n",
       "      <th></th>\n",
       "      <th></th>\n",
       "      <th></th>\n",
       "      <th></th>\n",
       "      <th></th>\n",
       "    </tr>\n",
       "  </thead>\n",
       "  <tbody>\n",
       "    <tr>\n",
       "      <th>0q</th>\n",
       "      <td>1.45949</td>\n",
       "      <td>1.38000</td>\n",
       "      <td>1.67</td>\n",
       "      <td>1.10000</td>\n",
       "      <td>9</td>\n",
       "      <td>0.3268</td>\n",
       "    </tr>\n",
       "    <tr>\n",
       "      <th>+1q</th>\n",
       "      <td>1.59705</td>\n",
       "      <td>1.49000</td>\n",
       "      <td>1.81</td>\n",
       "      <td>1.23000</td>\n",
       "      <td>9</td>\n",
       "      <td>0.2984</td>\n",
       "    </tr>\n",
       "    <tr>\n",
       "      <th>0y</th>\n",
       "      <td>6.19722</td>\n",
       "      <td>5.93000</td>\n",
       "      <td>6.86</td>\n",
       "      <td>4.53000</td>\n",
       "      <td>24</td>\n",
       "      <td>0.3680</td>\n",
       "    </tr>\n",
       "    <tr>\n",
       "      <th>+1y</th>\n",
       "      <td>7.28427</td>\n",
       "      <td>6.86981</td>\n",
       "      <td>7.85</td>\n",
       "      <td>6.19722</td>\n",
       "      <td>24</td>\n",
       "      <td>0.1754</td>\n",
       "    </tr>\n",
       "  </tbody>\n",
       "</table>\n",
       "</div>"
      ],
      "text/plain": [
       "            avg      low  high  yearAgoEps  numberOfAnalysts  growth\n",
       "period                                                              \n",
       "0q      1.45949  1.38000  1.67     1.10000                 9  0.3268\n",
       "+1q     1.59705  1.49000  1.81     1.23000                 9  0.2984\n",
       "0y      6.19722  5.93000  6.86     4.53000                24  0.3680\n",
       "+1y     7.28427  6.86981  7.85     6.19722                24  0.1754"
      ]
     },
     "execution_count": 29,
     "metadata": {},
     "output_type": "execute_result"
    }
   ],
   "source": [
    "t.earnings_estimate"
   ]
  },
  {
   "cell_type": "code",
   "execution_count": 31,
   "metadata": {},
   "outputs": [
    {
     "data": {
      "text/plain": [
       "530"
      ]
     },
     "execution_count": 31,
     "metadata": {},
     "output_type": "execute_result"
    }
   ],
   "source": [
    "len(comprehensive.keys())"
   ]
  },
  {
   "cell_type": "code",
   "execution_count": 8,
   "metadata": {},
   "outputs": [
    {
     "data": {
      "text/plain": [
       "{'Dividend Date': datetime.date(2025, 5, 15),\n",
       " 'Ex-Dividend Date': datetime.date(2025, 5, 12),\n",
       " 'Earnings Date': [datetime.date(2025, 7, 30), datetime.date(2025, 8, 4)],\n",
       " 'Earnings High': 1.51,\n",
       " 'Earnings Low': 1.34,\n",
       " 'Earnings Average': 1.42517,\n",
       " 'Revenue High': 90627800000,\n",
       " 'Revenue Low': 86919000000,\n",
       " 'Revenue Average': 88686445280}"
      ]
     },
     "execution_count": 8,
     "metadata": {},
     "output_type": "execute_result"
    }
   ],
   "source": [
    "ticker.calendar"
   ]
  },
  {
   "cell_type": "code",
   "execution_count": 9,
   "metadata": {},
   "outputs": [
    {
     "data": {
      "text/plain": [
       "Date\n",
       "1987-05-11 00:00:00-04:00    0.000536\n",
       "1987-08-10 00:00:00-04:00    0.000536\n",
       "1987-11-17 00:00:00-05:00    0.000714\n",
       "1988-02-12 00:00:00-05:00    0.000714\n",
       "1988-05-16 00:00:00-04:00    0.000714\n",
       "                               ...   \n",
       "2024-05-10 00:00:00-04:00    0.250000\n",
       "2024-08-12 00:00:00-04:00    0.250000\n",
       "2024-11-08 00:00:00-05:00    0.250000\n",
       "2025-02-10 00:00:00-05:00    0.250000\n",
       "2025-05-12 00:00:00-04:00    0.260000\n",
       "Name: Dividends, Length: 87, dtype: float64"
      ]
     },
     "execution_count": 9,
     "metadata": {},
     "output_type": "execute_result"
    }
   ],
   "source": [
    "ticker.dividends"
   ]
  },
  {
   "cell_type": "code",
   "execution_count": 10,
   "metadata": {},
   "outputs": [
    {
     "name": "stdout",
     "output_type": "stream",
     "text": [
      "YF deprecation warning: set proxy via new config function: yf.set_config(proxy=proxy)\n"
     ]
    }
   ],
   "source": [
    "fm = yf.Ticker(\"DE0005772206\")"
   ]
  },
  {
   "cell_type": "code",
   "execution_count": 11,
   "metadata": {},
   "outputs": [
    {
     "data": {
      "text/plain": [
       "{'Ex-Dividend Date': datetime.date(2025, 7, 11),\n",
       " 'Earnings Date': [datetime.date(2025, 5, 8)],\n",
       " 'Earnings High': None,\n",
       " 'Earnings Low': None,\n",
       " 'Earnings Average': None,\n",
       " 'Revenue High': 625700000,\n",
       " 'Revenue Low': 625700000,\n",
       " 'Revenue Average': 625700000}"
      ]
     },
     "execution_count": 11,
     "metadata": {},
     "output_type": "execute_result"
    }
   ],
   "source": [
    "fm.calendar"
   ]
  },
  {
   "cell_type": "code",
   "execution_count": null,
   "metadata": {},
   "outputs": [],
   "source": []
  }
 ],
 "metadata": {
  "kernelspec": {
   "display_name": "trade",
   "language": "python",
   "name": "python3"
  },
  "language_info": {
   "codemirror_mode": {
    "name": "ipython",
    "version": 3
   },
   "file_extension": ".py",
   "mimetype": "text/x-python",
   "name": "python",
   "nbconvert_exporter": "python",
   "pygments_lexer": "ipython3",
   "version": "3.12.2"
  }
 },
 "nbformat": 4,
 "nbformat_minor": 2
}

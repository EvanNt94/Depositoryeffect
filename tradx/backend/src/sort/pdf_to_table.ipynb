{
 "cells": [
  {
   "cell_type": "code",
   "execution_count": 4,
   "metadata": {},
   "outputs": [
    {
     "name": "stderr",
     "output_type": "stream",
     "text": [
      "Got stderr: Okt. 23, 2024 11:28:37 NACHM. org.apache.pdfbox.pdmodel.font.PDTrueTypeFont <init>\n",
      "WARNUNG: Using fallback font 'Helvetica-Bold' for 'Calibri,Bold'\n",
      "Okt. 23, 2024 11:28:38 NACHM. org.apache.pdfbox.pdmodel.font.PDTrueTypeFont <init>\n",
      "WARNUNG: Using fallback font 'Helvetica-Bold' for 'Calibri,Bold'\n",
      "Okt. 23, 2024 11:28:40 NACHM. org.apache.pdfbox.pdmodel.font.PDSimpleFont toUnicode\n",
      "WARNUNG: No Unicode mapping for c1down (140) in font Wingdings3\n",
      "Okt. 23, 2024 11:28:40 NACHM. org.apache.pdfbox.pdmodel.font.PDSimpleFont toUnicode\n",
      "WARNUNG: No Unicode mapping for a2up (35) in font Wingdings3\n",
      "Okt. 23, 2024 11:28:40 NACHM. org.apache.pdfbox.pdmodel.font.PDSimpleFont toUnicode\n",
      "WARNUNG: No Unicode mapping for g51 (172) in font Wingdings3\n",
      "Okt. 23, 2024 11:28:40 NACHM. org.apache.pdfbox.pdmodel.font.PDSimpleFont toUnicode\n",
      "WARNUNG: No Unicode mapping for triangleup (112) in font Wingdings3\n",
      "\n"
     ]
    }
   ],
   "source": [
    "import tabula\n",
    "import pandas as pd\n",
    "\n",
    "p = '/Users/a2/Downloads/DOL ΕΝΑ-2024-202 (23 Oct).pdf'\n",
    "\n",
    "# Tabelle aus PDF extrahieren\n",
    "df = tabula.read_pdf(p, pages='all', multiple_tables=True)"
   ]
  },
  {
   "cell_type": "code",
   "execution_count": 6,
   "metadata": {},
   "outputs": [
    {
     "data": {
      "text/html": [
       "<div>\n",
       "<style scoped>\n",
       "    .dataframe tbody tr th:only-of-type {\n",
       "        vertical-align: middle;\n",
       "    }\n",
       "\n",
       "    .dataframe tbody tr th {\n",
       "        vertical-align: top;\n",
       "    }\n",
       "\n",
       "    .dataframe thead th {\n",
       "        text-align: right;\n",
       "    }\n",
       "</style>\n",
       "<table border=\"1\" class=\"dataframe\">\n",
       "  <thead>\n",
       "    <tr style=\"text-align: right;\">\n",
       "      <th></th>\n",
       "      <th>Total Transactions Value (€): 471,967.17</th>\n",
       "      <th>Unnamed: 0</th>\n",
       "      <th>Athex Capitalisation (€)</th>\n",
       "    </tr>\n",
       "  </thead>\n",
       "  <tbody>\n",
       "    <tr>\n",
       "      <th>0</th>\n",
       "      <td>Athex Capitalisation (€): 608,091,788.85</td>\n",
       "      <td>NaN</td>\n",
       "      <td>630.0</td>\n",
       "    </tr>\n",
       "    <tr>\n",
       "      <th>1</th>\n",
       "      <td>620Daily change: € | % -1,739,837.57</td>\n",
       "      <td>-0.29%</td>\n",
       "      <td>NaN</td>\n",
       "    </tr>\n",
       "    <tr>\n",
       "      <th>2</th>\n",
       "      <td>NaN</td>\n",
       "      <td>NaN</td>\n",
       "      <td>610.0</td>\n",
       "    </tr>\n",
       "    <tr>\n",
       "      <th>3</th>\n",
       "      <td>Yearly Avg Capitalisation: € | % chng prev yea...</td>\n",
       "      <td>57.28%</td>\n",
       "      <td>600.0</td>\n",
       "    </tr>\n",
       "    <tr>\n",
       "      <th>4</th>\n",
       "      <td>NaN</td>\n",
       "      <td>NaN</td>\n",
       "      <td>590.0</td>\n",
       "    </tr>\n",
       "    <tr>\n",
       "      <th>5</th>\n",
       "      <td>Athex Alternative Market Share Price Index | %...</td>\n",
       "      <td>-0.29%</td>\n",
       "      <td>580.0</td>\n",
       "    </tr>\n",
       "    <tr>\n",
       "      <th>6</th>\n",
       "      <td>Athex Alternative Market Share Price Index Cap...</td>\n",
       "      <td>NaN</td>\n",
       "      <td>570.0</td>\n",
       "    </tr>\n",
       "  </tbody>\n",
       "</table>\n",
       "</div>"
      ],
      "text/plain": [
       "            Total Transactions Value (€): 471,967.17 Unnamed: 0  \\\n",
       "0           Athex Capitalisation (€): 608,091,788.85        NaN   \n",
       "1               620Daily change: € | % -1,739,837.57     -0.29%   \n",
       "2                                                NaN        NaN   \n",
       "3  Yearly Avg Capitalisation: € | % chng prev yea...     57.28%   \n",
       "4                                                NaN        NaN   \n",
       "5  Athex Alternative Market Share Price Index | %...     -0.29%   \n",
       "6  Athex Alternative Market Share Price Index Cap...        NaN   \n",
       "\n",
       "   Athex Capitalisation (€)  \n",
       "0                     630.0  \n",
       "1                       NaN  \n",
       "2                     610.0  \n",
       "3                     600.0  \n",
       "4                     590.0  \n",
       "5                     580.0  \n",
       "6                     570.0  "
      ]
     },
     "execution_count": 6,
     "metadata": {},
     "output_type": "execute_result"
    }
   ],
   "source": [
    "df[0]"
   ]
  },
  {
   "cell_type": "code",
   "execution_count": null,
   "metadata": {},
   "outputs": [],
   "source": []
  }
 ],
 "metadata": {
  "kernelspec": {
   "display_name": "base",
   "language": "python",
   "name": "python3"
  },
  "language_info": {
   "codemirror_mode": {
    "name": "ipython",
    "version": 3
   },
   "file_extension": ".py",
   "mimetype": "text/x-python",
   "name": "python",
   "nbconvert_exporter": "python",
   "pygments_lexer": "ipython3",
   "version": "3.11.6"
  }
 },
 "nbformat": 4,
 "nbformat_minor": 2
}

{
 "cells": [
  {
   "cell_type": "markdown",
   "metadata": {},
   "source": [
    "NOT WORKING - COOKIE TODO"
   ]
  },
  {
   "cell_type": "code",
   "execution_count": 2,
   "metadata": {},
   "outputs": [],
   "source": [
    "import pandas as pd\n",
    "import datetime\n",
    "\n",
    "DELAY = 10 # as in robots.txt\n",
    "\n",
    "ticker = \"SAP\"\n",
    "\n",
    "base_url = f\"https://www.stockoptionschannel.com/symbol/?symbol={ticker}\"\n",
    "aa = []\n",
    "df = pd.read_html(base_url)\n"
   ]
  },
  {
   "cell_type": "code",
   "execution_count": 3,
   "metadata": {},
   "outputs": [
    {
     "data": {
      "text/plain": [
       "11"
      ]
     },
     "execution_count": 3,
     "metadata": {},
     "output_type": "execute_result"
    }
   ],
   "source": [
    "len(df)"
   ]
  },
  {
   "cell_type": "code",
   "execution_count": 11,
   "metadata": {},
   "outputs": [
    {
     "data": {
      "text/html": [
       "<div>\n",
       "<style scoped>\n",
       "    .dataframe tbody tr th:only-of-type {\n",
       "        vertical-align: middle;\n",
       "    }\n",
       "\n",
       "    .dataframe tbody tr th {\n",
       "        vertical-align: top;\n",
       "    }\n",
       "\n",
       "    .dataframe thead th {\n",
       "        text-align: right;\n",
       "    }\n",
       "</style>\n",
       "<table border=\"1\" class=\"dataframe\">\n",
       "  <thead>\n",
       "    <tr style=\"text-align: right;\">\n",
       "      <th></th>\n",
       "      <th>Expiration Month</th>\n",
       "      <th>Time Until Expiration</th>\n",
       "      <th>View Option Chain</th>\n",
       "    </tr>\n",
       "  </thead>\n",
       "  <tbody>\n",
       "    <tr>\n",
       "      <th>0</th>\n",
       "      <td>June 20, 2025</td>\n",
       "      <td>25 days</td>\n",
       "      <td>selling covered calls for income  selling cash...</td>\n",
       "    </tr>\n",
       "    <tr>\n",
       "      <th>1</th>\n",
       "      <td>July 18, 2025</td>\n",
       "      <td>53 days</td>\n",
       "      <td>selling covered calls for income  selling cash...</td>\n",
       "    </tr>\n",
       "    <tr>\n",
       "      <th>2</th>\n",
       "      <td>September 19, 2025</td>\n",
       "      <td>116 days</td>\n",
       "      <td>selling covered calls for income  selling cash...</td>\n",
       "    </tr>\n",
       "    <tr>\n",
       "      <th>3</th>\n",
       "      <td>December 19, 2025</td>\n",
       "      <td>207 days</td>\n",
       "      <td>selling covered calls for income  selling cash...</td>\n",
       "    </tr>\n",
       "    <tr>\n",
       "      <th>4</th>\n",
       "      <td>January 16, 2026</td>\n",
       "      <td>235 days</td>\n",
       "      <td>selling covered calls for income  selling cash...</td>\n",
       "    </tr>\n",
       "    <tr>\n",
       "      <th>5</th>\n",
       "      <td>March 20, 2026</td>\n",
       "      <td>298 days</td>\n",
       "      <td>selling covered calls for income  selling cash...</td>\n",
       "    </tr>\n",
       "    <tr>\n",
       "      <th>6</th>\n",
       "      <td>June 18, 2026</td>\n",
       "      <td>388 days</td>\n",
       "      <td>selling covered calls for income  selling cash...</td>\n",
       "    </tr>\n",
       "    <tr>\n",
       "      <th>7</th>\n",
       "      <td>January 15, 2027</td>\n",
       "      <td>599 days</td>\n",
       "      <td>selling covered calls for income  selling cash...</td>\n",
       "    </tr>\n",
       "  </tbody>\n",
       "</table>\n",
       "</div>"
      ],
      "text/plain": [
       "     Expiration Month Time Until Expiration  \\\n",
       "0       June 20, 2025               25 days   \n",
       "1       July 18, 2025               53 days   \n",
       "2  September 19, 2025              116 days   \n",
       "3   December 19, 2025              207 days   \n",
       "4    January 16, 2026              235 days   \n",
       "5      March 20, 2026              298 days   \n",
       "6       June 18, 2026              388 days   \n",
       "7    January 15, 2027              599 days   \n",
       "\n",
       "                                   View Option Chain  \n",
       "0  selling covered calls for income  selling cash...  \n",
       "1  selling covered calls for income  selling cash...  \n",
       "2  selling covered calls for income  selling cash...  \n",
       "3  selling covered calls for income  selling cash...  \n",
       "4  selling covered calls for income  selling cash...  \n",
       "5  selling covered calls for income  selling cash...  \n",
       "6  selling covered calls for income  selling cash...  \n",
       "7  selling covered calls for income  selling cash...  "
      ]
     },
     "execution_count": 11,
     "metadata": {},
     "output_type": "execute_result"
    }
   ],
   "source": [
    "df[7]"
   ]
  },
  {
   "cell_type": "code",
   "execution_count": 20,
   "metadata": {},
   "outputs": [],
   "source": [
    "d = datetime.datetime.strptime(df[7].iloc[0,0], \"%B %d, %Y\")"
   ]
  },
  {
   "cell_type": "code",
   "execution_count": 19,
   "metadata": {},
   "outputs": [
    {
     "data": {
      "text/plain": [
       "0         June 20, 2025\n",
       "1         July 18, 2025\n",
       "2    September 19, 2025\n",
       "3     December 19, 2025\n",
       "4      January 16, 2026\n",
       "5        March 20, 2026\n",
       "6         June 18, 2026\n",
       "7      January 15, 2027\n",
       "Name: Expiration Month, dtype: object"
      ]
     },
     "execution_count": 19,
     "metadata": {},
     "output_type": "execute_result"
    }
   ],
   "source": [
    "df[7].iloc[:, 0]"
   ]
  },
  {
   "cell_type": "code",
   "execution_count": 31,
   "metadata": {},
   "outputs": [
    {
     "name": "stdout",
     "output_type": "stream",
     "text": [
      "20250620\n"
     ]
    }
   ],
   "source": [
    "print(d.strftime(\"%Y%m%d\"))\n",
    "s = d.strftime(\"%Y%m%d\")\n",
    "t = \"call\"\n",
    "base_url = f\"https://www.stockoptionschannel.com/symbol/?symbol={ticker}&month={s}&type={t}\""
   ]
  },
  {
   "cell_type": "code",
   "execution_count": 47,
   "metadata": {},
   "outputs": [],
   "source": [
    "import requests\n",
    "from io import StringIO"
   ]
  },
  {
   "cell_type": "code",
   "execution_count": 48,
   "metadata": {},
   "outputs": [],
   "source": [
    "headers = {'User-Agent': 'Mozilla/5.0'}\n",
    "cookies = {\"__eoi\":\"ID=397008d382acdff1:T=1748216751:RT=1748279407:S=AA-AfjY-i7rWMKgBDzS5b2BjkhtV\", \n",
    "            \"__gads\": \"ID=9e3c2226cb0b0a6d:T=1748216974:RT=1748279407:S=ALNI_MYfZhnq3bqaZP_1YoWQuxoLuDR5gQ\", \n",
    "            \"__gpi\": \"UID=000010c6efceb1c8:T=1748216974:RT=1748279407:S=ALNI_MYTJ6qXq1bb2UW_lzQEtQohULX-qQ\", \n",
    "            \"_ga\": \"GA1.1.2091615650.1748216752\",\n",
    "            \"_ga_91PZRHCKVV\": \"GS2.1.s1748278977$o4$g1$t1748280663$j0$l0$h0\",\n",
    "            \"coregval\":\t\"ims\",\n",
    "            \"FCCDCF\": \"%5Bnull%2Cnull%2Cnull%2C%5B%22CQR96cAQR96cAEsACBDEBsFoAP_gAEPgACiQINJD7C7FbSFCyD5zaLsAMAhHRsAAQoQAAASBAmABQAKQIAQCgkAYFASABAACAAAAICRBIQIECAAAAUAAQAAAAAAEAAAAAAAIIAAAgAEAAAAIAAACAIAAEAAIAAAAEAAAmAgAAIIACAAAgAAAAAAAAAAAAAAAAACAAAAAAAAAAAAAAAAAAQNVSD2F2K2kKFkHCmwXYAYBCujYAAhQgAAAkCBMACgAUgQAgFJIAgCIEAAAAAAAAAQEiCQAAQABAAAIACgAAAAAAIAAAAAAAQQAABAAIAAAAAAAAEAQAAIAAQAAAAIAABEhAAAQQAEAAAAAAAQAAA%22%2C%222~70.89.93.108.122.149.184.196.236.259.311.313.314.323.358.415.442.486.494.495.540.574.609.723.864.981.1029.1048.1051.1095.1097.1126.1205.1276.1301.1365.1415.1449.1514.1570.1577.1598.1651.1716.1735.1753.1765.1870.1878.1889.1958.1960.2072.2253.2299.2373.2415.2506.2526.2531.2568.2571.2575.2624.2677.2778~dv.%22%2C%225A4C5261-A581-4FB6-B4BF-D8A0C684A005%22%5D%5D\",\n",
    "            \"FCNEC\": \"%5B%5B%22AKsRol-YYoiFt75yGp4AxBO2nIqtMaMujcKFUDdc333Eou7tSUlQCksUo49EJeEzbAzCVm_y-CwjMdAXItaE-Uf_vYVRuZtuIQE9lL-y_X8KvHEvPxt0Ock6HtTA0AltolbcZ953d8JHkxBAqe8a4TeKZoUt4YPFtg%3D%3D%22%5D%5D\",\n",
    "            \"slogin\": \"1748216939\"}\n",
    "resp  = requests.get(base_url, headers=headers, cookies=cookies)\n",
    "html = resp.text\n",
    "\n",
    "dfs = pd.read_html(StringIO(html))"
   ]
  },
  {
   "cell_type": "code",
   "execution_count": 49,
   "metadata": {},
   "outputs": [
    {
     "data": {
      "text/plain": [
       "20"
      ]
     },
     "execution_count": 49,
     "metadata": {},
     "output_type": "execute_result"
    }
   ],
   "source": [
    "len(dfs)"
   ]
  },
  {
   "cell_type": "code",
   "execution_count": 45,
   "metadata": {},
   "outputs": [
    {
     "data": {
      "text/plain": [
       "'<!DOCTYPE html PUBLIC \"-//W3C//DTD HTML 4.01 Transitional//EN\" \"http://www.w3.org/TR/html4/loose.dtd\"><HTML lang=\"en-US\">\\n<head><meta http-equiv=\"X-UA-Compatible\" content=\"IE=8\" />\\n<META name=\"keywords\" content=\"sap options chain\">\\n<META name=\"description\" content=\"Options chains for selling calls and puts, for symbol SAP, from Stock Options Channel\">\\n<link rel=\"alternate\" media=\"only screen and (max-width: 640px)\" href=\"https://m.stockoptionschannel.com/symbol/?symbol=SAP&month=20250620&type=call\">\\n<TITLE>SAP Options Chain</TITLE><script type=\"text/javascript\" src=\"https://www.marketnewsvideo.com/swfobject.js\"></script><style type=\"text/css\"> \\ntd.menuon {\\n        border-left: 1px solid #003300;\\n        border-right: 1px solid #8678B3;\\n\\tpadding-left: 18px;\\n\\tpadding-right: 18px;\\n        height: 28px;\\n        font-family: Trebuchet MS, Arial Narrow;\\n\\tfont-weight: bold;\\n\\ttext-transform: uppercase;\\n\\tfont-size: 12px;\\n        background: #8E75E0;\\n}\\ntd.menuoff {\\n        border-left: 1px solid #003300;\\n        border-right: 1px solid #8678B3;\\n\\tpadding-left: 18px;\\n\\tpadding-right: 18px;\\n       \\theight: 28px;\\n        font-family: Trebuchet MS, Arial Narrow;\\n\\tfont-weight: bold;\\n\\ttext-transform: uppercase;\\n\\tfont-size: 12px; \\n        background-image: url(\\'https://www.stockoptionschannel.com/tabbkg.gif\\');\\n}\\na.tabsmenu:link, a.tabsmenu:visited { text-decoration: none; color: #FFFFFF; }\\na.tabsmenu:hover, a.tabsmenu:active { text-decoration: none; color: #FFFFFF; }\\na:link, a:visited { color: #222222; }\\na:hover, a:active { color: #555555; }\\nh1 { font-family: Trebuchet MS; font-size:13pt; font-weight: bold; color: #000000 }\\nh2 { font-family: Trebuchet MS; font-size:9pt; color: #000000 }\\n.formstyle { margin: 0px; padding: 4px; font-size:12px; color: #000000; \\nfont-family:Trebuchet MS; background-image:url(\\'https://www.stockoptionschannel.com/buttonbkg.gif\\'); \\nborder-top:1px solid #D4D0C8; border-left:1px solid #D4D0C8; \\nborder-right:1px solid #808080; border-bottom:1px solid #808080;\\n}\\n.inputstyle {\\npadding: 0px; font-size:12px; color: #000000; font-family:Trebuchet MS; background:#FFFFFF; border:1px solid #000000;\\n}\\n</style>\\n<link rel=\"shortcut icon\" href=\"https://www.stockoptionschannel.com/favicon.ico\"><script language=\"javascript\">\\nvar TTI1_links       = \"yes\";                    // links to detailed quotes \"yes\"/\"no\"\\nvar TTI1_quoteBase   = \"https://www.stockoptionschannel.com/quotes/\";                       // base url for links\\nvar TTI1_averages    = \"no\";                    // show averages for all stocks \"yes\"/\"no\"\\nvar TTI1_totals      = \"no\";                    // show totals for all stocks \"yes\"/\"no\"\\nvar TTI1_showTime    = \"no\";                    // show \"as of\" time \"yes\"/\"no\"\\nvar TTI1_tdFontColor = \"222222\";                 // font color to use within td cells (All colors in hex, no \\'#\\')\\nvar TTI1_thFontColor = \"555555\";                 // font color to use within th cells\\nvar TTI1_linkColor   = \"222222\";                 // link color\\nvar TTI1_rollColor   = \"555555\";                 // link rollover color\\nvar TTI1_upColor     = \"008A05\";                 // color to use for positive change value\\nvar TTI1_dnColor     = \"AA0000\";                 // color to use for negative change value\\nvar TTI1_tableColor  = \"F6F6F6\";                 // background color for table border\\nvar TTI1_thColor     = \"F6F6F6\";                 // background color for th cells\\nvar TTI1_tdColor     = \"F6F6F6\";                 // background color for td cells\\nvar TTI1_tdColor2    = \"F6F6F6\";                 // background color for alternating rows\\nvar TTI1_face        = \"Arial\";                // font face\\nvar TTI1_size        = \"2\";                      // font size\\nvar TTI1_border      = \"0\";                      // table border\\nvar TTI1_cellspacing = \"0\";                      // table cellspacing\\nvar TTI1_cellpadding = \"0\";                      // table cellpadding\\nvar TTI1_width       = \"299\";                    // table width\\n</script>\\n<script language=\"javascript\" src=\"https://www.tickertech.net/bnkinvest/stocktable.mpl?ticker=SAP&fields=0,22,5,9,7,2,3,4,10,24,25,19,18&side=on&head=1&n=1\"></script>\\n\\n\\n<script type=\\'text/javascript\\'>\\nvar googletag = googletag || {};\\ngoogletag.cmd = googletag.cmd || [];\\n(function() {\\nvar gads = document.createElement(\\'script\\'); gads.async = true; gads.type = \\'text/javascript\\'; var useSSL = \\'https:\\' == document.location.protocol; gads.src = (useSSL ? \\'https:\\' : \\'http:\\') + \\'//www.googletagservices.com/tag/js/gpt.js\\';\\nvar node = document.getElementsByTagName(\\'script\\')[0];\\nnode.parentNode.insertBefore(gads, node); })(); </script>\\n\\n<script type=\\'text/javascript\\'>\\ngoogletag.cmd.push(function() {\\ngoogletag.defineSlot(\\'/39697029/PortfolioChannel300by250\\', [300, 250], \\'div-gpt-ad-1415896715779-1\\').addService(googletag.pubads());\\ngoogletag.defineSlot(\\'/39697029/SOC160by600\\', [160, 600], \\'div-gpt-ad-1370012006255-0\\').addService(googletag.pubads());\\ngoogletag.defineSlot(\\'/39697029/SOC272by90\\', [272, 90], \\'div-gpt-ad-1370017291912-0\\').addService(googletag.pubads());\\ngoogletag.defineSlot(\\'/39697029/SOC400by315\\', [400, 315], \\'div-gpt-ad-1370019469952-0\\').addService(googletag.pubads());\\ngoogletag.defineSlot(\\'/39697029/SOC88by31Number1\\', [88, 31], \\'div-gpt-ad-1370012076351-0\\').addService(googletag.pubads());\\ngoogletag.defineSlot(\\'/39697029/SOC88by31Number2\\', [88, 31], \\'div-gpt-ad-1370012076351-1\\').addService(googletag.pubads());\\ngoogletag.defineSlot(\\'/39697029/SOC88by31Number3\\', [88, 31], \\'div-gpt-ad-1370012076351-2\\').addService(googletag.pubads());\\ngoogletag.defineSlot(\\'/39697029/SOC88by31Number4\\', [88, 31], \\'div-gpt-ad-1370012076351-3\\').addService(googletag.pubads());\\ngoogletag.defineSlot(\\'/39697029/ChartZero88by31\\', [88, 31], \\'div-gpt-ad-1378996509911-0\\').addService(googletag.pubads());\\ngoogletag.defineSlot(\\'/39697029/SOCTopTextLink\\', [1000, 22], \\'div-gpt-ad-1370020596979-0\\').addService(googletag.pubads());\\n\\n\\ngoogletag.pubads().enableSingleRequest();\\ngoogletag.enableServices();\\n});\\n</script>\\n<meta name=\"msvalidate.01\" content=\"1D7039372FEF5A50728355F888574FC9\" />\\n<script src=\"https://code.jquery.com/jquery-3.2.1.min.js\" integrity=\"sha256-hwg4gsxgFZhOsEEamdOYGBf13FyQuiTwlAQgxVSNgt4=\" crossorigin=\"anonymous\"></script>\\n</head><BODY BACKGROUND=\"https://www.stockoptionschannel.com/pagebkg.gif\" VLINK=\"#2255AA\" LINK=\"#006000\" MARGINHEIGHT=\"0\" MARGINWIDTH=\"0\" LEFTMARGIN=\"0\" TOPMARGIN=\"0\"><CENTER><script language=\"javascript\" src=\"/tbs.js\"></script>\\n\\n<iframe class=\"large-show\" src=\"https://www.marketbeat.com/scripts/partner-ads/HeaderAdPartnerSites.ashx\" width=\"970\" height=\"180\" frameborder=\"no\" scrolling=\"no\" style=\"overflow:hidden;margin-top:15px;margin-bottom:15px;\"></iframe>\\n\\n<DIV style=\"border: 1px solid #444444; margin-bottom:2px; background: #FFFFDD; width:1000px;\"><font face=\"Arial\"><!-- SOCTopTextLink --><div id=\\'div-gpt-ad-1370020596979-0\\' style=\\'width:1000px; height:21px;\\'><script type=\\'text/javascript\\'>\\ngoogletag.cmd.push(function() {\\ngoogletag.display(\\'div-gpt-ad-1370020596979-0\\'); }); </script></div></font></DIV>\\n<DIV style=\"border: 1px solid #444444; background: #FFFFFF; width:1000px;\">\\n<TABLE BORDER=\"0\" CELLSPACING=\"0\" CELLPADDING=\"0\" WIDTH=\"1000\" HEIGHT=\"95\" BGCOLOR=\"#FFFFFF\">\\n<TR HEIGHT=\"65\">\\n<TD ROWSPAN=\"2\" BGCOLOR=\"#FFFFFF\" WIDTH=\"18\"><img src=\"https://www.stockoptionschannel.com/tpixel.gif\" WIDTH=\"18\" HEIGHT=\"1\"></TD>\\n\\n\\t<TD WIDTH=\"430\"><a href=\"https://www.stockoptionschannel.com/\"><img src=\"https://www.stockoptionschannel.com/stock-options-channel-logo.jpg\" width=\"430\" height=\"65\" alt=\"Stock Options Channel\" border=\"0\"></a></TD>\\n\\n\\t<TD BGCOLOR=\"#FFFFFF\" WIDTH=\"18\"><img src=\"https://www.stockoptionschannel.com/tpixel.gif\" WIDTH=\"18\" HEIGHT=\"1\"></TD>\\n\\n\\t<TD><TABLE BORDER=\"0\" CELLSPACING=\"0\" CELLPADDING=\"0\" WIDTH=\"496\" HEIGHT=\"65\">\\n\\t<TR HEIGHT=\"65\">\\n\\t<FORM METHOD=\"get\" ACTION=\"https://www.stockoptionschannel.com/symbol/\" onsubmit=\"if (this.symbol.value == \\'Enter Symbol\\') this.symbol.value=\\'\\';\">\\n\\t<TD WIDTH=\"238\" valign=\"middle\"><input type=\"text\" id=\"symbol\" name=\"symbol\" value=\"Enter Symbol\" \\n\\tonclick=\"if (this.value == \\'Enter Symbol\\') this.value=\\'\\';\\n\\telse if (this.value.indexOf(\\':\\') > 0) { var tmpspl = this.value.split(\\':\\'); this.value = tmpspl[0]; }\" \\n\\tonchange=\"if (this.value == \\'Enter Symbol\\') this.value=\\'\\';\\n\\telse if (this.value.indexOf(\\':\\') > 0) { var tmpspl = this.value.split(\\':\\'); this.value = tmpspl[0]; }\" \\n\\tstyle=\"padding-top: 2px; padding-bottom: 6px; padding-left: 4px; padding-right: 4px; width:212px; height:15px; font-size:13px; color: #000000; font-family:Trebuchet MS; background:#FFFFFF; border:1px solid #000000;\"></TD>\\n\\t<TD BGCOLOR=\"#FFFFFF\" WIDTH=\"1\"><img src=\"https://www.stockoptionschannel.com/tpixel.gif\" WIDTH=\"1\" HEIGHT=\"1\"></TD>\\n\\t<TD WIDTH=\"257\" valign=\"middle\"><input type=\"submit\" value=\"Get Options Chain\" \\n\\tstyle=\"margin: 0px; padding: 0px; width:257px; height:25px; font-size:13px; color: #000000; font-family:Trebuchet MS; background-image:url(\\'https://www.stockoptionschannel.com/buttonbkg.gif\\'); border-top:1px solid #D4D0C8; border-left:1px solid #D4D0C8; border-right:1px solid #808080; border-bottom:1px solid #808080;\"></td>\\n\\t</FORM></TR>\\n\\t</TABLE></TD>\\n\\n\\t<TD BGCOLOR=\"#FFFFFF\" WIDTH=\"18\"><img src=\"https://www.stockoptionschannel.com/tpixel.gif\" WIDTH=\"18\" HEIGHT=\"1\"></TD>\\n\\n<TD ROWSPAN=\"2\" BGCOLOR=\"#FFFFFF\" WIDTH=\"18\"><img src=\"https://www.stockoptionschannel.com/tpixel.gif\" WIDTH=\"18\" HEIGHT=\"1\"></TD>\\n</TR>\\n<TR HEIGHT=\"30\">\\n<TD colspan=\"4\"><table border=\"0\" cellspacing=\"0\" cellpadding=\"0\" width=\"964\" height=\"30\">\\n<tr><td colspan=\"200\" bgcolor=\"#003300\"><img src=\"https://www.stockoptionschannel.com/tpixel.gif\" width=\"1\" height=\"1\"></td></tr>\\n<tr><td background=\"https://www.stockoptionschannel.com/tabbkg.gif\"><table border=\"0\" cellspacing=\"0\" cellpadding=\"0\" width=\"100%\"><tr>\\n\\t\\n        <td class=\"menuoff\" onmouseover=\"this.className=\\'menuon\\'\" \\n\\tonmouseout=\"this.className=\\'menuoff\\'\" onclick=\"window.location=\\'https://www.stockoptionschannel.com/\\'\" \\n        valign=\"middle\" align=\"center\"><a href=\"https://www.stockoptionschannel.com/\" class=\"tabsmenu\" title=\"Stock Options Channel Home Page\">Home</a></td>\\n\\t\\n        <td class=\"menuoff\" onmouseover=\"this.className=\\'menuon\\'\"\\n        onmouseout=\"this.className=\\'menuoff\\'\" onclick=\"window.location=\\'https://www.stockoptionschannel.com/articles/\\'\" \\n        valign=\"middle\" align=\"center\"><a href=\"https://www.stockoptionschannel.com/articles/\" class=\"tabsmenu\" title=\"Stock Options Articles\">Articles</a></td>\\n\\n        <td class=\"menuoff\" onmouseover=\"this.className=\\'menuon\\'\" \\n\\tonmouseout=\"this.className=\\'menuoff\\'\" onclick=\"window.location=\\'https://www.stockoptionschannel.com/selling-calls-for-income/\\'\" \\n        valign=\"middle\" align=\"center\"><a href=\"https://www.stockoptionschannel.com/selling-calls-for-income/\" class=\"tabsmenu\" title=\"Selling Calls For Income\">Selling Calls For Income</a></td>\\n\\n        <td class=\"menuoff\" onmouseover=\"this.className=\\'menuon\\'\" \\n\\tonmouseout=\"this.className=\\'menuoff\\'\" onclick=\"window.location=\\'https://www.stockoptionschannel.com/selling-puts-for-income/\\'\" \\n        valign=\"middle\" align=\"center\"><a href=\"https://www.stockoptionschannel.com/selling-puts-for-income/\" class=\"tabsmenu\" title=\"Selling Puts For Income\">Selling Puts For Income</a></td>\\n\\n        <td class=\"menuoff\" onmouseover=\"this.className=\\'menuoff\\'\"\\n        onmouseout=\"this.className=\\'menuoff\\'\" onclick=\"window.location=\\'https://www.portfoliochannel.com/stock-options-channel-premium-newsletter/\\'\"\\n        valign=\"middle\" align=\"center\"><a href=\"https://www.portfoliochannel.com/stock-options-channel-premium-newsletter/\" class=\"tabsmenu\" style=\"text-transform: none;\">Top Ideas</a></td>\\n\\n        <td class=\"menuoff\" onmouseover=\"this.className=\\'menuon\\'\" \\n\\tonmouseout=\"this.className=\\'menuoff\\'\" onclick=\"window.location=\\'https://www.stockoptionschannel.com/watchlist/\\'\" \\n        valign=\"middle\" align=\"center\"><a href=\"https://www.stockoptionschannel.com/watchlist/\" class=\"tabsmenu\" title=\"My Stock Options Watchlist\">My Watchlist</a></td>\\n\\n        <td class=\"menuoff\" onmouseover=\"this.className=\\'menuon\\'\"\\n        onmouseout=\"this.className=\\'menuoff\\'\" onclick=\"window.location=\\'https://www.stockoptionschannel.com/yieldboost-rank-by-industry/\\'\" \\n        valign=\"middle\" align=\"center\"><a href=\"https://www.stockoptionschannel.com/yieldboost-rank-by-industry/\" class=\"tabsmenu\" title=\"YieldBoost Ranks By Industry\">YieldBoost Ranks</a></td>\\n\\n\\t</tr>\\n</table></td>\\n</tr>\\n<tr><td colspan=\"200\" bgcolor=\"#003300\"><img src=\"https://www.stockoptionschannel.com/tpixel.gif\" width=\"1\" height=\"1\"></td></tr>\\n</table></TD>\\n</TR></TABLE>\\n<img src=\"https://www.stockoptionschannel.com/tpixel.gif\" WIDTH=\"1000\" HEIGHT=\"18\"><div id=\"scrollPastElement\"></div><img src=\"/Image6.jpg\" width=\"100%\" style=\"max-width: 1000px\"><br><br><br>\\n\\t\\t<font face=\"Arial\" size=\"3\"><font size=\"4\"><b>FREE</b> registration required to continue...<p></font>\\n\\t\\t<small>\\n\\t\\t\\n\\t\\tYou have viewed 6 pages within the last 6 hours.  To continue, please register at Stock Options Channel for unlimited\\n<br>page views and our free weekly newsletter, by entering your name and email address below.  Registration is absolutely free.<br>\\nBy registering, you agree to our <a target=\"_new\" href=\"/disclaimer/privacy/\">privacy policy</a> &amp; <a target=\"_new\" href=\"/disclaimer/\">terms of use</a>.\\n\\t\\t If you are in Canada or the European Union, you must <a target=\"regframe\" href=\"/caregister/\">click here</a> for alternate registration page.</a>\\n\\n\\t\\t<p>\\n\\n\\t\\t<iframe name=\"regframe\" width=\"1000\" height=\"265\" frameborder=\"0\" src=\"/register/\"></iframe>\\n\\t\\t\\n\\t\\tProblems with your registration \\'\\'sticking?\\'\\'  Enable your browser to receive our \\'\\'cookie\\'\\' to resolve.<br>\\n\\t\\tOther questions? Email us at: <a href=\"mailto:info@stockoptionschannel.com\">info@stockoptionschannel.com</a>\\n\\t\\t<style type=\"text/css\">\\n.exit-intent-popup {\\n    position: fixed;\\n    top: 0;\\n    left: 0;\\n    bottom: 0;\\n    right: 0;\\n    z-index: 599;\\n    background: rgba(33, 33, 33, 0.8);\\n    transform: translateY(60%) scale(0);\\n}\\n\\n.exit-intent-popup.visible {\\n    transform: translateY(0) scale(1);\\n}\\n\\n.exitpop {\\n    position: absolute;\\n    top: 50%;\\n    left: 50%;\\n    transform: translate(-50%, -55%);\\n    background: #000000;\\n    padding: 0px;\\n    width: 765px;\\n    border-radius: 3px;\\n    border: 4px solid #7ED126;\\n}\\n\\n.closepop {\\n    cursor: pointer;\\n}\\n</style>\\n        <div class=\"exit-intent-popup\">\\n            <div class=\"exitpop\">\\n                <div class=\"closepop\" style=\"float: right; font-size: 15pt; font-weight: bold; margin-top: 2px; margin-right: 5px; color:#DD0000; font-family: Arial,Tahoma\" onclick=\"CookieService.setCookie(\\'exitPopShown\\', true, 30);\">X</div>\\n\\n                <div style=\"clear:both; font-family: Arial,Tahoma; font-size: 60px; color: #FFFFFF; text-align: justify; font-stretch: 100%; margin-left: 50px; margin-right: 50px; margin-top: 20px;\">\\n                <b>Wait!  Don\\'t leave yet.<br>\\n                <small>Want to receive our latest research absolutely free?</b></small>\\n                </div>\\n\\n                <div style=\"float:left; font-family: Arial,Tahoma; font-size: 175px; color: #FFFFFF; padding-top: 70px; width: 80px; font-stretch: 10%; position: absolute;\">\\n                &larrpl;\\n                </div>\\n                <div style=\"font-family: Arial,Tahoma; font-size: 20px; color: #FFFFFF; text-align:justify; padding-left: 70px; padding-right: 70px;\">\\n                <p style=\"width:100%\"><br>Click the button below for your complimentary copy of <i>Your Early Retirement Portfolio: Dividends Up to 8.7%&mdash;Every Month&mdash;Forever</i>.\\n                </p><p style=\"width:100%;margin-top: 20px;margin-bottom:20px;\">You\\'ll discover the details on 4 stocks and funds that pay you massive dividends as high as 8.7%.<br></p>\\n                </div>\\n\\n                <div style=\"background-color:#4FB0E8; clear:both; text-align:center; padding-top: 60px; padding-bottom: 60px;\">\\n                        <a target=\"_blank\" href=\"https://contrarianoutlook.com/free-monthly-dividend-report-offers/MNTHLYBNK?source=MNTHLYBNKCHANNELBEN&utm_source=BNKCHANNELBEN&utm_medium=interstitial&utm_campaign=MNTHLYBNKCHANNELBEN\"><button class=\"submit\" onclick=\"CookieService.setCookie(\\'exitPopShown\\', true, 30);\" style=\"border: 0; width: 300px; height: 50px; background-color: #83C11F; border-radius: 3px; font-family: Arial,Tahoma; font-size: 20px; font-weight: bold; color: #FFFFFF; cursor: pointer;\">Yes, send me my report!</button></a>\\n                        <button class=\"closepop\" onclick=\"CookieService.setCookie(\\'exitPopShown\\', true, 30);\" style=\"border: 0; margin-left: 10px; width: 300px; height: 50px; background-color: #666666; border-radius: 3px; font-family: Arial,Tahoma; font-size: 20px; color: #FFFFFF;\">No, I dislike monthly dividends.</button>\\n                </div>\\n            </div>\\n        </div>\\n        <script language=\"javascript\" src=\"/exitpop.js\"></script>\\n<img src=\"https://www.stockoptionschannel.com/tpixel.gif\" WIDTH=\"1000\" HEIGHT=\"18\"></div>\\n\\n<DIV style=\"width:950px;\">\\n<h2>SAP Options Chain <font color=\"#444444\">|</font> <a href=\"/\">www.StockOptionsChannel.com</a> <font color=\"#444444\">|</font> \\nCopyright &copy; 2012 - 2025, All Rights Reserved</h2>\\n<font face=\"Trebuchet MS\" size=\"2\" color=\"#333333\">\\n<small>\\n\\nNothing in Stock Options Channel is intended to be investment advice, nor does it represent the opinion of, counsel\\nfrom, or recommendations by BNK Invest Inc. or any of its affiliates, subsidiaries or partners.  \\n  None of the information contained herein constitutes a recommendation that any particular security, portfolio,\\n transaction, or investment strategy is suitable for any specific person.  All viewers agree that under no\\ncircumstances will BNK Invest, Inc,. its subsidiaries, partners, officers, employees, affiliates, or agents be held\\nliable for any loss or damage caused by your reliance on information obtained.  By visiting, using or viewing this site, you \\nagree to the following <a href=\"https://www.stockoptionschannel.com/disclaimer/\">Full Disclaimer &amp; Terms of Use</a> and \\n<a href=\"https://www.stockoptionschannel.com/disclaimer/privacy/\">Privacy Policy</a>.  <a \\nhref=\"http://widget.marketnewsvideo.com\" style=\"text-decoration: none;\">Video widget</a> and market videos powered by <a \\nhref=\"https://www.marketnewsvideo.com/\" style=\"text-decoration: none;\">Market News Video</a>.  Quote and option data delayed at \\nleast 15 minutes; <a href=\"http://www.tickertech.com/\">stock quote data powered by Ticker Technologies</a>, and <a \\nhref=\"http://www.mergent.com/\" style=\"text-decoration: none;\">Mergent</a>. <a \\nhref=\"https://www.stockoptionschannel.com/contact/\">Contact Stock Options Channel</a>; <a \\nhref=\"https://www.stockoptionschannel.com/about/\">Meet Our Editorial Staff</a>.\\n\\n<div class=\"g-plusone\" data-size=\"small\" data-annotation=\"inline\" data-width=\"120\"></div>\\n<script type=\"text/javascript\">\\n   (function() {\\n     var po = document.createElement(\\'script\\'); po.type = \\'text/javascript\\'; po.async = true;\\n     po.src = \\'https://apis.google.com/js/platform.js\\';\\n     var s = document.getElementsByTagName(\\'script\\')[0]; s.parentNode.insertBefore(po, s);\\n   })();\\n</script>\\n\\n</small></font>\\n</DIV>\\n\\n</CENTER>\\n\\n<style type=\"text/css\">\\n.modal {\\n  display: none;\\n  position: fixed;\\n  z-index: 598;\\n  padding-top: 100px;\\n  left: 0;\\n  top: 0;\\n  width: 100%;\\n  height: 100%;\\n  overflow: auto;\\n  background-color: rgb(0,0,0);\\n  background-color: rgba(0,0,0,0.2);\\n-webkit-backdrop-filter: blur(5px);\\n  backdrop-filter: blur(5px);\\n}\\n.modal-content {\\n  background-color: #888;\\n  margin: auto;\\n  padding: 0px;\\n  border: 5px solid #888;\\n  min-width: 310px;\\n  min-height: 310px;\\n  width: 60%;\\n  max-width: 650px;\\n}\\n.close {\\n  color: #666666;\\n  float: right;\\n  font-size: 28px;\\n  font-weight: bold;\\n}\\n.close:hover,\\n.close:focus {\\n  color: #000;\\n  text-decoration: none;\\n  cursor: pointer;\\n}\\n.nebula {\\n  width: 100%;\\n}\\n@media screen and (max-width: 1012px) {\\n      .nebula {\\n         width: 100%;\\n      }\\n      .modal-content {\\n         width: 95%;\\n      }\\n      .modal { padding-top: 50px; }\\n}\\n</style>\\n<div id=\"myModal\" class=\"modal\">\\n        <div class=\"modal-content\">\\n                <div class=\"nebula\" style=\"min-height: 215px; float: right; text-align:center; border: 1px solid #111111; font-family: Calibri,Tahoma,Arial; font-size: 18px; font-weight: normal; line-height: 16px; color: #FFFFFF; background: linear-gradient(to bottom,  #326544 0%,#193322 100%);\">\\n                        <center><div style=\"padding: 20px; min-height: 175px; text-align: left; max-width: 500px;\">\\n                                <center><div style=\"margin-bottom: 15px; font-size: 24px;\"><b>Join StockOptionsChannel.com</b></div><br></center>\\n                                <div style=\"margin-bottom:15px; margin-right: 8px; float:left;\"><b>&check;</b></div> Immediate access to this page, SAP Options Chain\\n                                <div style=\"clear:both\"><br></div>\\n                                <div style=\"margin-bottom:15px; margin-right: 8px; float:left;\"><b>&check;</b></div> Access our full coverage universe of stock options\\n                                <div style=\"clear:both\"><br></div>\\n                                <div style=\"margin-bottom:15px; margin-right: 8px; float:left;\"><b>&check;</b></div> Complimentary free weekly Stock Options Channel newsletter\\n                                <!--div style=\"clear:both\"><br></div>\\n                                <div style=\"margin-bottom:15px; margin-right: 8px; float:left;\"><b>&check;</b></div> Join FREE with just your email\\n                                <div style=\"clear:both\"></div-->\\n                        </div></center>\\n                </div>\\n                <div class=\"nebula\" style=\"min-width: 300px; min-height: 310px; background: linear-gradient(to bottom,  #EDF1F6 0%,#FBFDFF 100%); padding: 0px; float: left; text-align:center; background-color: #FFEEEE; font-family: Calibri,Tahoma,Arial; font-size: 22px; line-height:30px; color:#111111;\" id=\"joinbox\">\\n                        <div style=\"padding: 10px\">\\n                                <small><b>Create a FREE account to continue</b></small>\\n                                <form method=\"post\" action=\"/register/\" onsubmit=\"this.token.value=\\'674379028A2620258897A175308869A2218995512\\'; if (this.email.value.indexOf(\\'@\\') < 0 || this.email.value.indexOf(\\'.\\') < 0) { alert(\\'Please enter your email to continue.\\'); return false; } else if (this.email.value.toLowerCase().substring(this.email.value.length - 3) == \\'.ca\\' || this.email.value.toLowerCase().indexOf(\\'rogers.com\\') > 0 || this.email.value.toLowerCase().indexOf(\\'@telus\\') > 0 || this.email.value.toLowerCase().indexOf(\\'.telus\\') > 0 || this.email.value.toLowerCase().indexOf(\\'sasktel.\\') > 0 || this.email.value.toLowerCase().indexOf(\\'northwestel.\\') > 0 || this.email.value.toLowerCase().indexOf(\\'mts.net\\') > 0 || this.email.value.toLowerCase().indexOf(\\'ptd.net\\') > 0 || this.email.value.toLowerCase().indexOf(\\'bell.net\\') > 0 || this.email.value.toLowerCase().indexOf(\\'cogeco.net\\') > 0 || this.email.value.toLowerCase().indexOf(\\'auracom.\\') > 0 || this.email.value.toLowerCase().indexOf(\\'bellaliant.\\') > 0) { return confirm(\\'Please confirm you are in the US, or, cancel and use our alternative Canada registration page.  Based on the email address you entered, we detect that you may possibly be in Canada.  Because of the CASL legislation in effect as of July 1st, 2014, if you are in Canada you must register at the alternative registration page, the link to which was provided to you at the bottom of the paragraph at the top of this page.  If you are in fact in the US, simply click OK to confirm and continue with your registration.\\'); }\">\\n                                <input type=\"hidden\" name=\"token\" value=\"\"><input type=\"hidden\" name=\"mobile\" value=\"0\">\\n                                <input type=\"hidden\" name=\"stock\" value=\"\">\\n                                <input type=\"hidden\" name=\"name\" value=\"Member\">\\n                                <input type=\"hidden\" name=\"referer\" value=\"https://www.stockoptionschannel.com/symbol/?symbol=SAP&month=20250620&type=call\">\\n                                <input type=\"email\" name=\"email\" placeholder=\"Enter your email address\" style=\"height: 42px; width: 200px; font-size: 16px; background-color: #FEFEFE; border: 1px solid #CCCCCC; margin-bottom: 10px;\">\\n                                <input type=\"submit\" style=\"margin-top: 2px; height: 45px; padding-left: 18px; padding-right: 18px; font-weight: bold; color: #FFFFFF; background-color: #3559C4; text-decoration: none; border-radius: 2px; margin-right: 10px; font-size: 20px; border: 1px solid #26408D;\" value=\"JOIN NOW\">\\n                                <div style=\"line-height: 9pt;\"> <div style=\"margin-top:10px;\"><input type=\"checkbox\" name=\"91301\" checked> <input type=\"hidden\" name=\"abcw\" value=\"a\">\\n\\t\\t\\t\\t<input type=\"hidden\" name=\"cid\" value=\"91301\">\\n\\t\\t\\t\\t<span style=\"display:inline;width:100%;max-width:425px;;font-family:Arial;font-size:9pt;\"><b>New Report Reveals Top 8% Dividends (paid monthly) &#150; FREE!</b> Think you can&#146;t retire on your current nest egg? Good news: you&#146;re probably wrong. You might be perfectly positioned to clock out now&#151;or at least years earlier than you think&#151;and not even know it. This FREE report reveals my full &#147;early retirement&#148; strategy. (<a target=\"_blank\" href=\"https://contrarianoutlook.com/index.php/privacy-policy\">Privacy Policy</a>)</span></div></div>\\n                                <br>\\n                                </form>\\n                                <small>Already have an account? <a style=\"color:#000000\" href=\"#\" onclick=\"document.getElementById(\\'joinbox\\').innerHTML = document.getElementById(\\'loginbox\\').innerHTML; return false;\">LOG IN</a></small>\\n                                <br><div style=\"line-height: 9px; font-size: 11px; margin-top: 10px;\">\\n                                <a href=\"/disclaimer/\" style=\"color:#000000\">Full Disclaimer &amp; Terms of Use</a> and <a style=\"color:#000000\" href=\"/disclaimer/privacy/\">Privacy Policy</a>. Important: If you are in Canada or the European Union, you must <a href=\"#\" style=\"color: #000000\" onclick=\"document.getElementById(\\'joinbox\\').innerHTML = document.getElementById(\\'eubox\\').innerHTML; return false;\">click here</a> for an alternate registration page.</div>\\n                        </div>\\n                </div>\\n                        <div style=\"height: 1px; visibility:hidden;\" id=\"loginbox\"><br><br>\\n                                <b>Welcome back!</b>\\n                                <form method=\"post\" action=\"/register/\" onsubmit=\"this.token.value=\\'674379028A2620258897A175308869A2218995512\\'; if (this.email.value.indexOf(\\'@\\') < 0 || this.email.value.indexOf(\\'.\\') < 0) { alert(\\'Please enter your email to continue.\\'); return false;}\">\\n                                <input type=\"hidden\" name=\"token\" value=\"\"><input type=\"hidden\" name=\"welcome\" value=\"back\">\\n                                <input type=\"hidden\" name=\"mobile\" value=\"0\">\\n                                <input type=\"hidden\" name=\"stock\" value=\"\">\\n                                <input type=\"hidden\" name=\"name\" value=\"Member\">\\n                                <input type=\"hidden\" name=\"referer\" value=\"https://www.stockoptionschannel.com/symbol/?symbol=SAP&month=20250620&type=call\">\\n                                <input type=\"email\" name=\"email\" placeholder=\"Enter your email address\" style=\"height: 40px; width: 275px; font-size: 18px; background-color: #FEFEFE; border: 1px solid #CCCCCC; margin-bottom: 10px;\"><br>\\n                                <input type=\"submit\" style=\"height: 45px; padding-left: 18px; padding-right: 18px; font-weight: bold; color: #FFFFFF; background-color: #3559C4; text-decoration: none; border-radius: 2px; margin-right: 10px; font-size: 25px; border: 1px solid #26408D;\" value=\"LOG IN\">\\n                                <div style=\"line-height: 9pt;\"> <div style=\"margin-top:10px;\"><input type=\"checkbox\" name=\"91301\" checked> <input type=\"hidden\" name=\"abcw\" value=\"a\">\\n\\t\\t\\t\\t<input type=\"hidden\" name=\"cid\" value=\"91301\">\\n\\t\\t\\t\\t<span style=\"display:inline;width:100%;max-width:425px;;font-family:Arial;font-size:9pt;\"><b>New Report Reveals Top 8% Dividends (paid monthly) &#150; FREE!</b> Think you can&#146;t retire on your current nest egg? Good news: you&#146;re probably wrong. You might be perfectly positioned to clock out now&#151;or at least years earlier than you think&#151;and not even know it. This FREE report reveals my full &#147;early retirement&#148; strategy. (<a target=\"_blank\" href=\"https://contrarianoutlook.com/index.php/privacy-policy\">Privacy Policy</a>)</span></div></div>\\n                                </form><br>\\n                        </div>\\n                        <div style=\"height: 1px; visibility:hidden;\" id=\"eubox\">\\n                                <span style=\"font-size: 11px; line-height: 9px; padding: 9px;\"><br><br>\\n                                StockOptionsChannel.com and parent company BNK Invest, Inc. value our relationship with you and would like to continue providing accurate and tailored communications to fit your investing needs. To receive our publications and other relevant communications, Canada\\'s anti-spam legislation (\\'\\'CASL\\'\\') and the European Union\\'s General Data Protection Regulation (\\'\\'GPDR\\'\\') requires us to obtain your express consent. Please provide your consent to continue. In any email we send, you will be given the option to withdraw your consent or unsubscribe from any or all of our newsletters or publications at any time.\\n                                </span>\\n                                <br><br>\\n                                <form method=\"post\" action=\"/caregister/\" onsubmit=\"this.token.value=\\'674379028A2620258897A175308869A2218995512\\'; if (this.email.value.indexOf(\\'@\\') < 0 || this.email.value.indexOf(\\'.\\') < 0) { alert(\\'Please enter your email to continue.\\'); return false;}\">\\n                                <input type=\"hidden\" name=\"token\" value=\"\"><input type=\"hidden\" name=\"welcome\" value=\"euorca\">\\n                                <input type=\"hidden\" name=\"mobile\" value=\"0\">\\n                                <input type=\"hidden\" name=\"stock\" value=\"\">\\n                                <input type=\"hidden\" name=\"name\" value=\"Member\">\\n                                <input type=\"hidden\" name=\"referer\" value=\"https://www.stockoptionschannel.com/symbol/?symbol=SAP&month=20250620&type=call\">\\n                                <input type=\"email\" name=\"email\" placeholder=\"Enter your email address\" style=\"height: 40px; width: 275px; font-size: 18px; background-color: #FEFEFE; border: 1px solid #CCCCCC; margin-bottom: 10px;\"><br>\\n                                <input type=\"submit\" style=\"height: 45px; padding-left: 18px; padding-right: 18px; font-weight: bold; color: #FFFFFF; background-color: #3559C4; text-decoration: none; border-radius: 2px; margin-right: 10px; font-size: 15px; border: 1px solid #26408D;\" value=\"I CONSENT &amp; REGISTER\">\\n                                </form><br>\\n                        </div>\\n                <div style=\"clear:both\"></div>\\n        </div>\\n</div>\\n<script language=\"javascript\">\\n        document.addEventListener(\\'DOMContentLoaded\\', function() {\\n                var scrollPastElement = document.querySelector(\\'#scrollPastElement\\');\\n        })\\n        window.onscroll = function() {\\n                if (scrollPastElement.getBoundingClientRect().top <= 0 && document.cookie.indexOf(\\'slogin\\') < 0) {\\n                        document.getElementById(\\'myModal\\').style.display = \\'block\\';\\n                }\\n        }\\n</script>\\n<script async src=\"https://www.googletagmanager.com/gtag/js?id=G-91PZRHCKVV\"></script>\\n<script>\\n  window.dataLayer = window.dataLayer || [];\\n  function gtag(){dataLayer.push(arguments);}\\n  gtag(\\'js\\', new Date());\\n\\n  gtag(\\'config\\', \\'G-91PZRHCKVV\\');\\n</script><!-- Quantcast Tag --><script type=\"text/javascript\">\\nvar _qevents = _qevents || [];\\n\\n(function() {\\nvar elem = document.createElement(\\'script\\'); elem.src = (document.location.protocol == \"https:\" ? \"https://secure\" : \"http://edge\") + \".quantserve.com/quant.js\"; elem.async = true; elem.type = \"text/javascript\"; var scpt = document.getElementsByTagName(\\'script\\')[0];scpt.parentNode.insertBefore(elem, scpt); })();\\n\\n_qevents.push({\\nqacct:\"p-yPA7V3QP1Bq8D\"\\n});\\n</script>\\n\\n<noscript>\\n<div style=\"display:none;\">\\n<img src=\"//pixel.quantserve.com/pixel/p-yPA7V3QP1Bq8D.gif\" border=\"0\" height=\"1\" width=\"1\" alt=\"Quantcast\"/>\\n</div>\\n</noscript><!-- End Quantcast tag -->\\n<!-- Begin comScore Tag -->\\n<script>\\n  var _comscore = _comscore || [];\\n  _comscore.push({ c1: \"2\", c2: \"16807273\" });\\n  (function() {\\n    var s = document.createElement(\"script\"), el = document.getElementsByTagName(\"script\")[0]; s.async = true;\\n    s.src = (document.location.protocol == \"https:\" ? \"https://sb\" : \"http://b\") + \".scorecardresearch.com/beacon.js\";\\n    el.parentNode.insertBefore(s, el);\\n  })();\\n</script>\\n<noscript>\\n  <img src=\"https://b.scorecardresearch.com/p?c1=2&c2=16807273&cv=2.0&cj=1\" />\\n</noscript>\\n<!-- End comScore Tag -->\\n</BODY></HTML>'"
      ]
     },
     "execution_count": 45,
     "metadata": {},
     "output_type": "execute_result"
    }
   ],
   "source": [
    "html"
   ]
  },
  {
   "cell_type": "code",
   "execution_count": 35,
   "metadata": {},
   "outputs": [
    {
     "name": "stdout",
     "output_type": "stream",
     "text": [
      "https://www.stockoptionschannel.com/symbol/?symbol=SAP&month=20250620&type=call\n"
     ]
    }
   ],
   "source": [
    "print(base_url)"
   ]
  },
  {
   "cell_type": "code",
   "execution_count": 38,
   "metadata": {},
   "outputs": [
    {
     "data": {
      "text/html": [
       "<div>\n",
       "<style scoped>\n",
       "    .dataframe tbody tr th:only-of-type {\n",
       "        vertical-align: middle;\n",
       "    }\n",
       "\n",
       "    .dataframe tbody tr th {\n",
       "        vertical-align: top;\n",
       "    }\n",
       "\n",
       "    .dataframe thead th {\n",
       "        text-align: right;\n",
       "    }\n",
       "</style>\n",
       "<table border=\"1\" class=\"dataframe\">\n",
       "  <thead>\n",
       "    <tr style=\"text-align: right;\">\n",
       "      <th></th>\n",
       "      <th>0</th>\n",
       "      <th>1</th>\n",
       "      <th>2</th>\n",
       "      <th>3</th>\n",
       "      <th>4</th>\n",
       "      <th>5</th>\n",
       "      <th>6</th>\n",
       "    </tr>\n",
       "  </thead>\n",
       "  <tbody>\n",
       "    <tr>\n",
       "      <th>0</th>\n",
       "      <td>Home</td>\n",
       "      <td>Articles</td>\n",
       "      <td>Selling Calls For Income</td>\n",
       "      <td>Selling Puts For Income</td>\n",
       "      <td>Top Ideas</td>\n",
       "      <td>My Watchlist</td>\n",
       "      <td>YieldBoost Ranks</td>\n",
       "    </tr>\n",
       "  </tbody>\n",
       "</table>\n",
       "</div>"
      ],
      "text/plain": [
       "      0         1                         2                        3  \\\n",
       "0  Home  Articles  Selling Calls For Income  Selling Puts For Income   \n",
       "\n",
       "           4             5                 6  \n",
       "0  Top Ideas  My Watchlist  YieldBoost Ranks  "
      ]
     },
     "execution_count": 38,
     "metadata": {},
     "output_type": "execute_result"
    }
   ],
   "source": [
    "dfs[2]"
   ]
  },
  {
   "cell_type": "code",
   "execution_count": 39,
   "metadata": {},
   "outputs": [],
   "source": [
    "import requests\n",
    "resp  = requests.get(base_url)"
   ]
  },
  {
   "cell_type": "code",
   "execution_count": 40,
   "metadata": {},
   "outputs": [
    {
     "data": {
      "text/plain": [
       "'<!DOCTYPE html PUBLIC \"-//W3C//DTD HTML 4.01 Transitional//EN\" \"http://www.w3.org/TR/html4/loose.dtd\"><HTML lang=\"en-US\">\\n<head><meta http-equiv=\"X-UA-Compatible\" content=\"IE=8\" />\\n<META name=\"keywords\" content=\"sap options chain\">\\n<META name=\"description\" content=\"Options chains for selling calls and puts, for symbol SAP, from Stock Options Channel\">\\n<link rel=\"alternate\" media=\"only screen and (max-width: 640px)\" href=\"https://m.stockoptionschannel.com/symbol/?symbol=SAP&month=20250620&type=call\">\\n<TITLE>SAP Options Chain</TITLE><script type=\"text/javascript\" src=\"https://www.marketnewsvideo.com/swfobject.js\"></script><style type=\"text/css\"> \\ntd.menuon {\\n        border-left: 1px solid #003300;\\n        border-right: 1px solid #8678B3;\\n\\tpadding-left: 18px;\\n\\tpadding-right: 18px;\\n        height: 28px;\\n        font-family: Trebuchet MS, Arial Narrow;\\n\\tfont-weight: bold;\\n\\ttext-transform: uppercase;\\n\\tfont-size: 12px;\\n        background: #8E75E0;\\n}\\ntd.menuoff {\\n        border-left: 1px solid #003300;\\n        border-right: 1px solid #8678B3;\\n\\tpadding-left: 18px;\\n\\tpadding-right: 18px;\\n       \\theight: 28px;\\n        font-family: Trebuchet MS, Arial Narrow;\\n\\tfont-weight: bold;\\n\\ttext-transform: uppercase;\\n\\tfont-size: 12px; \\n        background-image: url(\\'https://www.stockoptionschannel.com/tabbkg.gif\\');\\n}\\na.tabsmenu:link, a.tabsmenu:visited { text-decoration: none; color: #FFFFFF; }\\na.tabsmenu:hover, a.tabsmenu:active { text-decoration: none; color: #FFFFFF; }\\na:link, a:visited { color: #222222; }\\na:hover, a:active { color: #555555; }\\nh1 { font-family: Trebuchet MS; font-size:13pt; font-weight: bold; color: #000000 }\\nh2 { font-family: Trebuchet MS; font-size:9pt; color: #000000 }\\n.formstyle { margin: 0px; padding: 4px; font-size:12px; color: #000000; \\nfont-family:Trebuchet MS; background-image:url(\\'https://www.stockoptionschannel.com/buttonbkg.gif\\'); \\nborder-top:1px solid #D4D0C8; border-left:1px solid #D4D0C8; \\nborder-right:1px solid #808080; border-bottom:1px solid #808080;\\n}\\n.inputstyle {\\npadding: 0px; font-size:12px; color: #000000; font-family:Trebuchet MS; background:#FFFFFF; border:1px solid #000000;\\n}\\n</style>\\n<link rel=\"shortcut icon\" href=\"https://www.stockoptionschannel.com/favicon.ico\"><script language=\"javascript\">\\nvar TTI1_links       = \"yes\";                    // links to detailed quotes \"yes\"/\"no\"\\nvar TTI1_quoteBase   = \"https://www.stockoptionschannel.com/quotes/\";                       // base url for links\\nvar TTI1_averages    = \"no\";                    // show averages for all stocks \"yes\"/\"no\"\\nvar TTI1_totals      = \"no\";                    // show totals for all stocks \"yes\"/\"no\"\\nvar TTI1_showTime    = \"no\";                    // show \"as of\" time \"yes\"/\"no\"\\nvar TTI1_tdFontColor = \"222222\";                 // font color to use within td cells (All colors in hex, no \\'#\\')\\nvar TTI1_thFontColor = \"555555\";                 // font color to use within th cells\\nvar TTI1_linkColor   = \"222222\";                 // link color\\nvar TTI1_rollColor   = \"555555\";                 // link rollover color\\nvar TTI1_upColor     = \"008A05\";                 // color to use for positive change value\\nvar TTI1_dnColor     = \"AA0000\";                 // color to use for negative change value\\nvar TTI1_tableColor  = \"F6F6F6\";                 // background color for table border\\nvar TTI1_thColor     = \"F6F6F6\";                 // background color for th cells\\nvar TTI1_tdColor     = \"F6F6F6\";                 // background color for td cells\\nvar TTI1_tdColor2    = \"F6F6F6\";                 // background color for alternating rows\\nvar TTI1_face        = \"Arial\";                // font face\\nvar TTI1_size        = \"2\";                      // font size\\nvar TTI1_border      = \"0\";                      // table border\\nvar TTI1_cellspacing = \"0\";                      // table cellspacing\\nvar TTI1_cellpadding = \"0\";                      // table cellpadding\\nvar TTI1_width       = \"299\";                    // table width\\n</script>\\n<script language=\"javascript\" src=\"https://www.tickertech.net/bnkinvest/stocktable.mpl?ticker=SAP&fields=0,22,5,9,7,2,3,4,10,24,25,19,18&side=on&head=1&n=1\"></script>\\n\\n\\n<script type=\\'text/javascript\\'>\\nvar googletag = googletag || {};\\ngoogletag.cmd = googletag.cmd || [];\\n(function() {\\nvar gads = document.createElement(\\'script\\'); gads.async = true; gads.type = \\'text/javascript\\'; var useSSL = \\'https:\\' == document.location.protocol; gads.src = (useSSL ? \\'https:\\' : \\'http:\\') + \\'//www.googletagservices.com/tag/js/gpt.js\\';\\nvar node = document.getElementsByTagName(\\'script\\')[0];\\nnode.parentNode.insertBefore(gads, node); })(); </script>\\n\\n<script type=\\'text/javascript\\'>\\ngoogletag.cmd.push(function() {\\ngoogletag.defineSlot(\\'/39697029/PortfolioChannel300by250\\', [300, 250], \\'div-gpt-ad-1415896715779-1\\').addService(googletag.pubads());\\ngoogletag.defineSlot(\\'/39697029/SOC160by600\\', [160, 600], \\'div-gpt-ad-1370012006255-0\\').addService(googletag.pubads());\\ngoogletag.defineSlot(\\'/39697029/SOC272by90\\', [272, 90], \\'div-gpt-ad-1370017291912-0\\').addService(googletag.pubads());\\ngoogletag.defineSlot(\\'/39697029/SOC400by315\\', [400, 315], \\'div-gpt-ad-1370019469952-0\\').addService(googletag.pubads());\\ngoogletag.defineSlot(\\'/39697029/SOC88by31Number1\\', [88, 31], \\'div-gpt-ad-1370012076351-0\\').addService(googletag.pubads());\\ngoogletag.defineSlot(\\'/39697029/SOC88by31Number2\\', [88, 31], \\'div-gpt-ad-1370012076351-1\\').addService(googletag.pubads());\\ngoogletag.defineSlot(\\'/39697029/SOC88by31Number3\\', [88, 31], \\'div-gpt-ad-1370012076351-2\\').addService(googletag.pubads());\\ngoogletag.defineSlot(\\'/39697029/SOC88by31Number4\\', [88, 31], \\'div-gpt-ad-1370012076351-3\\').addService(googletag.pubads());\\ngoogletag.defineSlot(\\'/39697029/ChartZero88by31\\', [88, 31], \\'div-gpt-ad-1378996509911-0\\').addService(googletag.pubads());\\ngoogletag.defineSlot(\\'/39697029/SOCTopTextLink\\', [1000, 22], \\'div-gpt-ad-1370020596979-0\\').addService(googletag.pubads());\\n\\n\\ngoogletag.pubads().enableSingleRequest();\\ngoogletag.enableServices();\\n});\\n</script>\\n<meta name=\"msvalidate.01\" content=\"1D7039372FEF5A50728355F888574FC9\" />\\n<script src=\"https://code.jquery.com/jquery-3.2.1.min.js\" integrity=\"sha256-hwg4gsxgFZhOsEEamdOYGBf13FyQuiTwlAQgxVSNgt4=\" crossorigin=\"anonymous\"></script>\\n</head><BODY BACKGROUND=\"https://www.stockoptionschannel.com/pagebkg.gif\" VLINK=\"#2255AA\" LINK=\"#006000\" MARGINHEIGHT=\"0\" MARGINWIDTH=\"0\" LEFTMARGIN=\"0\" TOPMARGIN=\"0\"><CENTER><script language=\"javascript\" src=\"/tbs.js\"></script>\\n\\n<iframe class=\"large-show\" src=\"https://www.marketbeat.com/scripts/partner-ads/HeaderAdPartnerSites.ashx\" width=\"970\" height=\"180\" frameborder=\"no\" scrolling=\"no\" style=\"overflow:hidden;margin-top:15px;margin-bottom:15px;\"></iframe>\\n\\n<DIV style=\"border: 1px solid #444444; margin-bottom:2px; background: #FFFFDD; width:1000px;\"><font face=\"Arial\"><!-- SOCTopTextLink --><div id=\\'div-gpt-ad-1370020596979-0\\' style=\\'width:1000px; height:21px;\\'><script type=\\'text/javascript\\'>\\ngoogletag.cmd.push(function() {\\ngoogletag.display(\\'div-gpt-ad-1370020596979-0\\'); }); </script></div></font></DIV>\\n<DIV style=\"border: 1px solid #444444; background: #FFFFFF; width:1000px;\">\\n<TABLE BORDER=\"0\" CELLSPACING=\"0\" CELLPADDING=\"0\" WIDTH=\"1000\" HEIGHT=\"95\" BGCOLOR=\"#FFFFFF\">\\n<TR HEIGHT=\"65\">\\n<TD ROWSPAN=\"2\" BGCOLOR=\"#FFFFFF\" WIDTH=\"18\"><img src=\"https://www.stockoptionschannel.com/tpixel.gif\" WIDTH=\"18\" HEIGHT=\"1\"></TD>\\n\\n\\t<TD WIDTH=\"430\"><a href=\"https://www.stockoptionschannel.com/\"><img src=\"https://www.stockoptionschannel.com/stock-options-channel-logo.jpg\" width=\"430\" height=\"65\" alt=\"Stock Options Channel\" border=\"0\"></a></TD>\\n\\n\\t<TD BGCOLOR=\"#FFFFFF\" WIDTH=\"18\"><img src=\"https://www.stockoptionschannel.com/tpixel.gif\" WIDTH=\"18\" HEIGHT=\"1\"></TD>\\n\\n\\t<TD><TABLE BORDER=\"0\" CELLSPACING=\"0\" CELLPADDING=\"0\" WIDTH=\"496\" HEIGHT=\"65\">\\n\\t<TR HEIGHT=\"65\">\\n\\t<FORM METHOD=\"get\" ACTION=\"https://www.stockoptionschannel.com/symbol/\" onsubmit=\"if (this.symbol.value == \\'Enter Symbol\\') this.symbol.value=\\'\\';\">\\n\\t<TD WIDTH=\"238\" valign=\"middle\"><input type=\"text\" id=\"symbol\" name=\"symbol\" value=\"Enter Symbol\" \\n\\tonclick=\"if (this.value == \\'Enter Symbol\\') this.value=\\'\\';\\n\\telse if (this.value.indexOf(\\':\\') > 0) { var tmpspl = this.value.split(\\':\\'); this.value = tmpspl[0]; }\" \\n\\tonchange=\"if (this.value == \\'Enter Symbol\\') this.value=\\'\\';\\n\\telse if (this.value.indexOf(\\':\\') > 0) { var tmpspl = this.value.split(\\':\\'); this.value = tmpspl[0]; }\" \\n\\tstyle=\"padding-top: 2px; padding-bottom: 6px; padding-left: 4px; padding-right: 4px; width:212px; height:15px; font-size:13px; color: #000000; font-family:Trebuchet MS; background:#FFFFFF; border:1px solid #000000;\"></TD>\\n\\t<TD BGCOLOR=\"#FFFFFF\" WIDTH=\"1\"><img src=\"https://www.stockoptionschannel.com/tpixel.gif\" WIDTH=\"1\" HEIGHT=\"1\"></TD>\\n\\t<TD WIDTH=\"257\" valign=\"middle\"><input type=\"submit\" value=\"Get Options Chain\" \\n\\tstyle=\"margin: 0px; padding: 0px; width:257px; height:25px; font-size:13px; color: #000000; font-family:Trebuchet MS; background-image:url(\\'https://www.stockoptionschannel.com/buttonbkg.gif\\'); border-top:1px solid #D4D0C8; border-left:1px solid #D4D0C8; border-right:1px solid #808080; border-bottom:1px solid #808080;\"></td>\\n\\t</FORM></TR>\\n\\t</TABLE></TD>\\n\\n\\t<TD BGCOLOR=\"#FFFFFF\" WIDTH=\"18\"><img src=\"https://www.stockoptionschannel.com/tpixel.gif\" WIDTH=\"18\" HEIGHT=\"1\"></TD>\\n\\n<TD ROWSPAN=\"2\" BGCOLOR=\"#FFFFFF\" WIDTH=\"18\"><img src=\"https://www.stockoptionschannel.com/tpixel.gif\" WIDTH=\"18\" HEIGHT=\"1\"></TD>\\n</TR>\\n<TR HEIGHT=\"30\">\\n<TD colspan=\"4\"><table border=\"0\" cellspacing=\"0\" cellpadding=\"0\" width=\"964\" height=\"30\">\\n<tr><td colspan=\"200\" bgcolor=\"#003300\"><img src=\"https://www.stockoptionschannel.com/tpixel.gif\" width=\"1\" height=\"1\"></td></tr>\\n<tr><td background=\"https://www.stockoptionschannel.com/tabbkg.gif\"><table border=\"0\" cellspacing=\"0\" cellpadding=\"0\" width=\"100%\"><tr>\\n\\t\\n        <td class=\"menuoff\" onmouseover=\"this.className=\\'menuon\\'\" \\n\\tonmouseout=\"this.className=\\'menuoff\\'\" onclick=\"window.location=\\'https://www.stockoptionschannel.com/\\'\" \\n        valign=\"middle\" align=\"center\"><a href=\"https://www.stockoptionschannel.com/\" class=\"tabsmenu\" title=\"Stock Options Channel Home Page\">Home</a></td>\\n\\t\\n        <td class=\"menuoff\" onmouseover=\"this.className=\\'menuon\\'\"\\n        onmouseout=\"this.className=\\'menuoff\\'\" onclick=\"window.location=\\'https://www.stockoptionschannel.com/articles/\\'\" \\n        valign=\"middle\" align=\"center\"><a href=\"https://www.stockoptionschannel.com/articles/\" class=\"tabsmenu\" title=\"Stock Options Articles\">Articles</a></td>\\n\\n        <td class=\"menuoff\" onmouseover=\"this.className=\\'menuon\\'\" \\n\\tonmouseout=\"this.className=\\'menuoff\\'\" onclick=\"window.location=\\'https://www.stockoptionschannel.com/selling-calls-for-income/\\'\" \\n        valign=\"middle\" align=\"center\"><a href=\"https://www.stockoptionschannel.com/selling-calls-for-income/\" class=\"tabsmenu\" title=\"Selling Calls For Income\">Selling Calls For Income</a></td>\\n\\n        <td class=\"menuoff\" onmouseover=\"this.className=\\'menuon\\'\" \\n\\tonmouseout=\"this.className=\\'menuoff\\'\" onclick=\"window.location=\\'https://www.stockoptionschannel.com/selling-puts-for-income/\\'\" \\n        valign=\"middle\" align=\"center\"><a href=\"https://www.stockoptionschannel.com/selling-puts-for-income/\" class=\"tabsmenu\" title=\"Selling Puts For Income\">Selling Puts For Income</a></td>\\n\\n        <td class=\"menuoff\" onmouseover=\"this.className=\\'menuoff\\'\"\\n        onmouseout=\"this.className=\\'menuoff\\'\" onclick=\"window.location=\\'https://www.portfoliochannel.com/stock-options-channel-premium-newsletter/\\'\"\\n        valign=\"middle\" align=\"center\"><a href=\"https://www.portfoliochannel.com/stock-options-channel-premium-newsletter/\" class=\"tabsmenu\" style=\"text-transform: none;\">Top Ideas</a></td>\\n\\n        <td class=\"menuoff\" onmouseover=\"this.className=\\'menuon\\'\" \\n\\tonmouseout=\"this.className=\\'menuoff\\'\" onclick=\"window.location=\\'https://www.stockoptionschannel.com/watchlist/\\'\" \\n        valign=\"middle\" align=\"center\"><a href=\"https://www.stockoptionschannel.com/watchlist/\" class=\"tabsmenu\" title=\"My Stock Options Watchlist\">My Watchlist</a></td>\\n\\n        <td class=\"menuoff\" onmouseover=\"this.className=\\'menuon\\'\"\\n        onmouseout=\"this.className=\\'menuoff\\'\" onclick=\"window.location=\\'https://www.stockoptionschannel.com/yieldboost-rank-by-industry/\\'\" \\n        valign=\"middle\" align=\"center\"><a href=\"https://www.stockoptionschannel.com/yieldboost-rank-by-industry/\" class=\"tabsmenu\" title=\"YieldBoost Ranks By Industry\">YieldBoost Ranks</a></td>\\n\\n\\t</tr>\\n</table></td>\\n</tr>\\n<tr><td colspan=\"200\" bgcolor=\"#003300\"><img src=\"https://www.stockoptionschannel.com/tpixel.gif\" width=\"1\" height=\"1\"></td></tr>\\n</table></TD>\\n</TR></TABLE>\\n<img src=\"https://www.stockoptionschannel.com/tpixel.gif\" WIDTH=\"1000\" HEIGHT=\"18\"><div id=\"scrollPastElement\"></div><img src=\"/Image7.jpg\" width=\"100%\" style=\"max-width: 1000px\"><br><br><br>\\n\\t\\t<font face=\"Arial\" size=\"3\"><font size=\"4\"><b>FREE</b> registration required to continue...<p></font>\\n\\t\\t<small>\\n\\t\\t\\n\\t\\tYou have viewed 6 pages within the last 6 hours.  To continue, please register at Stock Options Channel for unlimited\\n<br>page views and our free weekly newsletter, by entering your name and email address below.  Registration is absolutely free.<br>\\nBy registering, you agree to our <a target=\"_new\" href=\"/disclaimer/privacy/\">privacy policy</a> &amp; <a target=\"_new\" href=\"/disclaimer/\">terms of use</a>.\\n\\t\\t If you are in Canada or the European Union, you must <a target=\"regframe\" href=\"/caregister/\">click here</a> for alternate registration page.</a>\\n\\n\\t\\t<p>\\n\\n\\t\\t<iframe name=\"regframe\" width=\"1000\" height=\"265\" frameborder=\"0\" src=\"/register/\"></iframe>\\n\\t\\t\\n\\t\\tProblems with your registration \\'\\'sticking?\\'\\'  Enable your browser to receive our \\'\\'cookie\\'\\' to resolve.<br>\\n\\t\\tOther questions? Email us at: <a href=\"mailto:info@stockoptionschannel.com\">info@stockoptionschannel.com</a>\\n\\t\\t<style type=\"text/css\">\\n.exit-intent-popup {\\n    position: fixed;\\n    top: 0;\\n    left: 0;\\n    bottom: 0;\\n    right: 0;\\n    z-index: 599;\\n    background: rgba(33, 33, 33, 0.8);\\n    transform: translateY(60%) scale(0);\\n}\\n\\n.exit-intent-popup.visible {\\n    transform: translateY(0) scale(1);\\n}\\n\\n.exitpop {\\n    position: absolute;\\n    top: 50%;\\n    left: 50%;\\n    transform: translate(-50%, -55%);\\n    background: #000000;\\n    padding: 0px;\\n    width: 765px;\\n    border-radius: 3px;\\n    border: 4px solid #7ED126;\\n}\\n\\n.closepop {\\n    cursor: pointer;\\n}\\n</style>\\n        <div class=\"exit-intent-popup\">\\n            <div class=\"exitpop\">\\n                <div class=\"closepop\" style=\"float: right; font-size: 15pt; font-weight: bold; margin-top: 2px; margin-right: 5px; color:#DD0000; font-family: Arial,Tahoma\" onclick=\"CookieService.setCookie(\\'exitPopShown\\', true, 30);\">X</div>\\n\\n                <div style=\"clear:both; font-family: Arial,Tahoma; font-size: 60px; color: #FFFFFF; text-align: justify; font-stretch: 100%; margin-left: 50px; margin-right: 50px; margin-top: 20px;\">\\n                <b>Wait!  Don\\'t leave yet.<br>\\n                <small>Want to receive our latest research absolutely free?</b></small>\\n                </div>\\n\\n                <div style=\"float:left; font-family: Arial,Tahoma; font-size: 175px; color: #FFFFFF; padding-top: 70px; width: 80px; font-stretch: 10%; position: absolute;\">\\n                &larrpl;\\n                </div>\\n                <div style=\"font-family: Arial,Tahoma; font-size: 20px; color: #FFFFFF; text-align:justify; padding-left: 70px; padding-right: 70px;\">\\n                <p style=\"width:100%\"><br>Click the button below for your complimentary copy of <i>Your Early Retirement Portfolio: Dividends Up to 8.7%&mdash;Every Month&mdash;Forever</i>.\\n                </p><p style=\"width:100%;margin-top: 20px;margin-bottom:20px;\">You\\'ll discover the details on 4 stocks and funds that pay you massive dividends as high as 8.7%.<br></p>\\n                </div>\\n\\n                <div style=\"background-color:#4FB0E8; clear:both; text-align:center; padding-top: 60px; padding-bottom: 60px;\">\\n                        <a target=\"_blank\" href=\"https://contrarianoutlook.com/free-monthly-dividend-report-offers/MNTHLYBNK?source=MNTHLYBNKCHANNELBEN&utm_source=BNKCHANNELBEN&utm_medium=interstitial&utm_campaign=MNTHLYBNKCHANNELBEN\"><button class=\"submit\" onclick=\"CookieService.setCookie(\\'exitPopShown\\', true, 30);\" style=\"border: 0; width: 300px; height: 50px; background-color: #83C11F; border-radius: 3px; font-family: Arial,Tahoma; font-size: 20px; font-weight: bold; color: #FFFFFF; cursor: pointer;\">Yes, send me my report!</button></a>\\n                        <button class=\"closepop\" onclick=\"CookieService.setCookie(\\'exitPopShown\\', true, 30);\" style=\"border: 0; margin-left: 10px; width: 300px; height: 50px; background-color: #666666; border-radius: 3px; font-family: Arial,Tahoma; font-size: 20px; color: #FFFFFF;\">No, I dislike monthly dividends.</button>\\n                </div>\\n            </div>\\n        </div>\\n        <script language=\"javascript\" src=\"/exitpop.js\"></script>\\n<img src=\"https://www.stockoptionschannel.com/tpixel.gif\" WIDTH=\"1000\" HEIGHT=\"18\"></div>\\n\\n<DIV style=\"width:950px;\">\\n<h2>SAP Options Chain <font color=\"#444444\">|</font> <a href=\"/\">www.StockOptionsChannel.com</a> <font color=\"#444444\">|</font> \\nCopyright &copy; 2012 - 2025, All Rights Reserved</h2>\\n<font face=\"Trebuchet MS\" size=\"2\" color=\"#333333\">\\n<small>\\n\\nNothing in Stock Options Channel is intended to be investment advice, nor does it represent the opinion of, counsel\\nfrom, or recommendations by BNK Invest Inc. or any of its affiliates, subsidiaries or partners.  \\n  None of the information contained herein constitutes a recommendation that any particular security, portfolio,\\n transaction, or investment strategy is suitable for any specific person.  All viewers agree that under no\\ncircumstances will BNK Invest, Inc,. its subsidiaries, partners, officers, employees, affiliates, or agents be held\\nliable for any loss or damage caused by your reliance on information obtained.  By visiting, using or viewing this site, you \\nagree to the following <a href=\"https://www.stockoptionschannel.com/disclaimer/\">Full Disclaimer &amp; Terms of Use</a> and \\n<a href=\"https://www.stockoptionschannel.com/disclaimer/privacy/\">Privacy Policy</a>.  <a \\nhref=\"http://widget.marketnewsvideo.com\" style=\"text-decoration: none;\">Video widget</a> and market videos powered by <a \\nhref=\"https://www.marketnewsvideo.com/\" style=\"text-decoration: none;\">Market News Video</a>.  Quote and option data delayed at \\nleast 15 minutes; <a href=\"http://www.tickertech.com/\">stock quote data powered by Ticker Technologies</a>, and <a \\nhref=\"http://www.mergent.com/\" style=\"text-decoration: none;\">Mergent</a>. <a \\nhref=\"https://www.stockoptionschannel.com/contact/\">Contact Stock Options Channel</a>; <a \\nhref=\"https://www.stockoptionschannel.com/about/\">Meet Our Editorial Staff</a>.\\n\\n<div class=\"g-plusone\" data-size=\"small\" data-annotation=\"inline\" data-width=\"120\"></div>\\n<script type=\"text/javascript\">\\n   (function() {\\n     var po = document.createElement(\\'script\\'); po.type = \\'text/javascript\\'; po.async = true;\\n     po.src = \\'https://apis.google.com/js/platform.js\\';\\n     var s = document.getElementsByTagName(\\'script\\')[0]; s.parentNode.insertBefore(po, s);\\n   })();\\n</script>\\n\\n</small></font>\\n</DIV>\\n\\n</CENTER>\\n\\n<style type=\"text/css\">\\n.modal {\\n  display: none;\\n  position: fixed;\\n  z-index: 598;\\n  padding-top: 100px;\\n  left: 0;\\n  top: 0;\\n  width: 100%;\\n  height: 100%;\\n  overflow: auto;\\n  background-color: rgb(0,0,0);\\n  background-color: rgba(0,0,0,0.2);\\n-webkit-backdrop-filter: blur(5px);\\n  backdrop-filter: blur(5px);\\n}\\n.modal-content {\\n  background-color: #888;\\n  margin: auto;\\n  padding: 0px;\\n  border: 5px solid #888;\\n  min-width: 310px;\\n  min-height: 310px;\\n  width: 60%;\\n  max-width: 650px;\\n}\\n.close {\\n  color: #666666;\\n  float: right;\\n  font-size: 28px;\\n  font-weight: bold;\\n}\\n.close:hover,\\n.close:focus {\\n  color: #000;\\n  text-decoration: none;\\n  cursor: pointer;\\n}\\n.nebula {\\n  width: 100%;\\n}\\n@media screen and (max-width: 1012px) {\\n      .nebula {\\n         width: 100%;\\n      }\\n      .modal-content {\\n         width: 95%;\\n      }\\n      .modal { padding-top: 50px; }\\n}\\n</style>\\n<div id=\"myModal\" class=\"modal\">\\n        <div class=\"modal-content\">\\n                <div class=\"nebula\" style=\"min-height: 215px; float: right; text-align:center; border: 1px solid #111111; font-family: Calibri,Tahoma,Arial; font-size: 18px; font-weight: normal; line-height: 16px; color: #FFFFFF; background: linear-gradient(to bottom,  #326544 0%,#193322 100%);\">\\n                        <center><div style=\"padding: 20px; min-height: 175px; text-align: left; max-width: 500px;\">\\n                                <center><div style=\"margin-bottom: 15px; font-size: 24px;\"><b>Join StockOptionsChannel.com</b></div><br></center>\\n                                <div style=\"margin-bottom:15px; margin-right: 8px; float:left;\"><b>&check;</b></div> Immediate access to this page, SAP Options Chain\\n                                <div style=\"clear:both\"><br></div>\\n                                <div style=\"margin-bottom:15px; margin-right: 8px; float:left;\"><b>&check;</b></div> Access our full coverage universe of stock options\\n                                <div style=\"clear:both\"><br></div>\\n                                <div style=\"margin-bottom:15px; margin-right: 8px; float:left;\"><b>&check;</b></div> Complimentary free weekly Stock Options Channel newsletter\\n                                <!--div style=\"clear:both\"><br></div>\\n                                <div style=\"margin-bottom:15px; margin-right: 8px; float:left;\"><b>&check;</b></div> Join FREE with just your email\\n                                <div style=\"clear:both\"></div-->\\n                        </div></center>\\n                </div>\\n                <div class=\"nebula\" style=\"min-width: 300px; min-height: 310px; background: linear-gradient(to bottom,  #EDF1F6 0%,#FBFDFF 100%); padding: 0px; float: left; text-align:center; background-color: #FFEEEE; font-family: Calibri,Tahoma,Arial; font-size: 22px; line-height:30px; color:#111111;\" id=\"joinbox\">\\n                        <div style=\"padding: 10px\">\\n                                <small><b>Create a FREE account to continue</b></small>\\n                                <form method=\"post\" action=\"/register/\" onsubmit=\"this.token.value=\\'674379028A2620258897A175308869A2218995512\\'; if (this.email.value.indexOf(\\'@\\') < 0 || this.email.value.indexOf(\\'.\\') < 0) { alert(\\'Please enter your email to continue.\\'); return false; } else if (this.email.value.toLowerCase().substring(this.email.value.length - 3) == \\'.ca\\' || this.email.value.toLowerCase().indexOf(\\'rogers.com\\') > 0 || this.email.value.toLowerCase().indexOf(\\'@telus\\') > 0 || this.email.value.toLowerCase().indexOf(\\'.telus\\') > 0 || this.email.value.toLowerCase().indexOf(\\'sasktel.\\') > 0 || this.email.value.toLowerCase().indexOf(\\'northwestel.\\') > 0 || this.email.value.toLowerCase().indexOf(\\'mts.net\\') > 0 || this.email.value.toLowerCase().indexOf(\\'ptd.net\\') > 0 || this.email.value.toLowerCase().indexOf(\\'bell.net\\') > 0 || this.email.value.toLowerCase().indexOf(\\'cogeco.net\\') > 0 || this.email.value.toLowerCase().indexOf(\\'auracom.\\') > 0 || this.email.value.toLowerCase().indexOf(\\'bellaliant.\\') > 0) { return confirm(\\'Please confirm you are in the US, or, cancel and use our alternative Canada registration page.  Based on the email address you entered, we detect that you may possibly be in Canada.  Because of the CASL legislation in effect as of July 1st, 2014, if you are in Canada you must register at the alternative registration page, the link to which was provided to you at the bottom of the paragraph at the top of this page.  If you are in fact in the US, simply click OK to confirm and continue with your registration.\\'); }\">\\n                                <input type=\"hidden\" name=\"token\" value=\"\"><input type=\"hidden\" name=\"mobile\" value=\"0\">\\n                                <input type=\"hidden\" name=\"stock\" value=\"\">\\n                                <input type=\"hidden\" name=\"name\" value=\"Member\">\\n                                <input type=\"hidden\" name=\"referer\" value=\"https://www.stockoptionschannel.com/symbol/?symbol=SAP&month=20250620&type=call\">\\n                                <input type=\"email\" name=\"email\" placeholder=\"Enter your email address\" style=\"height: 42px; width: 200px; font-size: 16px; background-color: #FEFEFE; border: 1px solid #CCCCCC; margin-bottom: 10px;\">\\n                                <input type=\"submit\" style=\"margin-top: 2px; height: 45px; padding-left: 18px; padding-right: 18px; font-weight: bold; color: #FFFFFF; background-color: #3559C4; text-decoration: none; border-radius: 2px; margin-right: 10px; font-size: 20px; border: 1px solid #26408D;\" value=\"JOIN NOW\">\\n                                <div style=\"line-height: 9pt;\"> <div style=\"margin-top:10px;\"><input type=\"checkbox\" name=\"91301\" checked> <input type=\"hidden\" name=\"abcw\" value=\"a\">\\n\\t\\t\\t\\t<input type=\"hidden\" name=\"cid\" value=\"91301\">\\n\\t\\t\\t\\t<span style=\"display:inline;width:100%;max-width:425px;;font-family:Arial;font-size:9pt;\"><b>New Report Reveals Top 8% Dividends (paid monthly) &#150; FREE!</b> Think you can&#146;t retire on your current nest egg? Good news: you&#146;re probably wrong. You might be perfectly positioned to clock out now&#151;or at least years earlier than you think&#151;and not even know it. This FREE report reveals my full &#147;early retirement&#148; strategy. (<a target=\"_blank\" href=\"https://contrarianoutlook.com/index.php/privacy-policy\">Privacy Policy</a>)</span></div></div>\\n                                <br>\\n                                </form>\\n                                <small>Already have an account? <a style=\"color:#000000\" href=\"#\" onclick=\"document.getElementById(\\'joinbox\\').innerHTML = document.getElementById(\\'loginbox\\').innerHTML; return false;\">LOG IN</a></small>\\n                                <br><div style=\"line-height: 9px; font-size: 11px; margin-top: 10px;\">\\n                                <a href=\"/disclaimer/\" style=\"color:#000000\">Full Disclaimer &amp; Terms of Use</a> and <a style=\"color:#000000\" href=\"/disclaimer/privacy/\">Privacy Policy</a>. Important: If you are in Canada or the European Union, you must <a href=\"#\" style=\"color: #000000\" onclick=\"document.getElementById(\\'joinbox\\').innerHTML = document.getElementById(\\'eubox\\').innerHTML; return false;\">click here</a> for an alternate registration page.</div>\\n                        </div>\\n                </div>\\n                        <div style=\"height: 1px; visibility:hidden;\" id=\"loginbox\"><br><br>\\n                                <b>Welcome back!</b>\\n                                <form method=\"post\" action=\"/register/\" onsubmit=\"this.token.value=\\'674379028A2620258897A175308869A2218995512\\'; if (this.email.value.indexOf(\\'@\\') < 0 || this.email.value.indexOf(\\'.\\') < 0) { alert(\\'Please enter your email to continue.\\'); return false;}\">\\n                                <input type=\"hidden\" name=\"token\" value=\"\"><input type=\"hidden\" name=\"welcome\" value=\"back\">\\n                                <input type=\"hidden\" name=\"mobile\" value=\"0\">\\n                                <input type=\"hidden\" name=\"stock\" value=\"\">\\n                                <input type=\"hidden\" name=\"name\" value=\"Member\">\\n                                <input type=\"hidden\" name=\"referer\" value=\"https://www.stockoptionschannel.com/symbol/?symbol=SAP&month=20250620&type=call\">\\n                                <input type=\"email\" name=\"email\" placeholder=\"Enter your email address\" style=\"height: 40px; width: 275px; font-size: 18px; background-color: #FEFEFE; border: 1px solid #CCCCCC; margin-bottom: 10px;\"><br>\\n                                <input type=\"submit\" style=\"height: 45px; padding-left: 18px; padding-right: 18px; font-weight: bold; color: #FFFFFF; background-color: #3559C4; text-decoration: none; border-radius: 2px; margin-right: 10px; font-size: 25px; border: 1px solid #26408D;\" value=\"LOG IN\">\\n                                <div style=\"line-height: 9pt;\"> <div style=\"margin-top:10px;\"><input type=\"checkbox\" name=\"91301\" checked> <input type=\"hidden\" name=\"abcw\" value=\"a\">\\n\\t\\t\\t\\t<input type=\"hidden\" name=\"cid\" value=\"91301\">\\n\\t\\t\\t\\t<span style=\"display:inline;width:100%;max-width:425px;;font-family:Arial;font-size:9pt;\"><b>New Report Reveals Top 8% Dividends (paid monthly) &#150; FREE!</b> Think you can&#146;t retire on your current nest egg? Good news: you&#146;re probably wrong. You might be perfectly positioned to clock out now&#151;or at least years earlier than you think&#151;and not even know it. This FREE report reveals my full &#147;early retirement&#148; strategy. (<a target=\"_blank\" href=\"https://contrarianoutlook.com/index.php/privacy-policy\">Privacy Policy</a>)</span></div></div>\\n                                </form><br>\\n                        </div>\\n                        <div style=\"height: 1px; visibility:hidden;\" id=\"eubox\">\\n                                <span style=\"font-size: 11px; line-height: 9px; padding: 9px;\"><br><br>\\n                                StockOptionsChannel.com and parent company BNK Invest, Inc. value our relationship with you and would like to continue providing accurate and tailored communications to fit your investing needs. To receive our publications and other relevant communications, Canada\\'s anti-spam legislation (\\'\\'CASL\\'\\') and the European Union\\'s General Data Protection Regulation (\\'\\'GPDR\\'\\') requires us to obtain your express consent. Please provide your consent to continue. In any email we send, you will be given the option to withdraw your consent or unsubscribe from any or all of our newsletters or publications at any time.\\n                                </span>\\n                                <br><br>\\n                                <form method=\"post\" action=\"/caregister/\" onsubmit=\"this.token.value=\\'674379028A2620258897A175308869A2218995512\\'; if (this.email.value.indexOf(\\'@\\') < 0 || this.email.value.indexOf(\\'.\\') < 0) { alert(\\'Please enter your email to continue.\\'); return false;}\">\\n                                <input type=\"hidden\" name=\"token\" value=\"\"><input type=\"hidden\" name=\"welcome\" value=\"euorca\">\\n                                <input type=\"hidden\" name=\"mobile\" value=\"0\">\\n                                <input type=\"hidden\" name=\"stock\" value=\"\">\\n                                <input type=\"hidden\" name=\"name\" value=\"Member\">\\n                                <input type=\"hidden\" name=\"referer\" value=\"https://www.stockoptionschannel.com/symbol/?symbol=SAP&month=20250620&type=call\">\\n                                <input type=\"email\" name=\"email\" placeholder=\"Enter your email address\" style=\"height: 40px; width: 275px; font-size: 18px; background-color: #FEFEFE; border: 1px solid #CCCCCC; margin-bottom: 10px;\"><br>\\n                                <input type=\"submit\" style=\"height: 45px; padding-left: 18px; padding-right: 18px; font-weight: bold; color: #FFFFFF; background-color: #3559C4; text-decoration: none; border-radius: 2px; margin-right: 10px; font-size: 15px; border: 1px solid #26408D;\" value=\"I CONSENT &amp; REGISTER\">\\n                                </form><br>\\n                        </div>\\n                <div style=\"clear:both\"></div>\\n        </div>\\n</div>\\n<script language=\"javascript\">\\n        document.addEventListener(\\'DOMContentLoaded\\', function() {\\n                var scrollPastElement = document.querySelector(\\'#scrollPastElement\\');\\n        })\\n        window.onscroll = function() {\\n                if (scrollPastElement.getBoundingClientRect().top <= 0 && document.cookie.indexOf(\\'slogin\\') < 0) {\\n                        document.getElementById(\\'myModal\\').style.display = \\'block\\';\\n                }\\n        }\\n</script>\\n<script async src=\"https://www.googletagmanager.com/gtag/js?id=G-91PZRHCKVV\"></script>\\n<script>\\n  window.dataLayer = window.dataLayer || [];\\n  function gtag(){dataLayer.push(arguments);}\\n  gtag(\\'js\\', new Date());\\n\\n  gtag(\\'config\\', \\'G-91PZRHCKVV\\');\\n</script><!-- Quantcast Tag --><script type=\"text/javascript\">\\nvar _qevents = _qevents || [];\\n\\n(function() {\\nvar elem = document.createElement(\\'script\\'); elem.src = (document.location.protocol == \"https:\" ? \"https://secure\" : \"http://edge\") + \".quantserve.com/quant.js\"; elem.async = true; elem.type = \"text/javascript\"; var scpt = document.getElementsByTagName(\\'script\\')[0];scpt.parentNode.insertBefore(elem, scpt); })();\\n\\n_qevents.push({\\nqacct:\"p-yPA7V3QP1Bq8D\"\\n});\\n</script>\\n\\n<noscript>\\n<div style=\"display:none;\">\\n<img src=\"//pixel.quantserve.com/pixel/p-yPA7V3QP1Bq8D.gif\" border=\"0\" height=\"1\" width=\"1\" alt=\"Quantcast\"/>\\n</div>\\n</noscript><!-- End Quantcast tag -->\\n<!-- Begin comScore Tag -->\\n<script>\\n  var _comscore = _comscore || [];\\n  _comscore.push({ c1: \"2\", c2: \"16807273\" });\\n  (function() {\\n    var s = document.createElement(\"script\"), el = document.getElementsByTagName(\"script\")[0]; s.async = true;\\n    s.src = (document.location.protocol == \"https:\" ? \"https://sb\" : \"http://b\") + \".scorecardresearch.com/beacon.js\";\\n    el.parentNode.insertBefore(s, el);\\n  })();\\n</script>\\n<noscript>\\n  <img src=\"https://b.scorecardresearch.com/p?c1=2&c2=16807273&cv=2.0&cj=1\" />\\n</noscript>\\n<!-- End comScore Tag -->\\n</BODY></HTML>'"
      ]
     },
     "execution_count": 40,
     "metadata": {},
     "output_type": "execute_result"
    }
   ],
   "source": [
    "resp.text"
   ]
  }
 ],
 "metadata": {
  "kernelspec": {
   "display_name": "trade",
   "language": "python",
   "name": "python3"
  },
  "language_info": {
   "codemirror_mode": {
    "name": "ipython",
    "version": 3
   },
   "file_extension": ".py",
   "mimetype": "text/x-python",
   "name": "python",
   "nbconvert_exporter": "python",
   "pygments_lexer": "ipython3",
   "version": "3.12.2"
  }
 },
 "nbformat": 4,
 "nbformat_minor": 2
}

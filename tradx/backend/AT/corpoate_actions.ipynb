{
 "cells": [
  {
   "cell_type": "markdown",
   "metadata": {},
   "source": [
    "Form Κ3-02-025\n"
   ]
  },
  {
   "cell_type": "code",
   "execution_count": null,
   "metadata": {},
   "outputs": [],
   "source": [
    "ignore_forms = [\"K6-04-001\", \"K3-02-023\", \"K3-02-029\", \"K2-02-035\", \"K2-02-031\", \"K2-02-030\", \"K3-02-027\"]\n",
    "notify = [\"K1-03-111\", \"K3-03-005\", \"K1-03-114\", \"K1-03-116\", \"K1-03-113\", \"K3-02-031\", \"K3-02-025\", \"K5-01-003\", \"K5-01-005\"]"
   ]
  },
  {
   "cell_type": "code",
   "execution_count": null,
   "metadata": {},
   "outputs": [],
   "source": [
    "from selenium import webdriver\n",
    "\n",
    "driver = webdriver.Safari()\n",
    "driver.maximize_window()\n",
    "\n",
    "\n",
    "driver.get(\"https://www.athexgroup.gr/web/guest/companies-information-corporate-actions\")\n",
    "\n",
    "psource = driver.page_source"
   ]
  },
  {
   "cell_type": "code",
   "execution_count": null,
   "metadata": {},
   "outputs": [],
   "source": [
    "from bs4 import BeautifulSoup\n",
    "import re, datetime, requests, os\n",
    "\n",
    "def extract_hrefs(html_string):\n",
    "    # Regex zum Extrahieren von href-Werten\n",
    "    href_pattern = r'href=[\"\\'](.*?)[\"\\']'\n",
    "    # Alle Übereinstimmungen finden\n",
    "    hrefs = re.findall(href_pattern, html_string)\n",
    "    return hrefs\n",
    "\n",
    "def save_actions(psource:str):\n",
    "    last_change_file = \"/Users/a2/code/fin/trade/data/main_changes/company/AT/last_change_date.date\"\n",
    "    folder_corp_act = \"/Users/a2/code/fin/trade/data/main_changes/company/AT\"\n",
    "    now= datetime.date.today().isoformat()\n",
    "    with open(last_change_file, \"r\") as f:\n",
    "        tstp =f.read()\n",
    "    dt = datetime.date.fromisoformat(tstp)\n",
    "    soup = BeautifulSoup(psource, \"lxml\")\n",
    "    main_div = soup.select(\"#p_p_id_101_INSTANCE_E8Xk2zINhmZA_\")[0]\n",
    "\n",
    "    table = main_div.select(\"table\")[0]\n",
    "\n",
    "    rows = table.select(\"tr\")\n",
    "    for tr in rows:\n",
    "        content = tr.select(\"a\")[0]\n",
    "        title = content.text\n",
    "        pattern = re.compile(\"(\\d\\d) - (\\d\\d) - (\\d\\d\\d\\d)\")\n",
    "        mat = re.match(pattern, title)\n",
    "        day = mat.group(1)\n",
    "        month = mat.group(2)\n",
    "        year = mat.group(3)\n",
    "        article_date = datetime.date(year=year, month=month, day=day)\n",
    "        if article_date < dt:\n",
    "            with open(last_change_file, \"w\") as f:\n",
    "                f.write(now)\n",
    "            return\n",
    "        link = content[\"href\"]\n",
    "        pdf_source = requests.get(link).text\n",
    "        hrefs = extract_hrefs(pdf_source)\n",
    "        for l in hrefs:\n",
    "            if l.startswith(\"/documents\"):\n",
    "                if \"Cookies\" in l:\n",
    "                    continue\n",
    "                link_pdf = \"https://www.athexgroup.gr\" + l\n",
    "                break\n",
    "        else:\n",
    "            link_pdf = \"\"\n",
    "        if link_pdf != \"\":\n",
    "            pdf = requests.get(link_pdf).content\n",
    "            with open(os.path.join(folder_corp_act, title+\".pdf\"), \"wb\") as f:\n",
    "                print(\"written \"+title)\n",
    "                f.write(pdf)\n",
    "    with open(last_change_file, \"w\") as f:\n",
    "        f.write(now)\n",
    "            \n",
    "        \n"
   ]
  },
  {
   "cell_type": "code",
   "execution_count": null,
   "metadata": {},
   "outputs": [],
   "source": [
    "import datetime\n",
    "last_change_file = \"/Users/a2/code/fin/trade/data/main_changes/company/AT/last_change_date.date\"\n",
    "\n",
    "with open(last_change_file, \"r\") as f:\n",
    "    tstp =f.read()\n",
    "\n",
    "now= datetime.date.today().isoformat()"
   ]
  },
  {
   "cell_type": "code",
   "execution_count": 36,
   "metadata": {},
   "outputs": [
    {
     "name": "stderr",
     "output_type": "stream",
     "text": [
      "UsageError: Missing object name.\n"
     ]
    }
   ],
   "source": [
    "psource"
   ]
  },
  {
   "cell_type": "code",
   "execution_count": null,
   "metadata": {},
   "outputs": [],
   "source": []
  }
 ],
 "metadata": {
  "kernelspec": {
   "display_name": "base",
   "language": "python",
   "name": "python3"
  },
  "language_info": {
   "codemirror_mode": {
    "name": "ipython",
    "version": 3
   },
   "file_extension": ".py",
   "mimetype": "text/x-python",
   "name": "python",
   "nbconvert_exporter": "python",
   "pygments_lexer": "ipython3",
   "version": "3.11.6"
  }
 },
 "nbformat": 4,
 "nbformat_minor": 2
}

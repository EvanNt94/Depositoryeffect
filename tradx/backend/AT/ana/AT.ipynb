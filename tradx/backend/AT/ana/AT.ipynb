{
 "cells": [
  {
   "cell_type": "markdown",
   "metadata": {},
   "source": [
    "# analysis\n",
    "1. financial: (not just by finst computable)\n",
    "    - implied shares outstanding\n",
    "    - forward PE\n",
    "    - forward price To Sales Trailing 12 Months\n",
    "    - enterpriseValue\n",
    "    - profitMargins\n",
    "    - earningsQuarterlyGrowth\n",
    "    - netIncomeToCommon\n",
    "    - trailingEps\n",
    "    - forwardEps\n",
    "    - enterpriseToRevenue\n",
    "    - enterpriseToEbitda\n",
    "    - targetHighPrice\n",
    "    - targetLowPrice\n",
    "    - targetMeanPrice\n",
    "    - targetMedianPrice\n",
    "    - numberOfAnalystOpinions\n",
    "    - quickRatio\n",
    "    - currentRatio\n",
    "    - debtToEquity\n",
    "    - returnOnAssets\n",
    "    - returnOnEquity\n",
    "    - freeCashflow\n",
    "    - operatingCashflow\n",
    "    - earningsGrowth\n",
    "    - revenueGrowth\n",
    "    - grossMargins\n",
    "    - ebitdaMargins\n",
    "    - operatingMargins\n",
    "    - trailingPegRatio"
   ]
  },
  {
   "cell_type": "code",
   "execution_count": null,
   "metadata": {},
   "outputs": [],
   "source": []
  }
 ],
 "metadata": {
  "kernelspec": {
   "display_name": "trade",
   "language": "python",
   "name": "python3"
  },
  "language_info": {
   "name": "python",
   "version": "3.12.2"
  }
 },
 "nbformat": 4,
 "nbformat_minor": 2
}

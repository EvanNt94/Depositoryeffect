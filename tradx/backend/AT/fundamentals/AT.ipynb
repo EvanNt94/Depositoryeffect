{
 "cells": [
  {
   "cell_type": "markdown",
   "metadata": {},
   "source": [
    "- risk: dict(audit_risk, board_risk, compensation_risk, shareholder_rights_risk, overall_risk, volatility, beta, last_change:timestamp)\n",
    "- info: dict(name, ticker_on:dict(sx: ticker), activity, webpage, staffnumber, listed_on:dict(sx: date), sector, subsector, stockexchanges, hq_country, hq_zip, industry, dividend_yield:own, beta, floatShares, sharesOutstanding, heldPercentInsiders, heldPercentInstitutions, bookValue, priceToBook, last_change:timestamp)\n",
    "- fin_st: [Q/Y] table(totalCash,totalCashPerShare, ebitda ,totalDebt, totalRevenue, revenuePerShare, last:timestamp)"
   ]
  },
  {
   "cell_type": "code",
   "execution_count": 12,
   "metadata": {},
   "outputs": [],
   "source": [
    "import yfinance as yf, os, json, time"
   ]
  },
  {
   "cell_type": "markdown",
   "metadata": {},
   "source": [
    "## AT"
   ]
  },
  {
   "cell_type": "code",
   "execution_count": 7,
   "metadata": {},
   "outputs": [],
   "source": [
    "with open(\"/Users/a2/code/fin/trade/static/tickers/AT_ticker_en.json\") as f:\n",
    "    tickers = json.load(f)\n",
    "\n",
    "yf_tickers = [yf.Ticker(x+ \".AT\") for x in tickers]\n",
    "infos = [x.info for x in yf_tickers]"
   ]
  },
  {
   "cell_type": "code",
   "execution_count": null,
   "metadata": {},
   "outputs": [],
   "source": [
    "# risk:\n",
    "# , board_risk, compensation_risk, shareHolder_rights_risk, overall_risk, volatility, beta, last\n",
    "def yf_info_to_risk_obj(info: dict) -> dict:\n",
    "    return {\n",
    "        \"audit_risk\": info.get(\"auditRisk\", None),\n",
    "        \"board_risk\": info.get(\"boardRisk\", None),\n",
    "        \"compensation_risk\": info.get(\"compensationRisk\", None),\n",
    "        \"shareholder_rights_risk\": info.get(\"shareHolderRightsRisk\", None),\n",
    "        \"overall_risk\": info.get(\"overallRisk\", None),\n",
    "        \"beta\": info.get(\"beta\", None),\n",
    "        \"last_change\": int(time.time()),\n",
    "        \"volatility\": None  # Falls nicht berechnet, kannst du hier auch info.get nutzen\n",
    "    }\n",
    "\n",
    "risk_path_at = \"/Users/a2/code/fin/trade/data/fundamentals/company/risk/AT\"\n",
    "for n, t in enumerate(tickers):\n",
    "    risk_obj = yf_info_to_risk_obj(infos[n])\n",
    "    with open(os.path.join(risk_path_at, t + \".json\"), \"w\")  as f:\n",
    "        json.dump(risk_obj, f)"
   ]
  },
  {
   "cell_type": "code",
   "execution_count": 25,
   "metadata": {},
   "outputs": [],
   "source": [
    "# info\n",
    "# dict(name, ticker_on:dict(sx: ticker), activity, webpage, staffnumber, listed_on:dict(sx: date), sector, subsector, \n",
    "# stockexchanges, hq_country, hq_zip, industry, dividend_yield:own, beta, floatShares, sharesOutstanding, \n",
    "# heldPercentInsiders, heldPercentInstitutions, bookValue, priceToBook, last_change:timestamp --- ipo_price, nominal, isin)\n",
    "def yf_info_add_info(info_dict_start:dict, yf_info_dict:dict)-> dict:\n",
    "    ids = info_dict_start\n",
    "    info = yf_info_dict\n",
    "    ids['ticker_on'] = {\"AT\": info['symbol']}\n",
    "    ids['activity'] = info.get(\"longBusinessSummary\", None) if (0 if info.get(\"longBusinessSummary\", None) is None else len(info.get(\"longBusinessSummary\", None))) > len(ids['activity']) else ids['activity'] \n",
    "    ids['webpage'] = info.get('website', None)\n",
    "    ids['hq_country'] = info.get('country', None)\n",
    "    ids['hq_zip'] = info.get(\"zip\", None)\n",
    "    ids['industry'] = info.get(\"industry\", None)\n",
    "    ids['dividend_yield'] = None\n",
    "    ids[\"beta\"] = info.get(\"beta\")\n",
    "    ids['float_shares'] = info.get(\"floatShares\", None)\n",
    "    ids['shares_outstanding'] = info.get(\"sharesOutstanding\", None)\n",
    "    ids['held_percent_insiders'] = info.get(\"heldPercentInsiders\", None)\n",
    "    ids['held_percent_institutions'] = info.get(\"heldPercentInstitutions\", None)\n",
    "    ids['implied_shares_outstanding'] = info.get(\"impliedSharesOutstanding\", None)\n",
    "    ids['book_value'] = info.get(\"bookValue\", None)\n",
    "    ids['price_to_book'] = info.get(\"priceToBook\", None)\n",
    "    ids['last_change'] = int(time.time())\n",
    "    return ids\n",
    "\n",
    "\n",
    "info_paht_at = \"/Users/a2/code/fin/trade/data/fundamentals/company/info/AT\"\n",
    "for n, t in enumerate(tickers):\n",
    "    with open(os.path.join(info_paht_at, t+ \".json\")) as f:\n",
    "        info_prev = json.load(f)\n",
    "    info_obj = yf_info_add_info(info_prev, infos[n])\n",
    "    with open(os.path.join(info_paht_at, t+ \".json\"), \"w\") as f:\n",
    "        json.dump(info_obj, f)\n",
    "    \n",
    "\n"
   ]
  },
  {
   "cell_type": "code",
   "execution_count": null,
   "metadata": {},
   "outputs": [],
   "source": []
  }
 ],
 "metadata": {
  "kernelspec": {
   "display_name": "trade",
   "language": "python",
   "name": "python3"
  },
  "language_info": {
   "codemirror_mode": {
    "name": "ipython",
    "version": 3
   },
   "file_extension": ".py",
   "mimetype": "text/x-python",
   "name": "python",
   "nbconvert_exporter": "python",
   "pygments_lexer": "ipython3",
   "version": "3.12.2"
  }
 },
 "nbformat": 4,
 "nbformat_minor": 2
}

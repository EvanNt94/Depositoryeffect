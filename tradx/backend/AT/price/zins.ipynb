{
 "cells": [
  {
   "cell_type": "code",
   "execution_count": 19,
   "metadata": {},
   "outputs": [
    {
     "name": "stdout",
     "output_type": "stream",
     "text": [
      "244.60000610351562\n",
      "57.75 5.65\n",
      "Risikofreier Zinssatz für AAPL: nan%\n"
     ]
    },
    {
     "name": "stderr",
     "output_type": "stream",
     "text": [
      "/var/folders/b8/lm9df1990136tf1mwp969wy80000gn/T/ipykernel_58795/1960229174.py:30: RuntimeWarning: invalid value encountered in log\n",
      "  r = - (1 / T) * np.log((K * (P - C)) / S)\n"
     ]
    }
   ],
   "source": [
    "import yfinance as yf\n",
    "import numpy as np\n",
    "from datetime import datetime, timedelta\n",
    "\n",
    "\n",
    "def get_option_prices(ticker, strike, expiry):\n",
    "    stock = yf.Ticker(ticker)\n",
    "    options = stock.option_chain(expiry)\n",
    "    \n",
    "    # Filter Call und Put für den gegebenen Strike\n",
    "    calls = options.calls\n",
    "    puts = options.puts\n",
    "    \n",
    "    call_price = calls[calls['strike'] == strike]['lastPrice'].values\n",
    "    put_price = puts[puts['strike'] == strike]['lastPrice'].values\n",
    "    \n",
    "    if len(call_price) == 0 or len(put_price) == 0:\n",
    "        raise ValueError(\"Keine passenden Optionen gefunden.\")\n",
    "    \n",
    "    return call_price[0], put_price[0]\n",
    "\n",
    "\n",
    "def get_stock_price(ticker):\n",
    "    stock = yf.Ticker(ticker)\n",
    "    return stock.history(period=\"1d\")['Close'].iloc[-1]\n",
    "\n",
    "\n",
    "def calculate_risk_free_rate(S, K, C, P, T):\n",
    "    try:\n",
    "        r = - (1 / T) * np.log((K * (P - C)) / S)\n",
    "        return r\n",
    "    except ValueError:\n",
    "        return None\n",
    "\n",
    "ticker = \"AAPL\"\n",
    "ticker2 = yf.Ticker(ticker)\n",
    "expirations = ticker2.options\n",
    "strike = 200  # Strike Preis\n",
    "expiry = '2026-01-16'\n",
    "# df = ticker.option_chain(expiry)\n",
    "# df.calls[df.calls[\"strike\"] == strike]\n",
    "\n",
    "expiry_date = datetime.strptime(expiry, \"%Y-%m-%d\")\n",
    "today = datetime.today()\n",
    "T = (expiry_date - today- timedelta(1)).days / 365\n",
    "S = get_stock_price(ticker)\n",
    "print(S)\n",
    "C, P = get_option_prices(ticker, strike, expiry)\n",
    "print(C, P)\n",
    "# Risikofreien Zins berechnen\n",
    "r = calculate_risk_free_rate(S, strike, C, P, T)\n",
    "print(f\"Risikofreier Zinssatz für {ticker}: {r:.4%}\")\n"
   ]
  },
  {
   "cell_type": "code",
   "execution_count": 15,
   "metadata": {},
   "outputs": [
    {
     "data": {
      "text/plain": [
       "('2025-02-21',\n",
       " '2025-02-28',\n",
       " '2025-03-07',\n",
       " '2025-03-14',\n",
       " '2025-03-21',\n",
       " '2025-03-28',\n",
       " '2025-04-17',\n",
       " '2025-05-16',\n",
       " '2025-06-20',\n",
       " '2025-07-18',\n",
       " '2025-08-15',\n",
       " '2025-09-19',\n",
       " '2025-10-17',\n",
       " '2025-12-19',\n",
       " '2026-01-16',\n",
       " '2026-03-20',\n",
       " '2026-06-18',\n",
       " '2026-12-18',\n",
       " '2027-01-15',\n",
       " '2027-06-17')"
      ]
     },
     "execution_count": 15,
     "metadata": {},
     "output_type": "execute_result"
    }
   ],
   "source": [
    "expirations"
   ]
  },
  {
   "cell_type": "code",
   "execution_count": null,
   "metadata": {},
   "outputs": [],
   "source": []
  }
 ],
 "metadata": {
  "kernelspec": {
   "display_name": "trade",
   "language": "python",
   "name": "python3"
  },
  "language_info": {
   "codemirror_mode": {
    "name": "ipython",
    "version": 3
   },
   "file_extension": ".py",
   "mimetype": "text/x-python",
   "name": "python",
   "nbconvert_exporter": "python",
   "pygments_lexer": "ipython3",
   "version": "3.12.2"
  }
 },
 "nbformat": 4,
 "nbformat_minor": 2
}

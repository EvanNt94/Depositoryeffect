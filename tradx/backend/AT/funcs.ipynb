{
 "cells": [
  {
   "cell_type": "code",
   "execution_count": 6,
   "metadata": {},
   "outputs": [],
   "source": [
    "import json, os, re\n",
    "\n",
    "\n",
    "p= \"/Users/a2/code/fin/trade/data/fundamentals/company/info\"\n",
    "files = os.listdir(p)\n",
    "tickers = []\n",
    "for file in files:\n",
    "    try:\n",
    "        ticker = re.match(r\"([A-Z0-9]+)\\.json\", file).group(1)\n",
    "    except AttributeError as E:\n",
    "        print(file)\n",
    "    tickers.append(ticker)\n",
    "\n",
    "with open(\"/Users/a2/code/fin/trade/static/tickers/AT_ticker_en.json\", \"w\") as f:\n",
    "    json.dump(tickers, f)"
   ]
  },
  {
   "cell_type": "code",
   "execution_count": null,
   "metadata": {},
   "outputs": [],
   "source": []
  }
 ],
 "metadata": {
  "kernelspec": {
   "display_name": "trade",
   "language": "python",
   "name": "python3"
  },
  "language_info": {
   "codemirror_mode": {
    "name": "ipython",
    "version": 3
   },
   "file_extension": ".py",
   "mimetype": "text/x-python",
   "name": "python",
   "nbconvert_exporter": "python",
   "pygments_lexer": "ipython3",
   "version": "3.12.2"
  }
 },
 "nbformat": 4,
 "nbformat_minor": 2
}

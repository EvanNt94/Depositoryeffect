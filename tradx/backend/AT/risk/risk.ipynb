{
 "cells": [
  {
   "cell_type": "code",
   "execution_count": null,
   "metadata": {},
   "outputs": [],
   "source": [
    "import yfinance as yf, os, json\n",
    "with open(\"/Users/a2/code/fin/trade/static/tickers/AT_ticker_en.json\") as f:\n",
    "    tickers = json.load(f)\n",
    "\n",
    "\n",
    "for t in tickers:\n",
    "    tt = yf.Ticker(t+\".AT\")\n",
    "    info = tt.info\n",
    "    "
   ]
  }
 ],
 "metadata": {
  "kernelspec": {
   "display_name": "trade",
   "language": "python",
   "name": "python3"
  },
  "language_info": {
   "name": "python",
   "version": "3.12.2"
  }
 },
 "nbformat": 4,
 "nbformat_minor": 2
}

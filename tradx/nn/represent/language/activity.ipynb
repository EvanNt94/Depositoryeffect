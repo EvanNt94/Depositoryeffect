{
 "cells": [
  {
   "cell_type": "markdown",
   "metadata": {},
   "source": [
    "https://chatgpt.com/share/67361db3-25ec-800f-b2c8-590090d1c46d"
   ]
  },
  {
   "cell_type": "code",
   "execution_count": 6,
   "metadata": {},
   "outputs": [],
   "source": [
    "from sentence_transformers import SentenceTransformer, util\n",
    "import os,json, sys"
   ]
  },
  {
   "cell_type": "code",
   "execution_count": 2,
   "metadata": {},
   "outputs": [],
   "source": [
    "embedder = SentenceTransformer(\"all-MiniLM-L6-v2\")"
   ]
  },
  {
   "cell_type": "code",
   "execution_count": 3,
   "metadata": {},
   "outputs": [],
   "source": [
    "p = \"/Users/a2/code/fin/trade/data/fundamentals/company/info\"\n",
    "activity_list = []\n",
    "names = []\n",
    "for file in os.listdir(p):\n",
    "    if not file.endswith(\".json\"):\n",
    "        continue\n",
    "    with open(os.path.join(p, file), \"r\") as f:\n",
    "        dd = json.load(f)\n",
    "    activity_list.append(dd[\"activity\"])\n",
    "    names.append(file.split(\".\")[0])"
   ]
  },
  {
   "cell_type": "code",
   "execution_count": 4,
   "metadata": {},
   "outputs": [
    {
     "name": "stderr",
     "output_type": "stream",
     "text": [
      "/var/folders/b8/lm9df1990136tf1mwp969wy80000gn/T/ipykernel_41994/564167345.py:8: UserWarning: Creating a tensor from a list of numpy.ndarrays is extremely slow. Please consider converting the list to a single numpy.ndarray with numpy.array() before converting to a tensor. (Triggered internally at /Users/runner/work/pytorch/pytorch/pytorch/torch/csrc/utils/tensor_new.cpp:281.)\n",
      "  embeddings = torch.tensor(embeddings)\n"
     ]
    }
   ],
   "source": [
    "import numpy as np, pandas as pd\n",
    "from sklearn.manifold import TSNE\n",
    "import plotly.express as px\n",
    "import torch\n",
    "\n",
    "labels = activity_list\n",
    "embeddings = [embedder.encode(label) for label in labels]\n",
    "embeddings = torch.tensor(embeddings)\n"
   ]
  },
  {
   "cell_type": "code",
   "execution_count": 7,
   "metadata": {},
   "outputs": [
    {
     "name": "stdout",
     "output_type": "stream",
     "text": [
      "IATR\n",
      "MEDIC\n",
      "INTEK\n",
      "LAMPS\n",
      "QUAL\n"
     ]
    },
    {
     "ename": "SystemExit",
     "evalue": "",
     "output_type": "error",
     "traceback": [
      "An exception has occurred, use %tb to see the full traceback.\n",
      "\u001b[0;31mSystemExit\u001b[0m\n"
     ]
    },
    {
     "name": "stderr",
     "output_type": "stream",
     "text": [
      "/Users/a2/anaconda3/envs/trade/lib/python3.12/site-packages/IPython/core/interactiveshell.py:3585: UserWarning: To exit: use 'exit', 'quit', or Ctrl-D.\n",
      "  warn(\"To exit: use 'exit', 'quit', or Ctrl-D.\", stacklevel=1)\n"
     ]
    }
   ],
   "source": [
    "for n, emb in enumerate(embeddings):\n",
    "    \n",
    "    hits = util.semantic_search(embeddings[n], embeddings)[0]\n",
    "    for i in range(5):\n",
    "        embedding = hits[i]\n",
    "        print(names[hits[i]['corpus_id']])\n",
    "    sys.exit()"
   ]
  },
  {
   "cell_type": "code",
   "execution_count": 8,
   "metadata": {},
   "outputs": [
    {
     "data": {
      "text/plain": [
       "['Medical centre.',\n",
       " 'Wholesale & retail trade in fashion brands (ready garments, shoes, bags and accessories). Exclusive representation of foreign fashion brands in Greece & Cyprus. Textile trading (fabrics, yarns) Outdoor heating and cooling trade. ',\n",
       " 'Production of plastic packaging film.',\n",
       " 'Financial Holdings Company',\n",
       " \"PREMIA Properties is a real estate investment and management company and its shares are traded on the Athens Stock Exchange. PREMIA's investment portfolio comprises assets in logistics, social real estate (education) and big-box commercial properties (supermarket) sectors. \",\n",
       " \"Production of, and trading in, toys, prams and other children's accessories including clothing.\",\n",
       " 'Production, processing and distribution of knitted fabrics. Dyeing and finishing services to other fabrics producers.',\n",
       " 'ΤΟ PLAN DEVELOP, SELL AND EXPLOIT COMPUTER SOFTWARE EITHER STANDARDIZES OR MADE TO ORDER.TO CONSULT AND GIVE THEIR EXPERTISE TO COMPANIES CORPORATIONS AND OTHER PUBLIC OR PRIVATE ORGANIZATIONS ON MATTERS RELATED TO TH APPLICATION AND PROPER USE OF THE COMPUTER SCIENCE.',\n",
       " 'Supply of, and trade in, toys, electronic games, board games, etc.',\n",
       " 'LAMDA Development S.A., member of Latsis Group, is a holding company specialising in the development, investment and management of real estate properties. It is the leading real estate developer in Greece and the undisputed leader in the shopping centres sector, with successful diversification in the sectors of office and residential spaces. The company\\x92s investment portfolio includes: The Ellinikon \\x96 Agios Kosmas Metropolitan Park area that is currently being redeveloped (urban regeneration of the former Ellinikon airport and upgrading of the coastal front, which constitutes the largest private investment in Greece) four retail and leisure centers, The Mall Athens, Golden Hall and Designer Outlet Athens in Athens and Mediterranean Cosmos in Thessaloniki (total GLA 178,000 sq.m.), Flisvos Marina in Faliro and Ag. Kosmas Marina in Elliniko, office buildings and residential complexes.',\n",
       " 'Banking and Financial Services',\n",
       " 'Consultancy services and technological solutions',\n",
       " \"1. PRODUCTION, COMMERCE, REPRESENTATION, IMPORT, EXPORT KAI MAINTENANCE OF COMPUTER SOFTWARE, 2. INDUSTRIAL PRODUCTION, COMMERCE, REPRESENTATION, IMPROT, EXPORT AND MAINTENANCE OF COMPUTERS, PERIPHERALS AND OTHER RELEVANT INFORMATION TECHNOLOGY EGUIPMENT, 3. DATA DISTRIBUTION SERVICES THROUGH SELECTED OR OTHER TELECOMMUNICATION NETWORKS AND THE REPRESENTATION OF LOCAL OF FOREIGN DATA DISTRIBUTION SERVICES COMPANIES, 4. RESEARCH, DEVELOPMENT, STUDY AND EXECUTION OF SOFTWARE AND ELECTRONIC USES OF PUBLIC SECTOR, FOR PUBLIC AND PRIVATE LEGAL ENTITIES, UTILITY ORGANIZATIONS, PUBLIC COMPANIES AND PRIVATE INDIVIDUALS, AS WELL AS THE PURCHASE AND IMPORT OF ALL REQUIRED PARTS FOR TH EXECUTION OF THOSE PROJECTS, 5. PARTICIPATION IN CONTESTS OF ANY KIND OF THW PUBLIC SECTOR, FOR PUBLIC AND PRIVATE LEGAL ENTITIES, UTILITY ORGANIZATIONS, PUBLIC COMPANIES AS LEAD MANAGER OR SUBCONTRACTOR, 6. SEMINAR COORDINATION IN ANY SECTOR OF INFORMATION TECHNOLOGY FOR THE DEVELOPMENT OF COMPANY'S ACTIVITIES AND ITS AIMS.\",\n",
       " 'Manufacture of food, personal care and household cleaning products; also raw materials used in their production.',\n",
       " 'General trading activities in the field of telecommunications.',\n",
       " 'Import and distribution of glassware and electrical appliances.',\n",
       " \"Intracom Holdings is the parent company of a group, specializing in high tech IT solutions and services, advanced defense electronics systems, constructions, real estate, and renewable energy. The main core companies of the Group are: INTRASOFT INTERNATIONAL, a leading European IT solutions and services group to governments, public organizations and private enterprises; IDE (INTRACOM DEFENSE), the leading defense electronics supplier in Greece; INTRAKAT, one of the top five construction companies in Greece in advanced technology infrastructure, and INTRADEVELOPMENT, the Group's real estate arm \",\n",
       " 'Engineering contractor undertaking private and public sector projects.',\n",
       " 'Information technology products and computer peripherals.',\n",
       " '',\n",
       " 'ELLAKTOR Group is one of the biggest infrastructure groups in Greece with international presence and long-term investments in key fields, including construction, concessions, waste management , renewable energy and real estate development.',\n",
       " 'Civil engineering contractor undertaking private and public sector projects; specialising in power plants, roads, harbours and other infrastructure projects.',\n",
       " \"The company' s business comprises two principal segments: electricity generation using Renewable Sources (RES) and construction services relating to RES projects as well as other public and private sector, holding a 6th class construction certificate.\",\n",
       " 'Retailing of plumbing fittings. Representation of other producers of these products.',\n",
       " 'Manufacture and supply of plastic sheeting and polyethylene pipes for agricultural purposes.',\n",
       " 'Establishment and/or participation in legal entities in Greece and abroad. The provision of advisory and management and coordination services. The management of its assets. Investments, in general, legally, in particular through purchase of companies or portfolios and through participation in increases in the share capital of other companies. ',\n",
       " 'Oil refinery. Distribution of petroleum products.',\n",
       " 'Printer, supplier of printing materials and publisher.',\n",
       " 'Participation in companies and undertakings.',\n",
       " 'Land development; operation of quarries.',\n",
       " 'Intergrator of information systems.',\n",
       " 'Aegean Airlines is a full service airline. The company carriers passengers through an extensive network of domestic and international scheduled routes and operates seasonal chartered flights on a substantial number of Greek and international destinations.',\n",
       " 'Manufacture and import of pharmaceuticals and veterinary products and related research and development activities.',\n",
       " 'Construction, trading and sale of all kinds of furniture.',\n",
       " '',\n",
       " 'Mining of marble and granite.',\n",
       " 'Computer software developer and supplier.',\n",
       " 'Production of flour and semolina.',\n",
       " 'Manufacture of steel pipes.',\n",
       " 'Portfolio management of shares, bonds, mutual funds, etc, according to L. 1969/91 (art.1).',\n",
       " 'Production and processing of cotton and other textile raw materials, and of yarns and other knitting materials; also trading in cotton products and processing of third party textile products.',\n",
       " 'The Company operates as a REIC (Real Estate Investment Company) with the exclusive purpose to acquire and manage (a) real estate properties, options to acquire i) properties through promissory contracts and ii) shares of real estate companies within the meaning of the cases a-c, paragraph 2, article 22 of Law 2778/1999, as amended and supplemented each time, and (b) money market instruments under the provisions of article 3 of Law 3283/2004. ',\n",
       " 'Civil engineering contractor undertaking private and public sector projects including power generation plant, marine works, roads, etc.',\n",
       " '1993',\n",
       " '\\xa0',\n",
       " 'Production and import/export of wood, wooden furniture and wood products. ',\n",
       " 'Production of, and trade in, ceramic products.',\n",
       " 'Real estate development, project and construction management, technical advisory and facility management.',\n",
       " 'Supply of medical equipment, including analytical laboratory equipment and diagnostic reagents. ',\n",
       " 'The main activities of the Company are anchoring services of vessels, handling cargo, loading and unloading services as well as goods storage and car transportation. The Company is also responsible for the maintenance of port facilities, the supply of port services (water, electricity, etc. supply), for services provided to travelers (coastal and cruise ships) and for renting space to third parties.',\n",
       " 'Holding company of the Athens Stock Exchange and of other companies involved in support of capital market activities.',\n",
       " 'Bank',\n",
       " 'Real estate development.',\n",
       " 'Processing of, and trade in, woollen and cotton products, and other textile raw materials. Clothing manufacture.',\n",
       " 'Planning, Construction Supervision of puplic and private technical projects: buildings, civil works, net projects, mechanical / electrical works, telecommunication projects.',\n",
       " 'ElvalHalcor is a leading global manufacturer of aluminium and copper products. The Company has a strong production base across 17 industrial units in Greece, Bulgaria, Turkey and the Netherlands and a market presence in over 100 countries, while ElvalHalcor is active in many growing markets: Automotive and shipbuilding, Packaging, Energy and power networks, Renewable energy, Industrial applications, Heating, ventilation, air conditioning and refrigeration (HVAC&R), Building and construction.',\n",
       " 'Within the subject of operation, the company shall perform the following activities: 14.11 Extracting stone for construction 14.50 Extractin of other minerals and stone unmentioned elsewhere 26.30 Cutting, shaping and processing of stone 45.11 Pulling down and disassembling of objects, excavations works 45.12 Test drilling and sounding 45.25 Other constructing matters, including specific matters 45.43 Assembling of floor and wall linings, 50.10 Sale of motor vehicles 50.30/1 Wholesale trade on parts and equipment for motor vehicles 50.30/2 Retail sale on parts and equipment for motor vehicles 50.50 Retail sale on motor fuels 51.21 Wholesale trade with cereals, seed and food for livestock food wholesale 51.23 Wholesale trade on livestock 51.24 Wholesale trade with raw, unfinished and finished leather wholesale 51.31 Wholesale trade with fruit and vegetable 51.32 Meat and meat products wholesale 51.34 wholesale trade for alcoholic and other drinks 51.35 Wholesale trade for tobacco products 51.39 Unspecialized wholesale trade on food, drinks and tobacco 51.41 Wholesale trade on textile 51.43 Wholesale trade on electrical devices and radio and TV sets 51.51 Wholesale trade on solid, fluid and gas fuels and similar products 51.53 Wood, constructing materials and sanitary equipment wholesale 51.54 Metallic goods, pipes, devices and equipment for central heating wholesale, e.t.c. The company shall conduct the following activities in the foreign trade traffic: a) Foreign trade with food products b) Foreign trade with non food products c) Representation and mediation in the trade with third persons d) Sale of goods from consignment warehouses e) Reexport.',\n",
       " 'Clothes manufacturer. Holdings in other companies of the sector.',\n",
       " 'The Unibios group focuses on products and technologies for the responsible use of water and energy and the promotion of the Green Economy. Watera International is the main operating subsidiary of the group and it is active in the design, production, installation, maintenance and operation of Water Treatment Systems. Watera International activities include Water Desalination, Industrial Water Treatment, Ultra Pure Water Production, Water for Medical Applications including Dialysis Equipment and Waste Water Processing.',\n",
       " 'Supply of seeds and fertilizers. Also farm operations, agricultural services.',\n",
       " 'Civil engineering contractor undertaking private and public sector projects.',\n",
       " 'Production of dairy products, mainly Greek yogurts and ice-creams. Nationwide distribution network in Greece, comprising of super market chains and small points of sale. Exports to more than 24 countries abroad.',\n",
       " 'Real Estate Investment Company',\n",
       " 'Banking operations of all types.',\n",
       " 'Holding company.',\n",
       " 'BriQ Properties REIC received a license (757/31.05.2016) by the Greek Exchange Commission to operate as an independent real estate investment company. BriQ Properties REIC aims to be a vertically integrated, Greek-focused commercial real estate company that owns and actively manages commercial real estate, applying best in-class strategies.',\n",
       " 'Manufacture and supply of office furniture and accessories.',\n",
       " \"Headquartered in Athens Sarantis Group is a multinational consumer products company having strong presence in Eastern Europe and an expanding geographical footprint through own subsidiaries and strong export activity worldwide. The Group's activity is focused on the production and merchandising of personal care products, cosmetics & fragrances, homecare products as well as health & care, professional and luxury cosmetics products offering in each category high quality brands. With strong activity in 13 countries: Greece, Poland, Romania, Bulgaria, Serbia, Czech Republic, Slovakia, Hungary, Northern Macedonia, Bosnia, Portugal, Ukraine and Russia - the Group maintains its dynamic international presence and a remarkable distribution network of more than 50 countries around the world.\",\n",
       " 'Holding company.',\n",
       " '1994',\n",
       " 'Banking operations of all types.',\n",
       " 'Transformational activity: processing steel coils of various qualities, to transform them into steel sheets or narrower coils (strips). Commercial activity: trading of steel products. Services: These include processing material for third parties as well as commission revenues from the sale of third-party products.',\n",
       " 'Civil engineering contractor undertaking private and public sector projects.',\n",
       " 'Τhe Statute οf the Bank of Greece: \" explicitly states that the Bank\\'s primary objective is price stability \" safeguards the Bank\\' s independence towards the government or any organisation and its accountability to Parliament \" recognizes the Bank\\'s legal integration into the European System of Central Banks The main tasks of the Bank of Greece are related to: \" monetary policy \" policy on the exchange rate of the currency of Greece \" management of the country\\'s official foreign reserves \" issuance of banknotes with the status of legal tender \" prudential supervision on credit institutions and other financial institutions \" smooth operation of payment and securities settlement systems as well as operational reliability and legal safety of means of payment The Bank of Greece also acts as treasurer and fiscal agent for the government. ',\n",
       " 'Importers and distributors of wood and wood products.',\n",
       " '\\xa0',\n",
       " 'The main object of the company is the import, export and distribution of vehicles and engines of any kind, as well as products related to the use and operation of the above.',\n",
       " 'Supply of ship equipment, manufacture of steel cable and other of maritime products.',\n",
       " 'Invest in other companies. The current portfolio of investments focuses on the sectors of on-board entertainment in vessels, fast food, and tourist accommodation. Also maintains a limited presence in the Renewable Energy Sector. ',\n",
       " 'Holding company.',\n",
       " 'Production, operation, management and marketing of PROPO, LOTTO, PROPOGOL, JOKER, BINGO and other games.',\n",
       " 'Assembly and supply of household furniture; also supply of shopfitting materials. Other activities related to decoration of retail sales premises.',\n",
       " 'INTRALOT, a publicly listed company established in 1992, is a leading gaming solutions supplier and operator active in 39 regulated jurisdictions worldwide. With a global workforce of approximately 1,700 employees in 2022, INTRALOT is committed to redefine innovation and quality of services in the lottery and gaming sector, while supporting operators in raising funds for good causes. Uniquely positioned to deliver state-of-the-art technology across geographies, the company has developed an advanced ecosystem that serves all verticals enabling the digital transformation of gaming operators and offering players an unparalleled gaming experience. INTRALOT has been awarded the prestigious Responsible Gaming Framework certification by the World Lottery Association and is certified under the WLA Security Control Standard.',\n",
       " 'Water and sewerage utility.',\n",
       " 'Manufacturing of corrugated paper, boxes and packaging materials.',\n",
       " 'Production and trading of tobacco products.',\n",
       " 'The Issuer is a holding company for the sole purpose of owning, directly or indirectly, shares of shipowning companies or shares of bareboat charterers or ship lessees, of ships of any nationality or flag.',\n",
       " 'Participation in domestic and international companies active in the energy sector.',\n",
       " 'CPLP Shipping Holdings PLC is a holding company established for the sole purpose of acquiring shares of shipping companies or bareboat charterers. The company is a subsidiary of Capital Product Partners L.P. www.capitalpplp.com. The units of Capital Product Partners L.P. are traded on the NASDAQ Stock Exchange under the ticker symbol \"CPLP\". ',\n",
       " 'Import/export and supply of chemical products.',\n",
       " 'Production & Marketing of IT Products, Solutions & Services. It mainly focuses on the areas of Data Analytics, Process Digitization & Workflow, Advanced Observability & APM, Cyber Security, Hybrid IT & Cloud Transformation.',\n",
       " 'Industrial and trading activity in the energy sector in Greece and abroad, as well as in the telecommunications sector. Management and information services towards other companies.',\n",
       " ' The Issuer is a holding company for the sole purpose of owning, directly or indirectly, shares of shipowning companies or shares of bareboat charterers or ship lessees, of ships of any nationality or flag. ',\n",
       " 'a) The undertaking and execution of all technical projects, subcontracting or not b) The undertaking and elaboration of architectural, statical, mechanical, electrical and the overall technical studies, as well as the relevant supervisions c) The construction of multistorey buildings on privately owned or third parties properties d) The purchase, resale and operating of properties e) The take over of domestic or foreign agencies, commercial or technical firms f) The trading of construction materials, materials, tools and machines of domestic or foreign origin, in whichever patern g) The participation in companies of whichever legal entity (Unlimited co, Limited liability co, Societe Anonyme etc) and whichever company structure, as well as the participation and cooperation in other companies (joint venture or not) or companies existing or established domestic or abroad that aim at the same or similar scope as that of the company',\n",
       " 'Exploitation of professional tourist sailing yachts.',\n",
       " '(a) the direct and indirect participation in domestic and/or foreign companies and undertakings, (b) the design, promotion and distribution of insurance products in the name and on behalf of one or more insurance undertakings in the capacity of insurance agent in accordance with the applicable legislation.',\n",
       " 'The provision of water and sewerage services, design, construction, installation, operation, utilization, management, maintenance, extension and renewal of water supply and sewage systems. These activities and projects include the pumping, desalination, treatment, storage, transportation, distribution and management of water, as well as the collection, treatment, storage and management of all kinds of wastewater and the processing, distribution, disposal and management of sewerage products.',\n",
       " 'Production of, and trade in, textile fibres; also trading in consumer goods and agricultural products and machinery.',\n",
       " 'Production and trading of flour and related products.',\n",
       " 'a) Wholesale of liquid and gas fuels of any type i.e all types of petroleum products (diesel oil, heating oil etc), gasoline, lubricants and other similar products produced in Greece or abroad b) Imports and representation of all types of liquid fuels, lubricants and relevant products (as permitted by the law) c) Operation of factories or installations for the production or processing of the previously mentioned items d) Operation of any type of tourist enterprise for its own account or on behalf of third parties e) The management or operation of other similar companies f) The lease of its installationsin whole or in part, or the lease of its rights or privileges to third parties',\n",
       " 'Cenergy Holdings is a Belgian holding company, listed on both Euronext Brussels and Athens Stock Exchange. Its portfolio consists of Corinth Pipeworks and Hellenic Cables, companies positioned at the forefront of energy transfer, renewables and data transmission markets. Corinth Pipeworks is a world leader in steel pipe manufacturing for the oil and gas sector. Hellenic Cables is one of the largest cable producers in Europe, manufacturing power and telecom cables, as well as submarine cables.',\n",
       " 'Import of electrical products and computer software.',\n",
       " 'Supply of machinery for agricultural tractors and cars, including engines, generators and accessories.',\n",
       " 'Operation, management and development of the national telecommunications system.',\n",
       " 'Developer of computer software and multi-media systems.',\n",
       " 'Holding company whose principal investments are in wholly-owned shipping subsidiaries.',\n",
       " '\\xa0',\n",
       " 'Coca-Cola HBC is a growth-focused consumer packaged goods business and strategic bottling partner of The Coca-Cola Company. We open up moments that refresh us all, by creating value for our stakeholders and supporting the socio-economic development of the communities in which we operate. With a vision to be the leading 24/7 beverage partner, we offer drinks for all occasions around the clock and work together with our customers to serve 740 million consumers across a broad geographic footprint of 29 countries. Our portfolio is one of the strongest, broadest and most flexible in the beverage industry, with consumer-leading beverage brands in the sparkling, adult sparkling, juice, water, sport, energy, ready-to-drink tea, coffee, and premium spirits categories. These include Coca-Cola, Coca-Cola Zero Sugar, Fanta, Sprite, Schweppes, Kinley, Costa Coffee, Caffe Vergnano, Valser, FuzeTea, Powerade, Cappy, Monster Energy, Finlandia Vodka, The Macallan, Jack Daniel\\x92s and Grey Goose. We foster an open and inclusive work environment amongst our 32,000 employees and believe that building a more positive environmental impact is integral to our future growth. We rank among the top sustainability performers in ESG benchmarks such as the Dow Jones Sustainability Indices, CDP, MSCI ESG, FTSE4Good and ISS ESG. Coca-Cola HBC has a premium listing on the London Stock Exchange (LSE:CCH) and is listed on the Athens Exchange (ATHEX:EEE). For more information, please visit https://www.coca-colahellenic.com.',\n",
       " 'Trade in, and supply of, steel sheet and related steel products.',\n",
       " 'Industrial production and plastic products distribution which are used in agriculture, in technical constructions, and as row materials in the industry of plastic goods.',\n",
       " 'AIRPORT OPERATION SERVICES',\n",
       " 'Vineyard and wine producer.',\n",
       " '\\xa0',\n",
       " 'Viohalco based in Brussels, Belgium, and is the holding company of a group of companies active in the fields of steel, copper, and aluminium production, processing and trade, as well as in the real estate development sector, representing currently the largest metals group in Greece',\n",
       " 'International trade in ferrous and non-ferrous metals.',\n",
       " 'Manufacture and trade in synthetic fabrics and plastic packaging materials.',\n",
       " 'The production and supply of ready-mixed concrete and related products.',\n",
       " 'Production of, and trade in, plastics products. Holdings in other companies of the sector.',\n",
       " 'General trading and import/export of industrial tools, hydraulic equipment etc.',\n",
       " 'Special purpose company established in order to invest and manage real estate property. The Co is focused on commercial real estate assets and generates revenues either through commercial leases or the sale of portfolio assets.',\n",
       " '2011',\n",
       " 'The Issuer\\'s activities are the acquisition, management of real property and investments in accordance with article 22 of Greek Law 2778/1999 \"On Real Estate Mutual Funds - Real Estate Investment Companies and other provisions, any activity related to the operation of the Company\", under the restrictions of Law no. 2778/1999, as an Alternative Investment Fund Manager (AIFM) with internal management, within the Scope of Greek Law 4209/2013 \"Adaptation of Greek Legislation to Directive 2011/61/EU on Alternative Investment Fund Managers\"',\n",
       " 'Dyeing, spinning and weaving of wool and wool/polyester.',\n",
       " 'Hotel enterprises.',\n",
       " 'Aluminium extrusion industry.',\n",
       " 'TITAN Group is a leading international business in the building and infrastructure materials industry,\\xa0with passionate teams committed to providing innovative solutions for a better world. With most of its activity in the developed markets, the Group employs over 6,000 people and operates in more than 25 countries, holding prominent positions in the US, Europe, including Greece, the Balkans, and the Eastern Mediterranean. The Group also has a joint venture in Brazil. With a 120-year history, TITAN has always fostered a family- and entrepreneurial-oriented culture for its employees and works tirelessly with its customers to meet the modern needs of society while promoting sustainable growth with responsibility and integrity. TITAN has set a net-zero goal for 2050 and has its CO? reduction targets validated by the Science Based Targets initiative (SBTi). The company is listed on Euronext and the Athens Exchange. For more information, visit our website at\\xa0www.titan-cement.com.',\n",
       " 'Ship Mooring services, cargo and passenger transport to and from the Port of Thessaloniki. Establishment, management and operating port infrastructure.',\n",
       " \"The Company's purpose as specified by L. 2367/1995, is to participate in the capital of other companies. To fulfil such purpose, the Company may (i) invest in equity and debt issued by companies in Societe' Anonyme form, or shares issued by Limited Liability Companies, (ii) provide guarantees to investee firms in order for them to raise debt, and (iii) place its liquidity in deposits and/ or financial securities in Greece and abroad. CNL Capital EKES-AIFM is regulated by the Hellenic Capital Market Commission as an Alternative Investment Fund under L. 4209/2013 with license number 2/813/5.4.2018.\",\n",
       " 'Civil engineering and general constructing company specialising in roads, reservoirs, railways, harbours, refineries and similar projects.',\n",
       " 'Production of processed liquid milk ',\n",
       " 'Holding and management company.',\n",
       " 'The Issuer\\'s activities are the acquisition, management of real property and investments in accordance with article 22 of Greek Law 2778/1999 \"On Real Estate Mutual Funds - Real Estate Investment Companies and other provisions, any activity related to the operation of the Company\", under the restrictions of Law no. 2778/1999, as an Alternative Investment Fund Manager (AIFM) with internal management, within the Scope of Greek Law 4209/2013 \"Adaptation of Greek Legislation to Directive 2011/61/EU on Alternative Investment Fund Managers\".',\n",
       " 'Production of steel and aluminium sheet and similar metal and plastic products.',\n",
       " 'The production of several types of flour and flour products',\n",
       " 'a) The marketing and production of every type of merchandise and product in general and especially the marketing of liquid fuels, lubricants, gases, solid fuels and all types of related products b) the proccessing of the above or other type of product c) the marketing and/or production of all forms of energy, such as, for example, electricity, (on condition, as especially for electricity, as long as it is a legal requirement, that the company shares be registered), other forms of innocuous or renewable sources of energy, etc d) All forms of profitable transportation e) the representation of domestic or foreign businesses f) the conduct of any kind of related bussiness g) The study and construction of technical works especially those to do with liquid fuel outlets, car parks, marinas, oil installations, solid fuels, other sources of energy, etc h) The provision of services related to the above i) The participation in existing and/or in com panies of all types that may be formed in the future, of which the ultimate aims of the present company, as well as any other form of collaboration with companies of the above type',\n",
       " 'Imports, representation and trading of music instruments. Printing of music books.',\n",
       " 'To participate in companies and businesses of any form, to establish, govern and manage companies and businesses with any object and under any legal form, to invest in liquid assets and other financial securities and generally to engage in any other similar or comparable activities. ',\n",
       " 'Trade and processing of steel and steel products.',\n",
       " 'Car import and distribution.',\n",
       " 'Holding, Real Estate, Construction.',\n",
       " 'Production of, and trade in, combed cotton yarns and fabrics for shirt manufacture and related activities. ',\n",
       " '1991',\n",
       " 'Real Estate Investment Company',\n",
       " 'Holding Company.']"
      ]
     },
     "execution_count": 8,
     "metadata": {},
     "output_type": "execute_result"
    }
   ],
   "source": [
    "activity_list"
   ]
  },
  {
   "cell_type": "code",
   "execution_count": null,
   "metadata": {},
   "outputs": [],
   "source": []
  },
  {
   "cell_type": "code",
   "execution_count": null,
   "metadata": {},
   "outputs": [],
   "source": []
  }
 ],
 "metadata": {
  "kernelspec": {
   "display_name": "trade",
   "language": "python",
   "name": "python3"
  },
  "language_info": {
   "codemirror_mode": {
    "name": "ipython",
    "version": 3
   },
   "file_extension": ".py",
   "mimetype": "text/x-python",
   "name": "python",
   "nbconvert_exporter": "python",
   "pygments_lexer": "ipython3",
   "version": "3.12.2"
  }
 },
 "nbformat": 4,
 "nbformat_minor": 2
}

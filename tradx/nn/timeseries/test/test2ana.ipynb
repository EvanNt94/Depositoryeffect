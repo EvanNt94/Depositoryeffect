{
 "cells": [
  {
   "cell_type": "code",
   "execution_count": null,
   "metadata": {},
   "outputs": [],
   "source": [
    "# hier ist die testumgebung für zahlen\n",
    "import matplotlib.pyplot as plt\n",
    "import numpy as np\n",
    "import pandas as pd\n",
    "import os\n",
    "from chronos import ChronosPipeline\n"
   ]
  },
  {
   "cell_type": "code",
   "execution_count": null,
   "metadata": {},
   "outputs": [],
   "source": [
    "\n",
    "os.environ[\"PYTORCH_ENABLE_MPS_FALLBACK\"] = \"1\"\n",
    "import torch\n",
    "pipeline = ChronosPipeline.from_pretrained(\n",
    "  \"amazon/chronos-t5-large\",\n",
    "  device_map=\"cpu\",\n",
    "  torch_dtype=torch.bfloat16,\n",
    ")\n"
   ]
  },
  {
   "cell_type": "code",
   "execution_count": null,
   "metadata": {},
   "outputs": [],
   "source": [
    "\n",
    "# we want a plot with percent in range for \n",
    "import random\n",
    "# daten\n",
    "import os, json\n",
    "wd = \"/home/a2/code/fin/tradingbot/data/stocks\"\n",
    "sxsx = os.listdir(wd)\n",
    "\n"
   ]
  },
  {
   "cell_type": "code",
   "execution_count": 1,
   "metadata": {},
   "outputs": [
    {
     "data": {
      "text/plain": [
       "'jd'"
      ]
     },
     "execution_count": 1,
     "metadata": {},
     "output_type": "execute_result"
    }
   ],
   "source": [
    "a = \"asjd\"\n",
    "a[2:]"
   ]
  },
  {
   "cell_type": "code",
   "execution_count": null,
   "metadata": {},
   "outputs": [],
   "source": [
    "\n",
    "with open(\"prediction.json\", \"r\") as f:\n",
    "    store = json.load(f) # content: {\"name\", \"ctxt_len\", \"prediction\"}\n",
    "import plotly.graph_objects as go\n",
    "prediction_length = 25\n",
    "count_arr = [0 for _ in range(25)]\n",
    "count_5 = 0\n",
    "boolean_count_5d_return = 0\n",
    "for s in sxsx:\n",
    "    for p in store:\n",
    "        if p[\"name\"] == s:\n",
    "            break\n",
    "    else:\n",
    "        continue  \n",
    "    p = os.path.join(wd, s)\n",
    "    df = pd.read_csv(p)\n",
    "    size = len(df)\n",
    "    t_main = torch.tensor(df[\"Close\"]) # here we try to randomize days to minimize makro\n",
    "    context = t_main[p[\"ctxt_len\"]:] # correct name \n",
    "\n",
    "    forecast = p[\"prediction\"]\n",
    "\n",
    "    low, median, high = np.quantile(forecast[0].numpy(), [0.1, 0.5, 0.9], axis=0)\n",
    "    r = t_main[-prediction_length:] # real data\n",
    "    # perc of in 80% interval for 25 time steps\n",
    "    b_in_interval = True\n",
    "    # 5d acc\n",
    "    last_val = context[-1] # referenzwert\n",
    "    fifth_day_interval = (low[4], high[4])\n",
    "    respective_returns = ((fifth_day_interval[0]-last_val)/last_val, (fifth_day_interval[1]-last_val)/last_val)\n",
    "    real_return = (t_main[-21]-last_val)/last_val\n",
    "    if real_return>respective_returns[0] and real_return<respective_returns[1]:\n",
    "        count_5 += 1\n",
    "    if (abs(respective_returns[0])-abs(respective_returns[1]) < 0):\n",
    "        if real_return > 0:\n",
    "            boolean_count_5d_return += 1\n",
    "    else:\n",
    "        if real_return<0:\n",
    "            boolean_count_5d_return += 1\n",
    "\n",
    "    for n, i in enumerate(r):\n",
    "        if not (i > low[n] and i < high[n]):\n",
    "            b_in_interval = False\n",
    "            break\n",
    "    if b_in_interval:\n",
    "        count_arr[n] += 1\n",
    "    \n",
    "# maybe also look at 80 perc interval and try to put a 5 day acuracy\n",
    "    # plot this shit \n",
    "my_length = len(sxsx)\n",
    "print(f\"after 5 days in interval: {count_5/my_length}\")\n",
    "print(f\"after 5 days right estimate of up/down: {boolean_count_5d_return/my_length}\")\n",
    "count_arr = list(map(lambda x: x/my_length, count_arr))\n",
    "fig = go.Figure()\n",
    "fig.add_trace(go.Scatter(y=count_arr, mode='lines+markers', name='80 perc interval acc'))\n",
    "fig.show()\n",
    "\n",
    "# 0.12\n",
    "# save data\n",
    "\n",
    "with open(\"predictions.json\", \"w\") as f:\n",
    "    json.dump(store, f)\n"
   ]
  },
  {
   "cell_type": "code",
   "execution_count": null,
   "metadata": {},
   "outputs": [],
   "source": [
    "\n",
    "with open(\"predictions.json\", \"w\") as f:\n",
    "    json.dump(store, f)\n",
    "df = pd.read_csv(p)\n",
    "len(df)\n",
    "a = [0,0,0,0,0,0]\n",
    "a[-0]\n"
   ]
  }
 ],
 "metadata": {
  "kernelspec": {
   "display_name": "trade",
   "language": "python",
   "name": "python3"
  },
  "language_info": {
   "codemirror_mode": {
    "name": "ipython",
    "version": 3
   },
   "file_extension": ".py",
   "mimetype": "text/x-python",
   "name": "python",
   "nbconvert_exporter": "python",
   "pygments_lexer": "ipython3",
   "version": "3.12.2"
  }
 },
 "nbformat": 4,
 "nbformat_minor": 2
}
